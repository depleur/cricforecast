{
 "cells": [
  {
   "cell_type": "code",
   "execution_count": 1,
   "metadata": {},
   "outputs": [
    {
     "data": {
      "text/plain": [
       "Index(['match_id', 'inning', 'bowling_team', 'batter', 'batter_total_balls',\n",
       "       'batter_SR', 'batter_score', 'dismissal_kind', 'date', 'match_type',\n",
       "       'venue', 'no_of_right_arm_pacers_faced', 'no_of_left_arm_pacers_faced',\n",
       "       'no_of_right_arm_offspinners_faced',\n",
       "       'no_of_right_arm_legspinners_faced', 'no_of_left_arm_legspinners_faced',\n",
       "       'no_of_left_arm_offspinners_faced', 'score_last_5', 'balls_last_5',\n",
       "       'score_last_1', 'balls_last_1', 'score_last_2', 'balls_last_2',\n",
       "       'score_last_3', 'balls_last_3', 'score_last_4', 'balls_last_4'],\n",
       "      dtype='object')"
      ]
     },
     "execution_count": 1,
     "metadata": {},
     "output_type": "execute_result"
    }
   ],
   "source": [
    "import pandas as pd\n",
    "import numpy as np\n",
    "import matplotlib.pyplot as plt\n",
    "import seaborn as sns\n",
    "from sklearn.model_selection import train_test_split\n",
    "\n",
    "# Load the data\n",
    "df = pd.read_csv('data/aggregated_df.csv')\n",
    "df.columns"
   ]
  },
  {
   "cell_type": "code",
   "execution_count": 2,
   "metadata": {},
   "outputs": [],
   "source": [
    "df.drop(columns=['batter_total_balls', \"batter_SR\", \"dismissal_kind\", \"match_id\", \"date\"], inplace=True)"
   ]
  },
  {
   "cell_type": "code",
   "execution_count": 3,
   "metadata": {},
   "outputs": [
    {
     "data": {
      "text/plain": [
       "Index(['inning', 'bowling_team', 'batter', 'match_type', 'venue',\n",
       "       'no_of_right_arm_pacers_faced', 'no_of_left_arm_pacers_faced',\n",
       "       'no_of_right_arm_offspinners_faced',\n",
       "       'no_of_right_arm_legspinners_faced', 'no_of_left_arm_legspinners_faced',\n",
       "       'no_of_left_arm_offspinners_faced', 'score_last_5', 'balls_last_5',\n",
       "       'score_last_1', 'balls_last_1', 'score_last_2', 'balls_last_2',\n",
       "       'score_last_3', 'balls_last_3', 'score_last_4', 'balls_last_4',\n",
       "       'batter_score'],\n",
       "      dtype='object')"
      ]
     },
     "execution_count": 3,
     "metadata": {},
     "output_type": "execute_result"
    }
   ],
   "source": [
    "df = df.reindex(columns=[col for col in df.columns if col != 'batter_score'] + ['batter_score'])\n",
    "df.columns"
   ]
  },
  {
   "cell_type": "code",
   "execution_count": 4,
   "metadata": {},
   "outputs": [
    {
     "name": "stderr",
     "output_type": "stream",
     "text": [
      "/var/folders/xn/1qlh6svd3jz7qk3ry827bz780000gn/T/ipykernel_57095/3016620652.py:3: SettingWithCopyWarning: \n",
      "A value is trying to be set on a copy of a slice from a DataFrame\n",
      "\n",
      "See the caveats in the documentation: https://pandas.pydata.org/pandas-docs/stable/user_guide/indexing.html#returning-a-view-versus-a-copy\n",
      "  gdf.drop(columns=['batter'], inplace=True)\n"
     ]
    }
   ],
   "source": [
    "player = 'V Kohli'\n",
    "gdf = df[df['batter'] == player]\n",
    "gdf.drop(columns=['batter'], inplace=True)\n",
    "\n",
    "gdf = gdf.fillna(-1).astype({\"no_of_left_arm_offspinners_faced\": 'int', \"score_last_5\": 'int', \"balls_last_5\": 'int', \"score_last_1\": 'int', \"balls_last_1\": 'int', \"score_last_2\": 'int', \"balls_last_2\": 'int', \"score_last_3\": 'int', \"balls_last_3\": 'int', \"score_last_4\": 'int', \"balls_last_4\": 'int'})\n",
    "\n",
    "#print(gdf.dtypes)"
   ]
  },
  {
   "cell_type": "code",
   "execution_count": 5,
   "metadata": {},
   "outputs": [],
   "source": [
    "X = gdf.iloc[:, :-1].values\n",
    "y = gdf.iloc[:, -1].values\n",
    "\n",
    "from sklearn.compose import ColumnTransformer\n",
    "from sklearn.preprocessing import OneHotEncoder\n",
    "ct = ColumnTransformer(transformers = [('encoder', OneHotEncoder(), [1])], remainder = 'passthrough')\n",
    "ct1 = ColumnTransformer(transformers = [('encoder', OneHotEncoder(), [-18])], remainder = 'passthrough')\n",
    "ct2 = ColumnTransformer(transformers = [('encoder', OneHotEncoder(), [-17])], remainder = 'passthrough')\n",
    "X = np.array(ct.fit_transform(X))\n",
    "X = np.array(ct1.fit_transform(X))\n",
    "X = np.array(ct2.fit_transform(X))"
   ]
  },
  {
   "cell_type": "code",
   "execution_count": 6,
   "metadata": {},
   "outputs": [],
   "source": [
    "y = y.reshape(len(y), 1)"
   ]
  },
  {
   "cell_type": "code",
   "execution_count": 7,
   "metadata": {},
   "outputs": [],
   "source": [
    "from sklearn.model_selection import train_test_split\n",
    "X_train, X_test, y_train, y_test = train_test_split(X, y, test_size = 0.2, random_state = 5)"
   ]
  },
  {
   "cell_type": "code",
   "execution_count": 8,
   "metadata": {},
   "outputs": [],
   "source": [
    "from sklearn.preprocessing import StandardScaler\n",
    "sc_X = StandardScaler()\n",
    "sc_y = StandardScaler()\n",
    "X_train[:, X_train.shape[1] - 17:] = sc_X.fit_transform(X_train[:, X_train.shape[1] - 17:])\n",
    "X_test[:, X_train.shape[1] - 17:] = sc_X.transform(X_test[:, X_train.shape[1] - 17:])\n",
    "y_train = sc_y.fit_transform(y_train)"
   ]
  },
  {
   "cell_type": "code",
   "execution_count": 9,
   "metadata": {},
   "outputs": [],
   "source": [
    "y_train = y_train.ravel()\n",
    "y_test = y_test.ravel()"
   ]
  },
  {
   "cell_type": "code",
   "execution_count": 10,
   "metadata": {},
   "outputs": [],
   "source": [
    "def MLR(X_train, y_train, X_test, y_test):\n",
    "    from sklearn.linear_model import LinearRegression\n",
    "    from sklearn.metrics import r2_score\n",
    "    regressor = LinearRegression()\n",
    "    regressor.fit(X_train, y_train)\n",
    "    y_pred = sc_y.inverse_transform(regressor.predict(X_test).reshape(-1,1))\n",
    "    np.set_printoptions(precision=2)\n",
    "    print(np.concatenate((y_pred.reshape(len(y_pred), 1), y_test.reshape(len(y_test), 1)), 1))\n",
    "    print(\"r2_score is \"+ str(r2_score(y_test, y_pred)))\n",
    "\n",
    "    # Reshape y_pred and y_test to 1D arrays\n",
    "    y_pred_1d = y_pred.ravel()\n",
    "    y_test_1d = y_test.ravel()\n",
    "\n",
    "    # Create a scatter plot of predicted values vs. actual values\n",
    "    X = np.linspace(1,len(y_pred_1d) + 1, len(y_pred_1d))\n",
    "    Y = y_test_1d - y_pred_1d\n",
    "    plt.bar(X, Y, color = 'red', label = 'Predicted Values')\n",
    "    plt.xlabel('Test set number')\n",
    "    plt.ylabel('Actual - Prediction')\n",
    "    plt.title('Performance')\n",
    "    plt.show()"
   ]
  },
  {
   "cell_type": "code",
   "execution_count": 11,
   "metadata": {},
   "outputs": [],
   "source": [
    "def DT(X_train, y_train, X_test, y_test):\n",
    "    from sklearn.tree import DecisionTreeRegressor\n",
    "    from sklearn.metrics import r2_score\n",
    "    regressor = DecisionTreeRegressor(random_state = 0)\n",
    "    regressor.fit(X_train,y_train)\n",
    "    y_pred = sc_y.inverse_transform(regressor.predict(X_test).reshape(-1,1))\n",
    "    np.set_printoptions(precision=2)\n",
    "    print(np.concatenate((y_pred.reshape(len(y_pred), 1), y_test.reshape(len(y_test), 1)), 1))\n",
    "    print(\"r2_score is \"+ str(r2_score(y_test, y_pred)))\n",
    "\n",
    "    # Reshape y_pred and y_test to 1D arrays\n",
    "    y_pred_1d = y_pred.ravel()\n",
    "    y_test_1d = y_test.ravel()\n",
    "\n",
    "    # Create a scatter plot of predicted values vs. actual values\n",
    "    X = np.linspace(1,len(y_pred_1d) + 1, len(y_pred_1d))\n",
    "    Y = y_test_1d - y_pred_1d\n",
    "    plt.bar(X, Y, color = 'red', label = 'Predicted Values')\n",
    "    plt.xlabel('Test set number')\n",
    "    plt.ylabel('Actual - Prediction')\n",
    "    plt.title('Performance')\n",
    "    plt.show()"
   ]
  },
  {
   "cell_type": "code",
   "execution_count": 12,
   "metadata": {},
   "outputs": [],
   "source": [
    "def RF(X_train, y_train, X_test, y_test):    \n",
    "    from sklearn.ensemble import RandomForestRegressor\n",
    "    from sklearn.metrics import r2_score\n",
    "    regressor = RandomForestRegressor(n_estimators = 10, random_state = 0)\n",
    "    regressor.fit(X_train, y_train)\n",
    "    y_pred = sc_y.inverse_transform(regressor.predict(X_test).reshape(-1,1))\n",
    "    np.set_printoptions(precision=2)\n",
    "    print(np.concatenate((y_pred.reshape(len(y_pred), 1), y_test.reshape(len(y_test), 1)), 1))\n",
    "    print(\"r2_score is \"+ str(r2_score(y_test, y_pred)))\n",
    "    \n",
    "    # Reshape y_pred and y_test to 1D arrays\n",
    "    y_pred_1d = y_pred.ravel()\n",
    "    y_test_1d = y_test.ravel()\n",
    "\n",
    "    # Create a scatter plot of predicted values vs. actual values\n",
    "    X = np.linspace(1,len(y_pred_1d) + 1, len(y_pred_1d))\n",
    "    Y = y_test_1d - y_pred_1d\n",
    "    plt.bar(X, Y, color = 'red', label = 'Predicted Values')\n",
    "    plt.xlabel('Test set number')\n",
    "    plt.ylabel('Actual - Prediction')\n",
    "    plt.title('Performance')\n",
    "    plt.show()"
   ]
  },
  {
   "cell_type": "code",
   "execution_count": 13,
   "metadata": {},
   "outputs": [],
   "source": [
    "def SVR(X_train, y_train, X_test, y_test):    \n",
    "    from sklearn.svm import SVR\n",
    "    from sklearn.metrics import r2_score\n",
    "    import matplotlib.pyplot as plt\n",
    "    regressor = SVR(kernel = 'rbf')\n",
    "    regressor.fit(X_train, y_train)\n",
    "    y_pred = sc_y.inverse_transform(regressor.predict(X_test).reshape(-1,1))\n",
    "    np.set_printoptions(precision=2)\n",
    "    print(np.concatenate((y_pred.reshape(len(y_pred), 1), y_test.reshape(len(y_test), 1)), 1))\n",
    "    print(\"r2_score is \"+ str(r2_score(y_test, y_pred)))\n",
    "\n",
    "    # Reshape y_pred and y_test to 1D arrays\n",
    "    y_pred_1d = y_pred.ravel()\n",
    "    y_test_1d = y_test.ravel()\n",
    "\n",
    "    # Create a scatter plot of predicted values vs. actual values\n",
    "    X = np.linspace(1,len(y_pred_1d) + 1, len(y_pred_1d))\n",
    "    Y = y_test_1d - y_pred_1d\n",
    "    plt.bar(X, Y, color = 'red', label = 'Predicted Values')\n",
    "    plt.xlabel('Test set number')\n",
    "    plt.ylabel('Actual - Prediction')\n",
    "    plt.title('Performance')\n",
    "    plt.show()"
   ]
  },
  {
   "cell_type": "code",
   "execution_count": 14,
   "metadata": {},
   "outputs": [
    {
     "name": "stdout",
     "output_type": "stream",
     "text": [
      "[[ 1.80e+01  5.00e+00]\n",
      " [ 2.37e+00  4.00e+00]\n",
      " [ 1.12e+13  6.00e+00]\n",
      " [-8.10e-03  0.00e+00]\n",
      " [ 7.16e+01  7.50e+01]\n",
      " [ 6.42e+01  3.40e+01]\n",
      " [ 1.42e+01  2.10e+01]\n",
      " [ 2.24e+00  7.00e+00]\n",
      " [-1.28e+01  7.00e+01]\n",
      " [-1.13e+13  5.80e+01]\n",
      " [ 3.11e+01  1.20e+01]\n",
      " [ 4.88e+01  1.40e+01]\n",
      " [ 1.73e+01  2.00e+01]\n",
      " [-1.13e+13  1.01e+02]\n",
      " [ 5.08e+01  3.00e+01]\n",
      " [ 3.02e+13  9.00e+00]\n",
      " [ 1.57e+01  1.50e+01]\n",
      " [ 5.28e+01  4.10e+01]\n",
      " [ 1.41e+02  8.00e+01]\n",
      " [ 8.57e+00  2.00e+00]\n",
      " [ 6.68e+01  7.90e+01]\n",
      " [ 1.42e+01  6.00e+00]\n",
      " [ 3.18e+01  2.40e+01]\n",
      " [-1.13e+13  7.30e+01]\n",
      " [-1.39e+01  0.00e+00]\n",
      " [ 1.05e+13  2.70e+01]\n",
      " [ 1.43e+01  3.80e+01]\n",
      " [ 2.25e+01  2.50e+01]\n",
      " [ 1.15e+01  1.60e+01]\n",
      " [ 1.84e+01  3.50e+01]\n",
      " [ 2.82e+01  1.80e+01]\n",
      " [ 3.65e+01  3.10e+01]\n",
      " [-2.96e+00  1.00e+00]\n",
      " [ 1.87e+01  1.00e+01]\n",
      " [ 4.90e+01  4.10e+01]\n",
      " [ 6.73e+01  1.20e+01]\n",
      " [ 6.21e+00  8.00e+00]\n",
      " [ 5.36e+01  3.80e+01]\n",
      " [-1.54e+01  1.60e+01]\n",
      " [ 6.18e+00  1.60e+01]\n",
      " [-4.49e+00  1.00e+00]\n",
      " [ 1.72e+01  1.00e+00]\n",
      " [ 4.00e+01  1.40e+01]\n",
      " [-3.14e+13  1.00e+02]\n",
      " [ 3.97e+13  3.00e+00]\n",
      " [ 5.74e+01  8.00e+00]\n",
      " [ 1.58e+01  9.00e+00]]\n",
      "r2_score is -1.1878441840776668e+23\n"
     ]
    },
    {
     "data": {
      "image/png": "[encoded data removed]",
      "text/plain": [
       "<Figure size 640x480 with 1 Axes>"
      ]
     },
     "metadata": {},
     "output_type": "display_data"
    }
   ],
   "source": [
    "MLR(X_train, y_train, X_test, y_test)"
   ]
  },
  {
   "cell_type": "code",
   "execution_count": 15,
   "metadata": {},
   "outputs": [
    {
     "name": "stdout",
     "output_type": "stream",
     "text": [
      "[[  0.   5.]\n",
      " [  0.   4.]\n",
      " [  3.   6.]\n",
      " [  8.   0.]\n",
      " [ 20.  75.]\n",
      " [ 20.  34.]\n",
      " [ 10.  21.]\n",
      " [  6.   7.]\n",
      " [ 49.  70.]\n",
      " [ 20.  58.]\n",
      " [ 82.  12.]\n",
      " [ 44.  14.]\n",
      " [ 22.  20.]\n",
      " [ 58. 101.]\n",
      " [ 36.  30.]\n",
      " [  9.   9.]\n",
      " [ 12.  15.]\n",
      " [ 44.  41.]\n",
      " [108.  80.]\n",
      " [ 12.   2.]\n",
      " [ 90.  79.]\n",
      " [ 35.   6.]\n",
      " [ 11.  24.]\n",
      " [ 21.  73.]\n",
      " [  9.   0.]\n",
      " [ 42.  27.]\n",
      " [ 29.  38.]\n",
      " [  9.  25.]\n",
      " [ 23.  16.]\n",
      " [ 73.  35.]\n",
      " [ 67.  18.]\n",
      " [ 52.  31.]\n",
      " [ 14.   1.]\n",
      " [ 18.  10.]\n",
      " [ 54.  41.]\n",
      " [ 39.  12.]\n",
      " [  1.   8.]\n",
      " [ 48.  38.]\n",
      " [ 10.  16.]\n",
      " [  8.  16.]\n",
      " [  3.   1.]\n",
      " [  8.   1.]\n",
      " [ 30.  14.]\n",
      " [ 48. 100.]\n",
      " [ 42.   3.]\n",
      " [ 25.   8.]\n",
      " [  6.   9.]]\n",
      "r2_score is 0.15893636217572382\n"
     ]
    },
    {
     "data": {
      "image/png": "[encoded data removed]",
      "text/plain": [
       "<Figure size 640x480 with 1 Axes>"
      ]
     },
     "metadata": {},
     "output_type": "display_data"
    }
   ],
   "source": [
    "DT(X_train, y_train, X_test, y_test)"
   ]
  },
  {
   "cell_type": "code",
   "execution_count": 16,
   "metadata": {},
   "outputs": [
    {
     "name": "stdout",
     "output_type": "stream",
     "text": [
      "[[  7.5   5. ]\n",
      " [ 13.5   4. ]\n",
      " [  5.9   6. ]\n",
      " [  6.    0. ]\n",
      " [ 47.4  75. ]\n",
      " [ 38.1  34. ]\n",
      " [ 19.   21. ]\n",
      " [  7.1   7. ]\n",
      " [ 38.1  70. ]\n",
      " [ 41.5  58. ]\n",
      " [ 72.   12. ]\n",
      " [ 54.5  14. ]\n",
      " [ 28.8  20. ]\n",
      " [ 45.7 101. ]\n",
      " [ 36.2  30. ]\n",
      " [  7.    9. ]\n",
      " [ 25.   15. ]\n",
      " [ 38.6  41. ]\n",
      " [ 58.6  80. ]\n",
      " [ 15.5   2. ]\n",
      " [ 59.1  79. ]\n",
      " [ 38.6   6. ]\n",
      " [ 16.   24. ]\n",
      " [ 49.5  73. ]\n",
      " [  9.3   0. ]\n",
      " [ 36.6  27. ]\n",
      " [ 22.   38. ]\n",
      " [ 31.2  25. ]\n",
      " [ 27.4  16. ]\n",
      " [ 45.4  35. ]\n",
      " [ 51.9  18. ]\n",
      " [ 49.   31. ]\n",
      " [  9.4   1. ]\n",
      " [  7.6  10. ]\n",
      " [ 55.6  41. ]\n",
      " [ 39.9  12. ]\n",
      " [ 20.1   8. ]\n",
      " [ 63.2  38. ]\n",
      " [  6.8  16. ]\n",
      " [  9.1  16. ]\n",
      " [  5.1   1. ]\n",
      " [  5.9   1. ]\n",
      " [ 26.7  14. ]\n",
      " [ 51.8 100. ]\n",
      " [ 28.    3. ]\n",
      " [ 38.9   8. ]\n",
      " [ 17.6   9. ]]\n",
      "r2_score is 0.36714622857213464\n"
     ]
    },
    {
     "data": {
      "image/png": "[encoded data removed]",
      "text/plain": [
       "<Figure size 640x480 with 1 Axes>"
      ]
     },
     "metadata": {},
     "output_type": "display_data"
    }
   ],
   "source": [
    "RF(X_train, y_train, X_test, y_test)"
   ]
  },
  {
   "cell_type": "code",
   "execution_count": 17,
   "metadata": {},
   "outputs": [
    {
     "name": "stdout",
     "output_type": "stream",
     "text": [
      "[[ 11.28   5.  ]\n",
      " [ -1.65   4.  ]\n",
      " [ 13.78   6.  ]\n",
      " [  5.7    0.  ]\n",
      " [ 42.31  75.  ]\n",
      " [ 39.91  34.  ]\n",
      " [ 24.39  21.  ]\n",
      " [  4.4    7.  ]\n",
      " [ 42.54  70.  ]\n",
      " [ 30.91  58.  ]\n",
      " [ 16.55  12.  ]\n",
      " [ 32.5   14.  ]\n",
      " [ 29.79  20.  ]\n",
      " [ 30.23 101.  ]\n",
      " [ 30.48  30.  ]\n",
      " [  9.13   9.  ]\n",
      " [ 19.71  15.  ]\n",
      " [ 41.61  41.  ]\n",
      " [ 49.01  80.  ]\n",
      " [  5.63   2.  ]\n",
      " [ 46.94  79.  ]\n",
      " [ 20.96   6.  ]\n",
      " [ 25.57  24.  ]\n",
      " [ 55.82  73.  ]\n",
      " [ -6.03   0.  ]\n",
      " [ 47.71  27.  ]\n",
      " [ 17.48  38.  ]\n",
      " [ 39.75  25.  ]\n",
      " [ 10.96  16.  ]\n",
      " [ 33.14  35.  ]\n",
      " [ 37.75  18.  ]\n",
      " [ 32.98  31.  ]\n",
      " [  7.33   1.  ]\n",
      " [ 19.14  10.  ]\n",
      " [ 61.61  41.  ]\n",
      " [ 37.26  12.  ]\n",
      " [ 25.15   8.  ]\n",
      " [ 36.68  38.  ]\n",
      " [  5.33  16.  ]\n",
      " [ 14.37  16.  ]\n",
      " [ 20.64   1.  ]\n",
      " [  4.55   1.  ]\n",
      " [ 28.44  14.  ]\n",
      " [ 60.8  100.  ]\n",
      " [  7.08   3.  ]\n",
      " [ 26.8    8.  ]\n",
      " [ 15.56   9.  ]]\n",
      "r2_score is 0.521660867110729\n"
     ]
    },
    {
     "data": {
      "image/png": "[encoded data removed]",
      "text/plain": [
       "<Figure size 640x480 with 1 Axes>"
      ]
     },
     "metadata": {},
     "output_type": "display_data"
    }
   ],
   "source": [
    "SVR(X_train, y_train, X_test, y_test)\n"
   ]
  }
 ],
 "metadata": {
  "kernelspec": {
   "display_name": "cricket-predictor",
   "language": "python",
   "name": "python3"
  },
  "language_info": {
   "codemirror_mode": {
    "name": "ipython",
    "version": 3
   },
   "file_extension": ".py",
   "mimetype": "text/x-python",
   "name": "python",
   "nbconvert_exporter": "python",
   "pygments_lexer": "ipython3",
   "version": "3.11.9"
  }
 },
 "nbformat": 4,
 "nbformat_minor": 2
}
