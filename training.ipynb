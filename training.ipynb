{
 "cells": [
  {
   "cell_type": "code",
   "execution_count": 1,
   "metadata": {},
   "outputs": [
    {
     "data": {
      "text/plain": [
       "Index(['match_id', 'inning', 'bowling_team', 'batter', 'batter_total_balls',\n",
       "       'batter_SR', 'batter_score', 'dismissal_kind', 'date', 'match_type',\n",
       "       'venue', 'no_of_right_arm_pacers_faced', 'no_of_left_arm_pacers_faced',\n",
       "       'no_of_right_arm_offspinners_faced', 'no_of_left_arm_offpacers_faced',\n",
       "       'no_of_right_arm_legspinners_faced', 'no_of_left_arm_legspinners_faced',\n",
       "       'no_of_left_arm_offspinners_faced', 'score_last_5', 'balls_last_5',\n",
       "       'score_last_1', 'balls_last_1', 'score_last_2', 'balls_last_2',\n",
       "       'score_last_3', 'balls_last_3', 'score_last_4', 'balls_last_4'],\n",
       "      dtype='object')"
      ]
     },
     "execution_count": 1,
     "metadata": {},
     "output_type": "execute_result"
    }
   ],
   "source": [
    "import pandas as pd\n",
    "import numpy as np\n",
    "import matplotlib.pyplot as plt\n",
    "import seaborn as sns\n",
    "from sklearn.model_selection import train_test_split\n",
    "\n",
    "# Load the data\n",
    "df = pd.read_csv('data/aggregated_df.csv')\n",
    "df.columns"
   ]
  },
  {
   "cell_type": "code",
   "execution_count": 2,
   "metadata": {},
   "outputs": [],
   "source": [
    "df.drop(columns=['batter_total_balls', \"batter_SR\", \"dismissal_kind\", \"match_id\", \"date\", \"no_of_left_arm_offpacers_faced\"], inplace=True)"
   ]
  },
  {
   "cell_type": "code",
   "execution_count": 3,
   "metadata": {},
   "outputs": [
    {
     "data": {
      "text/plain": [
       "Index(['inning', 'bowling_team', 'batter', 'match_type', 'venue',\n",
       "       'no_of_right_arm_pacers_faced', 'no_of_left_arm_pacers_faced',\n",
       "       'no_of_right_arm_offspinners_faced',\n",
       "       'no_of_right_arm_legspinners_faced', 'no_of_left_arm_legspinners_faced',\n",
       "       'no_of_left_arm_offspinners_faced', 'score_last_5', 'balls_last_5',\n",
       "       'score_last_1', 'balls_last_1', 'score_last_2', 'balls_last_2',\n",
       "       'score_last_3', 'balls_last_3', 'score_last_4', 'balls_last_4',\n",
       "       'batter_score'],\n",
       "      dtype='object')"
      ]
     },
     "execution_count": 3,
     "metadata": {},
     "output_type": "execute_result"
    }
   ],
   "source": [
    "df = df.reindex(columns=[col for col in df.columns if col != 'batter_score'] + ['batter_score'])\n",
    "df.columns"
   ]
  },
  {
   "cell_type": "code",
   "execution_count": 4,
   "metadata": {},
   "outputs": [
    {
     "name": "stdout",
     "output_type": "stream",
     "text": [
      "inning                                int64\n",
      "bowling_team                         object\n",
      "match_type                           object\n",
      "venue                                object\n",
      "no_of_right_arm_pacers_faced          int64\n",
      "no_of_left_arm_pacers_faced           int64\n",
      "no_of_right_arm_offspinners_faced     int64\n",
      "no_of_right_arm_legspinners_faced     int64\n",
      "no_of_left_arm_legspinners_faced      int64\n",
      "no_of_left_arm_offspinners_faced      int64\n",
      "score_last_5                          int64\n",
      "balls_last_5                          int64\n",
      "score_last_1                          int64\n",
      "balls_last_1                          int64\n",
      "score_last_2                          int64\n",
      "balls_last_2                          int64\n",
      "score_last_3                          int64\n",
      "balls_last_3                          int64\n",
      "score_last_4                          int64\n",
      "balls_last_4                          int64\n",
      "batter_score                          int64\n",
      "dtype: object\n"
     ]
    },
    {
     "name": "stderr",
     "output_type": "stream",
     "text": [
      "/var/folders/xn/1qlh6svd3jz7qk3ry827bz780000gn/T/ipykernel_5668/1501815584.py:3: SettingWithCopyWarning: \n",
      "A value is trying to be set on a copy of a slice from a DataFrame\n",
      "\n",
      "See the caveats in the documentation: https://pandas.pydata.org/pandas-docs/stable/user_guide/indexing.html#returning-a-view-versus-a-copy\n",
      "  gdf.drop(columns=['batter'], inplace=True)\n"
     ]
    }
   ],
   "source": [
    "player = 'G Gambhir'\n",
    "gdf = df[df['batter'] == player]\n",
    "gdf.drop(columns=['batter'], inplace=True)\n",
    "\n",
    "gdf = gdf.fillna(-1).astype({\"no_of_left_arm_offspinners_faced\": 'int', \"score_last_5\": 'int', \"balls_last_5\": 'int', \"score_last_1\": 'int', \"balls_last_1\": 'int', \"score_last_2\": 'int', \"balls_last_2\": 'int', \"score_last_3\": 'int', \"balls_last_3\": 'int', \"score_last_4\": 'int', \"balls_last_4\": 'int'})\n",
    "\n",
    "print(gdf.dtypes)"
   ]
  },
  {
   "cell_type": "code",
   "execution_count": 5,
   "metadata": {},
   "outputs": [],
   "source": [
    "X = gdf.iloc[:, :-1].values\n",
    "y = gdf.iloc[:, -1].values\n",
    "\n",
    "from sklearn.compose import ColumnTransformer\n",
    "from sklearn.preprocessing import OneHotEncoder\n",
    "ct = ColumnTransformer(transformers = [('encoder', OneHotEncoder(), [1])], remainder = 'passthrough')\n",
    "ct1 = ColumnTransformer(transformers = [('encoder', OneHotEncoder(), [-18])], remainder = 'passthrough')\n",
    "ct2 = ColumnTransformer(transformers = [('encoder', OneHotEncoder(), [-17])], remainder = 'passthrough')\n",
    "X = np.array(ct.fit_transform(X))\n",
    "X = np.array(ct1.fit_transform(X))\n",
    "X = np.array(ct2.fit_transform(X))"
   ]
  },
  {
   "cell_type": "code",
   "execution_count": 6,
   "metadata": {},
   "outputs": [],
   "source": [
    "y = y.reshape(len(y), 1)"
   ]
  },
  {
   "cell_type": "code",
   "execution_count": 7,
   "metadata": {},
   "outputs": [],
   "source": [
    "from sklearn.model_selection import train_test_split\n",
    "X_train, X_test, y_train, y_test = train_test_split(X, y, test_size = 0.2, random_state = 0)"
   ]
  },
  {
   "cell_type": "code",
   "execution_count": 8,
   "metadata": {},
   "outputs": [],
   "source": [
    "from sklearn.preprocessing import StandardScaler\n",
    "sc_X = StandardScaler()\n",
    "sc_y = StandardScaler()\n",
    "X_train[:, X_train.shape[1] - 17:] = sc_X.fit_transform(X_train[:, X_train.shape[1] - 17:])\n",
    "X_test[:, X_train.shape[1] - 17:] = sc_X.transform(X_test[:, X_train.shape[1] - 17:])\n",
    "y_train = sc_y.fit_transform(y_train)"
   ]
  },
  {
   "cell_type": "code",
   "execution_count": 9,
   "metadata": {},
   "outputs": [],
   "source": [
    "y_train = y_train.ravel()\n",
    "y_test = y_test.ravel()"
   ]
  },
  {
   "cell_type": "code",
   "execution_count": 10,
   "metadata": {},
   "outputs": [
    {
     "name": "stdout",
     "output_type": "stream",
     "text": [
      "[[1.14e+00 1.00e+00]\n",
      " [6.92e+01 6.30e+01]\n",
      " [1.87e+01 1.00e+00]\n",
      " [1.48e+14 4.00e+00]\n",
      " [3.53e+01 3.10e+01]\n",
      " [2.63e+01 1.00e+00]\n",
      " [2.67e+01 2.90e+01]\n",
      " [4.55e+00 0.00e+00]\n",
      " [3.33e+01 2.50e+01]\n",
      " [5.36e+01 4.10e+01]\n",
      " [1.42e+01 1.40e+01]\n",
      " [5.15e+01 5.40e+01]\n",
      " [2.91e+01 5.90e+01]\n",
      " [2.50e+01 1.60e+01]\n",
      " [6.46e+01 5.60e+01]\n",
      " [4.99e+01 5.70e+01]\n",
      " [3.93e+00 8.00e+00]\n",
      " [6.25e+01 4.50e+01]\n",
      " [2.88e+01 1.80e+01]\n",
      " [6.42e+13 1.60e+01]\n",
      " [9.78e+00 6.00e+00]\n",
      " [6.09e+01 6.20e+01]\n",
      " [1.16e+01 8.00e+00]\n",
      " [6.47e+00 1.00e+01]\n",
      " [7.06e+01 5.10e+01]\n",
      " [4.43e+01 1.80e+01]\n",
      " [8.26e+01 4.80e+01]\n",
      " [4.03e+01 2.10e+01]\n",
      " [6.37e+01 6.90e+01]\n",
      " [3.48e+01 2.70e+01]\n",
      " [4.50e+01 6.20e+01]]\n",
      "r2_score is -1.6591685307981383e+24\n"
     ]
    }
   ],
   "source": [
    "def MLR(X_train, y_train, X_test, y_test):\n",
    "    from sklearn.linear_model import LinearRegression\n",
    "    from sklearn.metrics import r2_score\n",
    "    regressor = LinearRegression()\n",
    "    regressor.fit(X_train, y_train)\n",
    "    y_pred = sc_y.inverse_transform(regressor.predict(X_test).reshape(-1,1))\n",
    "    np.set_printoptions(precision=2)\n",
    "    print(np.concatenate((y_pred.reshape(len(y_pred), 1), y_test.reshape(len(y_test), 1)), 1))\n",
    "    print(\"r2_score is \"+ str(r2_score(y_test, y_pred)))\n",
    "\n",
    "MLR(X_train, y_train, X_test, y_test)"
   ]
  },
  {
   "cell_type": "code",
   "execution_count": 11,
   "metadata": {},
   "outputs": [
    {
     "name": "stdout",
     "output_type": "stream",
     "text": [
      "[[17.  1.]\n",
      " [34. 63.]\n",
      " [ 3.  1.]\n",
      " [22.  4.]\n",
      " [10. 31.]\n",
      " [ 0.  1.]\n",
      " [19. 29.]\n",
      " [23.  0.]\n",
      " [31. 25.]\n",
      " [33. 41.]\n",
      " [ 1. 14.]\n",
      " [47. 54.]\n",
      " [12. 59.]\n",
      " [66. 16.]\n",
      " [63. 56.]\n",
      " [66. 57.]\n",
      " [ 8.  8.]\n",
      " [72. 45.]\n",
      " [32. 18.]\n",
      " [22. 16.]\n",
      " [ 4.  6.]\n",
      " [33. 62.]\n",
      " [15.  8.]\n",
      " [ 8. 10.]\n",
      " [86. 51.]\n",
      " [60. 18.]\n",
      " [14. 48.]\n",
      " [50. 21.]\n",
      " [76. 69.]\n",
      " [14. 27.]\n",
      " [12. 62.]]\n",
      "r2_score is -0.09765207232999318\n"
     ]
    }
   ],
   "source": [
    "def DT(X_train, y_train, X_test, y_test):\n",
    "    from sklearn.tree import DecisionTreeRegressor\n",
    "    from sklearn.metrics import r2_score\n",
    "    regressor = DecisionTreeRegressor(random_state = 0)\n",
    "    regressor.fit(X_train,y_train)\n",
    "    y_pred = sc_y.inverse_transform(regressor.predict(X_test).reshape(-1,1))\n",
    "    np.set_printoptions(precision=2)\n",
    "    print(np.concatenate((y_pred.reshape(len(y_pred), 1), y_test.reshape(len(y_test), 1)), 1))\n",
    "    print(\"r2_score is \"+ str(r2_score(y_test, y_pred)))\n",
    "\n",
    "DT(X_train, y_train, X_test, y_test)"
   ]
  },
  {
   "cell_type": "code",
   "execution_count": 12,
   "metadata": {},
   "outputs": [
    {
     "name": "stdout",
     "output_type": "stream",
     "text": [
      "[[10.2  1. ]\n",
      " [54.1 63. ]\n",
      " [ 5.4  1. ]\n",
      " [29.7  4. ]\n",
      " [29.4 31. ]\n",
      " [ 9.2  1. ]\n",
      " [29.4 29. ]\n",
      " [ 5.   0. ]\n",
      " [26.6 25. ]\n",
      " [37.4 41. ]\n",
      " [11.3 14. ]\n",
      " [53.6 54. ]\n",
      " [29.7 59. ]\n",
      " [39.  16. ]\n",
      " [45.5 56. ]\n",
      " [29.5 57. ]\n",
      " [15.3  8. ]\n",
      " [43.1 45. ]\n",
      " [20.7 18. ]\n",
      " [21.1 16. ]\n",
      " [12.2  6. ]\n",
      " [47.7 62. ]\n",
      " [ 7.1  8. ]\n",
      " [10.9 10. ]\n",
      " [42.3 51. ]\n",
      " [53.1 18. ]\n",
      " [51.2 48. ]\n",
      " [49.2 21. ]\n",
      " [48.9 69. ]\n",
      " [21.6 27. ]\n",
      " [15.7 62. ]]\n",
      "r2_score is 0.474610646297119\n"
     ]
    },
    {
     "data": {
      "image/png": "[encoded data removed]",
      "text/plain": [
       "<Figure size 640x480 with 1 Axes>"
      ]
     },
     "metadata": {},
     "output_type": "display_data"
    }
   ],
   "source": [
    "def RF(X_train, y_train, X_test, y_test):    \n",
    "    from sklearn.ensemble import RandomForestRegressor\n",
    "    from sklearn.metrics import r2_score\n",
    "    regressor = RandomForestRegressor(n_estimators = 10, random_state = 0)\n",
    "    regressor.fit(X_train, y_train)\n",
    "    y_pred = sc_y.inverse_transform(regressor.predict(X_test).reshape(-1,1))\n",
    "    np.set_printoptions(precision=2)\n",
    "    print(np.concatenate((y_pred.reshape(len(y_pred), 1), y_test.reshape(len(y_test), 1)), 1))\n",
    "    print(\"r2_score is \"+ str(r2_score(y_test, y_pred)))\n",
    "    \n",
    "    # Reshape y_pred and y_test to 1D arrays\n",
    "    y_pred_1d = y_pred.ravel()\n",
    "    y_test_1d = y_test.ravel()\n",
    "    \n",
    "    a = []\n",
    "    for i in range(len(y_pred_1d)):\n",
    "        a.append(i+1)\n",
    "        \n",
    "\n",
    "    # Create a scatter plot of predicted values vs. actual values\n",
    "    plt.scatter(a, y_pred_1d, color = 'red', label = 'Predicted Values')\n",
    "    plt.scatter(a, y_test_1d, color = 'blue', label = 'Predicted Values')\n",
    "    plt.xlabel('Actual Values')\n",
    "    plt.ylabel('Predicted Values')\n",
    "    plt.title('Actual vs. Predicted Values')\n",
    "    plt.show()\n",
    "\n",
    "RF(X_train, y_train, X_test, y_test)"
   ]
  },
  {
   "cell_type": "code",
   "execution_count": 13,
   "metadata": {},
   "outputs": [
    {
     "name": "stdout",
     "output_type": "stream",
     "text": [
      "[[-1.86  1.  ]\n",
      " [39.37 63.  ]\n",
      " [15.5   1.  ]\n",
      " [19.52  4.  ]\n",
      " [32.53 31.  ]\n",
      " [ 7.59  1.  ]\n",
      " [43.64 29.  ]\n",
      " [ 3.56  0.  ]\n",
      " [21.07 25.  ]\n",
      " [38.11 41.  ]\n",
      " [11.55 14.  ]\n",
      " [44.48 54.  ]\n",
      " [27.19 59.  ]\n",
      " [46.94 16.  ]\n",
      " [34.98 56.  ]\n",
      " [43.15 57.  ]\n",
      " [ 6.69  8.  ]\n",
      " [52.19 45.  ]\n",
      " [25.4  18.  ]\n",
      " [20.54 16.  ]\n",
      " [20.88  6.  ]\n",
      " [36.11 62.  ]\n",
      " [ 8.73  8.  ]\n",
      " [16.98 10.  ]\n",
      " [43.3  51.  ]\n",
      " [40.68 18.  ]\n",
      " [38.84 48.  ]\n",
      " [28.23 21.  ]\n",
      " [43.36 69.  ]\n",
      " [16.42 27.  ]\n",
      " [25.12 62.  ]]\n",
      "r2_score is 0.4948903867735588\n"
     ]
    },
    {
     "data": {
      "image/png": "[encoded data removed]",
      "text/plain": [
       "<Figure size 640x480 with 1 Axes>"
      ]
     },
     "metadata": {},
     "output_type": "display_data"
    }
   ],
   "source": [
    "def SVR(X_train, y_train, X_test, y_test):    \n",
    "    from sklearn.svm import SVR\n",
    "    from sklearn.metrics import r2_score\n",
    "    import matplotlib.pyplot as plt\n",
    "    regressor = SVR(kernel = 'rbf')\n",
    "    regressor.fit(X_train, y_train)\n",
    "    y_pred = sc_y.inverse_transform(regressor.predict(X_test).reshape(-1,1))\n",
    "    np.set_printoptions(precision=2)\n",
    "    print(np.concatenate((y_pred.reshape(len(y_pred), 1), y_test.reshape(len(y_test), 1)), 1))\n",
    "    print(\"r2_score is \"+ str(r2_score(y_test, y_pred)))\n",
    "\n",
    "    # Reshape y_pred and y_test to 1D arrays\n",
    "    y_pred_1d = y_pred.ravel()\n",
    "    y_test_1d = y_test.ravel()\n",
    "    \n",
    "    a = []\n",
    "    for i in range(len(y_pred_1d)):\n",
    "        a.append(i+1)\n",
    "        \n",
    "\n",
    "    # Create a scatter plot of predicted values vs. actual values\n",
    "    plt.scatter(a, y_pred_1d, color = 'red', label = 'Predicted Values')\n",
    "    plt.scatter(a, y_test_1d, color = 'blue', label = 'Predicted Values')\n",
    "    plt.xlabel('Actual Values')\n",
    "    plt.ylabel('Predicted Values')\n",
    "    plt.title('Actual vs. Predicted Values')\n",
    "    plt.show()\n",
    "    \n",
    "    \n",
    "\n",
    "SVR(X_train, y_train, X_test, y_test)\n"
   ]
  },
  {
   "cell_type": "code",
   "execution_count": null,
   "metadata": {},
   "outputs": [],
   "source": []
  }
 ],
 "metadata": {
  "kernelspec": {
   "display_name": "cricket-predictor",
   "language": "python",
   "name": "python3"
  },
  "language_info": {
   "codemirror_mode": {
    "name": "ipython",
    "version": 3
   },
   "file_extension": ".py",
   "mimetype": "text/x-python",
   "name": "python",
   "nbconvert_exporter": "python",
   "pygments_lexer": "ipython3",
   "version": "3.11.9"
  }
 },
 "nbformat": 4,
 "nbformat_minor": 2
}
