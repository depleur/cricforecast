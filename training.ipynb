{
 "cells": [
  {
   "cell_type": "code",
   "execution_count": 18,
   "metadata": {},
   "outputs": [
    {
     "data": {
      "text/plain": [
       "Index(['match_id', 'inning', 'bowling_team', 'batter', 'batter_total_balls',\n",
       "       'batter_SR', 'batter_score', 'dismissal_kind', 'date', 'match_type',\n",
       "       'venue', 'no_of_right_arm_pacers_faced', 'no_of_left_arm_pacers_faced',\n",
       "       'no_of_right_arm_offspinners_faced',\n",
       "       'no_of_right_arm_legspinners_faced', 'no_of_left_arm_legspinners_faced',\n",
       "       'no_of_left_arm_offspinners_faced', 'score_last_5', 'balls_last_5',\n",
       "       'score_last_1', 'balls_last_1', 'score_last_2', 'balls_last_2',\n",
       "       'score_last_3', 'balls_last_3', 'score_last_4', 'balls_last_4'],\n",
       "      dtype='object')"
      ]
     },
     "execution_count": 18,
     "metadata": {},
     "output_type": "execute_result"
    }
   ],
   "source": [
    "import pandas as pd\n",
    "import numpy as np\n",
    "import matplotlib.pyplot as plt\n",
    "import seaborn as sns\n",
    "from sklearn.model_selection import train_test_split\n",
    "\n",
    "# Load the data\n",
    "df = pd.read_csv('data/aggregated_df.csv')\n",
    "df.columns"
   ]
  },
  {
   "cell_type": "code",
   "execution_count": 19,
   "metadata": {},
   "outputs": [],
   "source": [
    "df.drop(columns=['batter_total_balls', \"batter_SR\", \"dismissal_kind\", \"match_id\", \"date\"], inplace=True)"
   ]
  },
  {
   "cell_type": "code",
   "execution_count": 20,
   "metadata": {},
   "outputs": [
    {
     "data": {
      "text/plain": [
       "Index(['inning', 'bowling_team', 'batter', 'match_type', 'venue',\n",
       "       'no_of_right_arm_pacers_faced', 'no_of_left_arm_pacers_faced',\n",
       "       'no_of_right_arm_offspinners_faced',\n",
       "       'no_of_right_arm_legspinners_faced', 'no_of_left_arm_legspinners_faced',\n",
       "       'no_of_left_arm_offspinners_faced', 'score_last_5', 'balls_last_5',\n",
       "       'score_last_1', 'balls_last_1', 'score_last_2', 'balls_last_2',\n",
       "       'score_last_3', 'balls_last_3', 'score_last_4', 'balls_last_4',\n",
       "       'batter_score'],\n",
       "      dtype='object')"
      ]
     },
     "execution_count": 20,
     "metadata": {},
     "output_type": "execute_result"
    }
   ],
   "source": [
    "df = df.reindex(columns=[col for col in df.columns if col != 'batter_score'] + ['batter_score'])\n",
    "df.columns"
   ]
  },
  {
   "cell_type": "code",
   "execution_count": 21,
   "metadata": {},
   "outputs": [],
   "source": [
    "def MLR(X_train, y_train, X_test, y_test):\n",
    "    from sklearn.linear_model import LinearRegression\n",
    "    from sklearn.metrics import r2_score\n",
    "    regressor = LinearRegression()\n",
    "    regressor.fit(X_train, y_train)\n",
    "    y_pred = sc_y.inverse_transform(regressor.predict(X_test).reshape(-1,1))\n",
    "    np.set_printoptions(precision=2)\n",
    "    print(np.concatenate((y_pred.reshape(len(y_pred), 1), y_test.reshape(len(y_test), 1)), 1))\n",
    "    print(\"r2_score is \"+ str(r2_score(y_test, y_pred)))\n",
    "\n",
    "    # Reshape y_pred and y_test to 1D arrays\n",
    "    y_pred_1d = y_pred.ravel()\n",
    "    y_test_1d = y_test.ravel()\n",
    "\n",
    "    # Create a scatter plot of predicted values vs. actual values\n",
    "    X = np.linspace(1,len(y_pred_1d) + 1, len(y_pred_1d))\n",
    "    Y = y_test_1d - y_pred_1d\n",
    "    plt.bar(X, Y, color = 'red', label = 'Predicted Values')\n",
    "    plt.xlabel('Test set number')\n",
    "    plt.ylabel('Actual - Prediction')\n",
    "    plt.title('Overperformance?')\n",
    "    plt.show()"
   ]
  },
  {
   "cell_type": "code",
   "execution_count": 22,
   "metadata": {},
   "outputs": [],
   "source": [
    "def DT(X_train, y_train, X_test, y_test):\n",
    "    from sklearn.tree import DecisionTreeRegressor\n",
    "    from sklearn.metrics import r2_score\n",
    "    regressor = DecisionTreeRegressor(random_state = 0)\n",
    "    regressor.fit(X_train,y_train)\n",
    "    y_pred = sc_y.inverse_transform(regressor.predict(X_test).reshape(-1,1))\n",
    "    np.set_printoptions(precision=2)\n",
    "    print(np.concatenate((y_pred.reshape(len(y_pred), 1), y_test.reshape(len(y_test), 1)), 1))\n",
    "    print(\"r2_score is \"+ str(r2_score(y_test, y_pred)))\n",
    "\n",
    "    # Reshape y_pred and y_test to 1D arrays\n",
    "    y_pred_1d = y_pred.ravel()\n",
    "    y_test_1d = y_test.ravel()\n",
    "\n",
    "    # Create a scatter plot of predicted values vs. actual values\n",
    "    X = np.linspace(1,len(y_pred_1d) + 1, len(y_pred_1d))\n",
    "    Y = y_test_1d - y_pred_1d\n",
    "    plt.bar(X, Y, color = 'red', label = 'Predicted Values')\n",
    "    plt.xlabel('Test set number')\n",
    "    plt.ylabel('Actual - Prediction')\n",
    "    plt.title('Overperformance?')\n",
    "    plt.show()"
   ]
  },
  {
   "cell_type": "code",
   "execution_count": 23,
   "metadata": {},
   "outputs": [],
   "source": [
    "def RF(X_train, y_train, X_test, y_test):    \n",
    "    from sklearn.ensemble import RandomForestRegressor\n",
    "    from sklearn.metrics import r2_score\n",
    "    regressor = RandomForestRegressor(n_estimators = 10, random_state = 0)\n",
    "    regressor.fit(X_train, y_train)\n",
    "    y_pred = sc_y.inverse_transform(regressor.predict(X_test).reshape(-1,1))\n",
    "    np.set_printoptions(precision=2)\n",
    "    print(np.concatenate((y_pred.reshape(len(y_pred), 1), y_test.reshape(len(y_test), 1)), 1))\n",
    "    print(\"r2_score is \"+ str(r2_score(y_test, y_pred)))\n",
    "    \n",
    "    # Reshape y_pred and y_test to 1D arrays\n",
    "    y_pred_1d = y_pred.ravel()\n",
    "    y_test_1d = y_test.ravel()\n",
    "\n",
    "    # Create a scatter plot of predicted values vs. actual values\n",
    "    X = np.linspace(1,len(y_pred_1d) + 1, len(y_pred_1d))\n",
    "    Y = y_test_1d - y_pred_1d\n",
    "    plt.bar(X, Y, color = 'red', label = 'Predicted Values')\n",
    "    plt.xlabel('Test set number')\n",
    "    plt.ylabel('Actual - Prediction')\n",
    "    plt.title('Overperformance?')\n",
    "    plt.show()"
   ]
  },
  {
   "cell_type": "code",
   "execution_count": 24,
   "metadata": {},
   "outputs": [],
   "source": [
    "def SVR(X_train, y_train, X_test, y_test):    \n",
    "    from sklearn.svm import SVR\n",
    "    from sklearn.metrics import r2_score\n",
    "    import matplotlib.pyplot as plt\n",
    "    regressor = SVR(kernel = 'rbf')\n",
    "    regressor.fit(X_train, y_train)\n",
    "    y_pred = sc_y.inverse_transform(regressor.predict(X_test).reshape(-1,1))\n",
    "    np.set_printoptions(precision=2)\n",
    "    print(np.concatenate((y_pred.reshape(len(y_pred), 1), y_test.reshape(len(y_test), 1)), 1))\n",
    "    print(\"r2_score is \"+ str(r2_score(y_test, y_pred)))\n",
    "\n",
    "    # Reshape y_pred and y_test to 1D arrays\n",
    "    y_pred_1d = y_pred.ravel()\n",
    "    y_test_1d = y_test.ravel()\n",
    "\n",
    "    # Create a scatter plot of predicted values vs. actual values\n",
    "    X = np.linspace(1,len(y_pred_1d) + 1, len(y_pred_1d))\n",
    "    Y = y_test_1d - y_pred_1d\n",
    "    plt.bar(X, Y, color = 'red', label = 'Predicted Values')\n",
    "    plt.xlabel('Test set number')\n",
    "    plt.ylabel('Actual - Prediction')\n",
    "    plt.title('Overperformance?')\n",
    "    plt.show()"
   ]
  },
  {
   "cell_type": "code",
   "execution_count": 25,
   "metadata": {},
   "outputs": [
    {
     "name": "stderr",
     "output_type": "stream",
     "text": [
      "C:\\Users\\Pranav Koka\\AppData\\Local\\Temp\\ipykernel_23440\\3016620652.py:3: SettingWithCopyWarning: \n",
      "A value is trying to be set on a copy of a slice from a DataFrame\n",
      "\n",
      "See the caveats in the documentation: https://pandas.pydata.org/pandas-docs/stable/user_guide/indexing.html#returning-a-view-versus-a-copy\n",
      "  gdf.drop(columns=['batter'], inplace=True)\n"
     ]
    }
   ],
   "source": [
    "player = 'V Kohli'\n",
    "gdf = df[df['batter'] == player]\n",
    "gdf.drop(columns=['batter'], inplace=True)\n",
    "\n",
    "gdf = gdf.fillna(-1).astype({\"no_of_left_arm_offspinners_faced\": 'int', \"score_last_5\": 'int', \"balls_last_5\": 'int', \"score_last_1\": 'int', \"balls_last_1\": 'int', \"score_last_2\": 'int', \"balls_last_2\": 'int', \"score_last_3\": 'int', \"balls_last_3\": 'int', \"score_last_4\": 'int', \"balls_last_4\": 'int'})\n",
    "\n",
    "#print(gdf.dtypes)"
   ]
  },
  {
   "cell_type": "code",
   "execution_count": 26,
   "metadata": {},
   "outputs": [],
   "source": [
    "X = gdf.iloc[:, :-1].values\n",
    "y = gdf.iloc[:, -1].values\n",
    "\n",
    "from sklearn.compose import ColumnTransformer\n",
    "from sklearn.preprocessing import OneHotEncoder\n",
    "ct = ColumnTransformer(transformers = [('encoder', OneHotEncoder(), [1])], remainder = 'passthrough')\n",
    "ct1 = ColumnTransformer(transformers = [('encoder', OneHotEncoder(), [-18])], remainder = 'passthrough')\n",
    "ct2 = ColumnTransformer(transformers = [('encoder', OneHotEncoder(), [-17])], remainder = 'passthrough')\n",
    "X = np.array(ct.fit_transform(X))\n",
    "X = np.array(ct1.fit_transform(X))\n",
    "X = np.array(ct2.fit_transform(X))"
   ]
  },
  {
   "cell_type": "code",
   "execution_count": 27,
   "metadata": {},
   "outputs": [],
   "source": [
    "y = y.reshape(len(y), 1)"
   ]
  },
  {
   "cell_type": "code",
   "execution_count": 28,
   "metadata": {},
   "outputs": [],
   "source": [
    "from sklearn.model_selection import train_test_split\n",
    "X_train, X_test, y_train, y_test = train_test_split(X, y, test_size = 0.2, random_state = 0)"
   ]
  },
  {
   "cell_type": "code",
   "execution_count": 29,
   "metadata": {},
   "outputs": [],
   "source": [
    "from sklearn.preprocessing import StandardScaler\n",
    "sc_X = StandardScaler()\n",
    "sc_y = StandardScaler()\n",
    "X_train[:, X_train.shape[1] - 17:] = sc_X.fit_transform(X_train[:, X_train.shape[1] - 17:])\n",
    "X_test[:, X_train.shape[1] - 17:] = sc_X.transform(X_test[:, X_train.shape[1] - 17:])\n",
    "y_train = sc_y.fit_transform(y_train)"
   ]
  },
  {
   "cell_type": "code",
   "execution_count": 30,
   "metadata": {},
   "outputs": [],
   "source": [
    "y_train = y_train.ravel()\n",
    "y_test = y_test.ravel()"
   ]
  },
  {
   "cell_type": "code",
   "execution_count": 31,
   "metadata": {},
   "outputs": [
    {
     "name": "stdout",
     "output_type": "stream",
     "text": [
      "[[ 1.58e+01  2.10e+01]\n",
      " [ 2.46e+01  2.10e+01]\n",
      " [ 2.50e+01  9.00e+00]\n",
      " [ 2.98e+01  3.30e+01]\n",
      " [ 5.53e+01  1.00e+01]\n",
      " [ 1.25e+02  0.00e+00]\n",
      " [ 4.18e+01  3.00e+01]\n",
      " [ 9.84e+00  2.50e+01]\n",
      " [-8.55e+00  4.00e+00]\n",
      " [ 9.89e+11  6.00e+00]\n",
      " [ 1.28e+01  5.50e+01]\n",
      " [-1.82e+14  2.00e+01]\n",
      " [ 3.86e+01  8.20e+01]\n",
      " [ 5.51e+01  7.50e+01]\n",
      " [-4.22e+00  1.60e+01]\n",
      " [ 1.04e+01  2.10e+01]\n",
      " [ 6.34e+01  5.10e+01]\n",
      " [-2.71e+12  5.90e+01]\n",
      " [ 1.90e+01  1.90e+01]\n",
      " [ 2.65e+01  9.00e+00]\n",
      " [ 8.34e+01  4.80e+01]\n",
      " [ 5.40e+01  6.70e+01]\n",
      " [ 2.99e+01  1.80e+01]\n",
      " [ 6.42e+01  2.70e+01]\n",
      " [ 4.41e+01  8.40e+01]\n",
      " [ 3.80e+01  4.10e+01]\n",
      " [ 2.55e+14  9.00e+00]\n",
      " [ 1.29e+01  1.10e+01]\n",
      " [ 5.66e+01  9.00e+01]\n",
      " [-1.25e+01  0.00e+00]\n",
      " [ 2.69e+01  3.00e+00]\n",
      " [ 2.44e+01  7.00e+00]\n",
      " [ 7.18e+01  1.70e+01]\n",
      " [ 3.43e+01  5.10e+01]\n",
      " [-1.84e+00  9.00e+00]\n",
      " [ 1.69e+01  1.00e+00]\n",
      " [ 1.29e+01  0.00e+00]\n",
      " [ 4.80e+01  1.60e+01]\n",
      " [ 2.33e+01  2.00e+00]\n",
      " [ 1.41e+01  6.00e+00]\n",
      " [-6.88e+00  0.00e+00]\n",
      " [-7.34e-02  1.20e+01]\n",
      " [ 9.84e+00  1.30e+01]\n",
      " [ 3.35e+01  7.00e+01]\n",
      " [ 3.33e+01  1.20e+01]\n",
      " [ 4.27e+01  6.70e+01]\n",
      " [ 5.83e+01  2.10e+01]]\n",
      "r2_score is -3.167871434480549e+24\n"
     ]
    },
    {
     "data": {
      "image/png": "[encoded data removed]",
      "text/plain": [
       "<Figure size 640x480 with 1 Axes>"
      ]
     },
     "metadata": {},
     "output_type": "display_data"
    }
   ],
   "source": [
    "MLR(X_train, y_train, X_test, y_test)"
   ]
  },
  {
   "cell_type": "code",
   "execution_count": 32,
   "metadata": {},
   "outputs": [
    {
     "name": "stdout",
     "output_type": "stream",
     "text": [
      "[[ 22.  21.]\n",
      " [  8.  21.]\n",
      " [  1.   9.]\n",
      " [ 25.  33.]\n",
      " [  4.  10.]\n",
      " [ 18.   0.]\n",
      " [ 72.  30.]\n",
      " [  3.  25.]\n",
      " [ 23.   4.]\n",
      " [ 16.   6.]\n",
      " [ 80.  55.]\n",
      " [100.  20.]\n",
      " [ 58.  82.]\n",
      " [ 41.  75.]\n",
      " [  0.  16.]\n",
      " [ 20.  21.]\n",
      " [ 73.  51.]\n",
      " [ 72.  59.]\n",
      " [  8.  19.]\n",
      " [ 24.   9.]\n",
      " [100.  48.]\n",
      " [ 62.  67.]\n",
      " [ 23.  18.]\n",
      " [ 35.  27.]\n",
      " [ 51.  84.]\n",
      " [ 58.  41.]\n",
      " [ 24.   9.]\n",
      " [ 24.  11.]\n",
      " [ 79.  90.]\n",
      " [  8.   0.]\n",
      " [  5.   3.]\n",
      " [  8.   7.]\n",
      " [ 18.  17.]\n",
      " [ 58.  51.]\n",
      " [ 10.   9.]\n",
      " [ 11.   1.]\n",
      " [  8.   0.]\n",
      " [ 27.  16.]\n",
      " [  0.   2.]\n",
      " [  4.   6.]\n",
      " [  0.   0.]\n",
      " [ 18.  12.]\n",
      " [  4.  13.]\n",
      " [ 73.  70.]\n",
      " [  4.  12.]\n",
      " [ 79.  67.]\n",
      " [ 33.  21.]]\n",
      "r2_score is 0.3879336722442902\n"
     ]
    },
    {
     "data": {
      "image/png": "[encoded data removed]",
      "text/plain": [
       "<Figure size 640x480 with 1 Axes>"
      ]
     },
     "metadata": {},
     "output_type": "display_data"
    }
   ],
   "source": [
    "DT(X_train, y_train, X_test, y_test)"
   ]
  },
  {
   "cell_type": "code",
   "execution_count": 33,
   "metadata": {},
   "outputs": [
    {
     "name": "stdout",
     "output_type": "stream",
     "text": [
      "[[17.1 21. ]\n",
      " [10.7 21. ]\n",
      " [ 8.   9. ]\n",
      " [48.1 33. ]\n",
      " [14.7 10. ]\n",
      " [29.4  0. ]\n",
      " [61.8 30. ]\n",
      " [12.4 25. ]\n",
      " [10.5  4. ]\n",
      " [ 3.2  6. ]\n",
      " [66.9 55. ]\n",
      " [79.6 20. ]\n",
      " [47.4 82. ]\n",
      " [43.1 75. ]\n",
      " [ 4.6 16. ]\n",
      " [11.7 21. ]\n",
      " [60.8 51. ]\n",
      " [29.6 59. ]\n",
      " [ 8.6 19. ]\n",
      " [36.4  9. ]\n",
      " [80.4 48. ]\n",
      " [53.6 67. ]\n",
      " [18.2 18. ]\n",
      " [25.5 27. ]\n",
      " [38.5 84. ]\n",
      " [64.2 41. ]\n",
      " [ 8.8  9. ]\n",
      " [21.5 11. ]\n",
      " [62.4 90. ]\n",
      " [14.5  0. ]\n",
      " [ 7.1  3. ]\n",
      " [14.2  7. ]\n",
      " [37.1 17. ]\n",
      " [47.4 51. ]\n",
      " [ 6.   9. ]\n",
      " [13.1  1. ]\n",
      " [ 9.7  0. ]\n",
      " [31.1 16. ]\n",
      " [ 4.8  2. ]\n",
      " [27.6  6. ]\n",
      " [ 3.7  0. ]\n",
      " [12.5 12. ]\n",
      " [17.3 13. ]\n",
      " [68.  70. ]\n",
      " [31.8 12. ]\n",
      " [38.3 67. ]\n",
      " [47.  21. ]]\n",
      "r2_score is 0.39737326856978195\n"
     ]
    },
    {
     "data": {
      "image/png": "[encoded data removed]",
      "text/plain": [
       "<Figure size 640x480 with 1 Axes>"
      ]
     },
     "metadata": {},
     "output_type": "display_data"
    }
   ],
   "source": [
    "RF(X_train, y_train, X_test, y_test)"
   ]
  },
  {
   "cell_type": "code",
   "execution_count": 34,
   "metadata": {},
   "outputs": [
    {
     "name": "stdout",
     "output_type": "stream",
     "text": [
      "[[26.83 21.  ]\n",
      " [26.43 21.  ]\n",
      " [13.57  9.  ]\n",
      " [27.99 33.  ]\n",
      " [17.42 10.  ]\n",
      " [33.56  0.  ]\n",
      " [42.99 30.  ]\n",
      " [16.75 25.  ]\n",
      " [-2.1   4.  ]\n",
      " [12.84  6.  ]\n",
      " [46.08 55.  ]\n",
      " [43.97 20.  ]\n",
      " [44.28 82.  ]\n",
      " [41.8  75.  ]\n",
      " [12.35 16.  ]\n",
      " [19.89 21.  ]\n",
      " [51.18 51.  ]\n",
      " [37.21 59.  ]\n",
      " [20.49 19.  ]\n",
      " [20.45  9.  ]\n",
      " [47.66 48.  ]\n",
      " [62.24 67.  ]\n",
      " [13.05 18.  ]\n",
      " [30.89 27.  ]\n",
      " [43.   84.  ]\n",
      " [53.74 41.  ]\n",
      " [ 8.87  9.  ]\n",
      " [23.43 11.  ]\n",
      " [54.2  90.  ]\n",
      " [16.1   0.  ]\n",
      " [16.31  3.  ]\n",
      " [25.23  7.  ]\n",
      " [34.97 17.  ]\n",
      " [35.3  51.  ]\n",
      " [ 9.83  9.  ]\n",
      " [ 7.53  1.  ]\n",
      " [10.64  0.  ]\n",
      " [28.93 16.  ]\n",
      " [ 6.15  2.  ]\n",
      " [21.66  6.  ]\n",
      " [ 2.59  0.  ]\n",
      " [ 6.23 12.  ]\n",
      " [21.67 13.  ]\n",
      " [47.14 70.  ]\n",
      " [20.49 12.  ]\n",
      " [40.05 67.  ]\n",
      " [34.45 21.  ]]\n",
      "r2_score is 0.6035188050679318\n"
     ]
    },
    {
     "data": {
      "image/png": "[encoded data removed]",
      "text/plain": [
       "<Figure size 640x480 with 1 Axes>"
      ]
     },
     "metadata": {},
     "output_type": "display_data"
    }
   ],
   "source": [
    "SVR(X_train, y_train, X_test, y_test)\n"
   ]
  }
 ],
 "metadata": {
  "kernelspec": {
   "display_name": "cricket-predictor",
   "language": "python",
   "name": "python3"
  },
  "language_info": {
   "codemirror_mode": {
    "name": "ipython",
    "version": 3
   },
   "file_extension": ".py",
   "mimetype": "text/x-python",
   "name": "python",
   "nbconvert_exporter": "python",
   "pygments_lexer": "ipython3",
   "version": "3.12.1"
  }
 },
 "nbformat": 4,
 "nbformat_minor": 2
}
