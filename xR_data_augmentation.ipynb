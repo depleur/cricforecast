{
 "cells": [
  {
   "cell_type": "code",
   "execution_count": 34,
   "metadata": {},
   "outputs": [],
   "source": [
    "import pandas as pd\n",
    "pd.options.mode.chained_assignment = None  # default='warn'\n",
    "\n",
    "ball_by_ball_data = pd.read_csv(\"data/deliveries.csv\")\n",
    "matches_data = pd.read_csv(\"data/matches.csv\")"
   ]
  },
  {
   "cell_type": "code",
   "execution_count": 35,
   "metadata": {},
   "outputs": [],
   "source": [
    "matches_data['match_id'] = matches_data['id']\n",
    "matches_data.drop('id', axis = 1, inplace=True)"
   ]
  },
  {
   "cell_type": "code",
   "execution_count": 36,
   "metadata": {},
   "outputs": [],
   "source": [
    "data = pd.merge(ball_by_ball_data, matches_data, on='match_id', how='left')\n",
    "# data"
   ]
  },
  {
   "cell_type": "code",
   "execution_count": 37,
   "metadata": {},
   "outputs": [],
   "source": [
    "# data.columns"
   ]
  },
  {
   "cell_type": "code",
   "execution_count": 38,
   "metadata": {},
   "outputs": [],
   "source": [
    "#ensuring that wides, noballs, and penalties don't count as a ball\n",
    "for i in range(len(data)):\n",
    "    if data.extras_type[i] in ['wides', 'noballs', 'penalty']:\n",
    "        k = True\n",
    "        j = i+1\n",
    "        # Ensure j does not exceed DataFrame length\n",
    "        while k and j < len(data):\n",
    "            if data.ball[j] > data.ball[i]:\n",
    "                data.loc[j, 'ball'] = data.ball[j] - 1\n",
    "                j += 1\n",
    "            else:\n",
    "                k = False\n",
    "        data.loc[i, 'ball'] = data.ball[i] - 1\n"
   ]
  },
  {
   "cell_type": "code",
   "execution_count": 39,
   "metadata": {},
   "outputs": [],
   "source": [
    "#get the cumulative innings total runs\n",
    "innings_total_list = []\n",
    "i = 0\n",
    "x = True\n",
    "while i < len(data):\n",
    "    innings_total = data.total_runs[i]\n",
    "    innings_total_list.append(innings_total)\n",
    "    i = i+1\n",
    "    while i < len(data) and data.match_id[i] == data.match_id[i-1] and data.inning[i] == data.inning[i-1]:\n",
    "        innings_total = innings_total + data.total_runs[i]\n",
    "        innings_total_list.append(innings_total)\n",
    "        i = i+1"
   ]
  },
  {
   "cell_type": "code",
   "execution_count": 40,
   "metadata": {},
   "outputs": [],
   "source": [
    "data['cumulative_innings_total'] = innings_total_list \n",
    "data['cumulative_balls'] = data['over']*6 + data['ball']"
   ]
  },
  {
   "cell_type": "code",
   "execution_count": 41,
   "metadata": {},
   "outputs": [],
   "source": [
    "#get the total runs scored in that innings\n",
    "data['innings_total_runs'] = data.groupby(['match_id', 'inning'])['cumulative_innings_total'].transform('max')\n",
    "\n",
    "#get the total balls bowled in that innings\n",
    "data['innings_total_balls'] = data.groupby(['match_id', 'inning'])['cumulative_balls'].transform('max')"
   ]
  },
  {
   "cell_type": "code",
   "execution_count": 42,
   "metadata": {},
   "outputs": [],
   "source": [
    "data['match_total_runs'] = data['target_runs'] - 1 + data['target_runs'] - 1 - data['result_margin']"
   ]
  },
  {
   "cell_type": "code",
   "execution_count": 43,
   "metadata": {},
   "outputs": [],
   "source": [
    "#get the first row in each innings and then add the total balls in each innings to get the total balls bowled in the match\n",
    "data_first_rows = data.groupby(['match_id', 'inning']).first().reset_index()\n",
    "data_first_rows['match_total_balls'] = data_first_rows.groupby('match_id')['innings_total_balls'].transform('sum')\n",
    "to_merge_df = data_first_rows[['match_id', 'match_total_balls']].drop_duplicates()"
   ]
  },
  {
   "cell_type": "code",
   "execution_count": 44,
   "metadata": {},
   "outputs": [],
   "source": [
    "data = pd.merge(data, to_merge_df, on='match_id', how='left')"
   ]
  },
  {
   "cell_type": "code",
   "execution_count": 45,
   "metadata": {},
   "outputs": [],
   "source": [
    "# data[0:10]"
   ]
  },
  {
   "cell_type": "code",
   "execution_count": 46,
   "metadata": {},
   "outputs": [],
   "source": [
    "data['batter_total_runs'] = data.groupby(['match_id','batter'])['batsman_runs'].cumsum()\n",
    "data['batter_total_balls'] = data[(data['extras_type'] != 'wides') & (data['extras_type'] != 'penalty')].groupby(['match_id','batter']).cumcount() + 1\n",
    "#will forward fill the last valid value to the nan value\n",
    "data['batter_total_balls'] = data.groupby(['match_id', 'batter'])['batter_total_balls'].transform(lambda x: x.ffill())\n",
    "#if the first ball that the batter faced was a wide then there is nothing to ffill so we fill these with 0\n",
    "data['batter_total_balls'] = data['batter_total_balls'].fillna(0)"
   ]
  },
  {
   "cell_type": "code",
   "execution_count": 47,
   "metadata": {},
   "outputs": [],
   "source": [
    "data['bowler_total_runs'] = data[(data['extras_type'] != 'byes') & (data['extras_type'] != 'legbyes') & (data['extras_type'] != 'penalty')].groupby(['match_id', 'bowler'])['total_runs'].cumsum()\n",
    "data['bowler_total_balls'] = data[(data['extras_type'] != 'wides') & (data['extras_type'] != 'noballs') & (data['extras_type'] != 'penalty')].groupby(['match_id','bowler']).cumcount() + 1\n",
    "#will forward fill the last valid value to the nan value\n",
    "data['bowler_total_runs'] = data.groupby(['match_id', 'bowler'])['bowler_total_runs'].transform(lambda x: x.ffill())\n",
    "#if the first ball bowled by a bowler is a bye then there is nothing to ffill so we fill these with 0\n",
    "data['bowler_total_runs'] = data['bowler_total_runs'].fillna(0)\n",
    "#will forward fill the last valid value to the nan value\n",
    "data['bowler_total_balls'] = data.groupby(['match_id', 'bowler'])['bowler_total_balls'].transform(lambda x: x.ffill())\n",
    "#if the first ball bowled by a bowler is a noball then there is nothing to ffill so we fill these with 0\n",
    "data['bowler_total_balls'] = data['bowler_total_balls'].fillna(0)"
   ]
  },
  {
   "cell_type": "code",
   "execution_count": 48,
   "metadata": {},
   "outputs": [],
   "source": [
    "data['bowler_economy'] = data['bowler_total_runs']/data['bowler_total_balls'] * 6"
   ]
  },
  {
   "cell_type": "code",
   "execution_count": 49,
   "metadata": {},
   "outputs": [],
   "source": [
    "data['batter_SR'] = data['batter_total_runs']/data['batter_total_balls'] * 100"
   ]
  },
  {
   "cell_type": "code",
   "execution_count": 50,
   "metadata": {},
   "outputs": [],
   "source": [
    "# data.columns"
   ]
  },
  {
   "cell_type": "code",
   "execution_count": 51,
   "metadata": {},
   "outputs": [],
   "source": [
    "# data.season.unique()"
   ]
  },
  {
   "cell_type": "code",
   "execution_count": 52,
   "metadata": {},
   "outputs": [],
   "source": [
    "seasons = ['2007/08', '2009', '2009/10', '2011', '2012', '2013', '2014', '2015', '2016', '2017', '2018', '2019', '2020/21', '2021', '2022', '2023']\n",
    "data_by_season = {}\n",
    "\n",
    "for season in seasons:\n",
    "  data_by_season[season] = data[data['season'] == season]\n"
   ]
  },
  {
   "cell_type": "code",
   "execution_count": 53,
   "metadata": {},
   "outputs": [],
   "source": [
    "xR_data = data"
   ]
  },
  {
   "cell_type": "code",
   "execution_count": 54,
   "metadata": {},
   "outputs": [],
   "source": [
    "#xR_data.to_csv(\"xR_data.csv\", index=False)"
   ]
  },
  {
   "cell_type": "code",
   "execution_count": 55,
   "metadata": {},
   "outputs": [],
   "source": [
    "unnecessary_cols = [\n",
    "    'batting_team', 'batsman_runs', 'over', 'ball', 'total_runs',\n",
    "    'non_striker', 'extra_runs', 'extras_type', 'is_wicket',\n",
    "    'player_dismissed', 'fielder', 'season', 'city',\n",
    "    'player_of_match', 'team1', 'team2', 'toss_winner',\n",
    "    'toss_decision', 'winner', 'result', 'result_margin', 'target_runs',\n",
    "    'target_overs', 'super_over', 'method', 'umpire1', 'umpire2',\n",
    "    'cumulative_innings_total', 'innings_total_runs',\n",
    "    'innings_total_balls', 'match_total_runs', 'match_total_balls',\n",
    "    'bowler_total_runs', 'bowler_total_balls', 'bowler_economy',\n",
    "]"
   ]
  },
  {
   "cell_type": "code",
   "execution_count": 56,
   "metadata": {},
   "outputs": [],
   "source": [
    "# Drop the unnecessary columns\n",
    "df_reduced = data.drop(columns=unnecessary_cols)\n",
    "\n",
    "# Display the new DataFrame\n",
    "# df_reduced"
   ]
  },
  {
   "cell_type": "code",
   "execution_count": 57,
   "metadata": {},
   "outputs": [],
   "source": [
    "# ball_by_ball_data[0:10]\n",
    "df_reduced['batter_score'] = df_reduced.groupby(['match_id', 'batter'])['batter_total_runs'].transform('max')\n",
    "# df_reduced"
   ]
  },
  {
   "cell_type": "code",
   "execution_count": 58,
   "metadata": {},
   "outputs": [],
   "source": [
    "dismissal_kinds = df_reduced['dismissal_kind'].unique()\n",
    "# dismissal_kinds"
   ]
  },
  {
   "cell_type": "code",
   "execution_count": 59,
   "metadata": {},
   "outputs": [
    {
     "data": {
      "text/html": [
       "<div>\n",
       "<style scoped>\n",
       "    .dataframe tbody tr th:only-of-type {\n",
       "        vertical-align: middle;\n",
       "    }\n",
       "\n",
       "    .dataframe tbody tr th {\n",
       "        vertical-align: top;\n",
       "    }\n",
       "\n",
       "    .dataframe thead th {\n",
       "        text-align: right;\n",
       "    }\n",
       "</style>\n",
       "<table border=\"1\" class=\"dataframe\">\n",
       "  <thead>\n",
       "    <tr style=\"text-align: right;\">\n",
       "      <th></th>\n",
       "      <th>Player_Name</th>\n",
       "      <th>Bowling_Skill</th>\n",
       "    </tr>\n",
       "  </thead>\n",
       "  <tbody>\n",
       "    <tr>\n",
       "      <th>0</th>\n",
       "      <td>SC Ganguly</td>\n",
       "      <td>Right-arm medium</td>\n",
       "    </tr>\n",
       "    <tr>\n",
       "      <th>1</th>\n",
       "      <td>BB McCullum</td>\n",
       "      <td>Right-arm medium</td>\n",
       "    </tr>\n",
       "    <tr>\n",
       "      <th>2</th>\n",
       "      <td>RT Ponting</td>\n",
       "      <td>Right-arm medium</td>\n",
       "    </tr>\n",
       "    <tr>\n",
       "      <th>3</th>\n",
       "      <td>DJ Hussey</td>\n",
       "      <td>Right-arm offbreak</td>\n",
       "    </tr>\n",
       "    <tr>\n",
       "      <th>4</th>\n",
       "      <td>Mohammad Hafeez</td>\n",
       "      <td>Right-arm offbreak</td>\n",
       "    </tr>\n",
       "    <tr>\n",
       "      <th>...</th>\n",
       "      <td>...</td>\n",
       "      <td>...</td>\n",
       "    </tr>\n",
       "    <tr>\n",
       "      <th>463</th>\n",
       "      <td>SM Boland</td>\n",
       "      <td>Right-arm fast-medium</td>\n",
       "    </tr>\n",
       "    <tr>\n",
       "      <th>464</th>\n",
       "      <td>DL Chahar</td>\n",
       "      <td>Right-arm medium</td>\n",
       "    </tr>\n",
       "    <tr>\n",
       "      <th>466</th>\n",
       "      <td>RV Pawar</td>\n",
       "      <td>Slow left-arm orthodox</td>\n",
       "    </tr>\n",
       "    <tr>\n",
       "      <th>468</th>\n",
       "      <td>T Mishra</td>\n",
       "      <td>Right-arm fast-medium</td>\n",
       "    </tr>\n",
       "    <tr>\n",
       "      <th>522</th>\n",
       "      <td>B Aparajith</td>\n",
       "      <td>Right-arm offbreak</td>\n",
       "    </tr>\n",
       "  </tbody>\n",
       "</table>\n",
       "<p>427 rows × 2 columns</p>\n",
       "</div>"
      ],
      "text/plain": [
       "         Player_Name           Bowling_Skill\n",
       "0         SC Ganguly        Right-arm medium\n",
       "1        BB McCullum        Right-arm medium\n",
       "2         RT Ponting        Right-arm medium\n",
       "3          DJ Hussey      Right-arm offbreak\n",
       "4    Mohammad Hafeez      Right-arm offbreak\n",
       "..               ...                     ...\n",
       "463        SM Boland   Right-arm fast-medium\n",
       "464        DL Chahar        Right-arm medium\n",
       "466         RV Pawar  Slow left-arm orthodox\n",
       "468         T Mishra   Right-arm fast-medium\n",
       "522      B Aparajith      Right-arm offbreak\n",
       "\n",
       "[427 rows x 2 columns]"
      ]
     },
     "execution_count": 59,
     "metadata": {},
     "output_type": "execute_result"
    }
   ],
   "source": [
    "import pandas as pd\n",
    "\n",
    "# Read the player.csv file into a DataFrame\n",
    "players = pd.read_csv(\"data/Player.csv\")\n",
    "\n",
    "# players\n",
    "\n",
    "new_players = pd.DataFrame()\n",
    "new_players[['Player_Name', 'Bowling_Skill']] = players[['Player_Name', 'Bowling_Skill']]\n",
    "\n",
    "new_players.dropna(inplace=True)\n",
    "\n",
    "new_players\n",
    "\n",
    "df_reduced['Bowling_Skill'] = df_reduced['bowler'].map(new_players.set_index('Player_Name')['Bowling_Skill'])\n",
    "# df_reduced['Bowling_Skill'] = df_reduced['Bowling_Skill'].fillna('nan')\n",
    "df_reduced[20:40]\n",
    "\n",
    "df_reduced['Bowling_Skill'] = df_reduced['Bowling_Skill'].replace({\n",
    "  'Right-arm medium': 'Right-arm pace',\n",
    "  'Right-arm fast-medium': 'Right-arm pace',\n",
    "  'Right-arm medium-fast': 'Right-arm pace',\n",
    "  'Right-arm fast': 'Right-arm pace',\n",
    "  'Left-arm medium': 'Left-arm pace',\n",
    "  'Left-arm fast-medium': 'Left-arm pace',\n",
    "  'Left-arm medium-fast': 'Left-arm pace',\n",
    "  'Left-arm fast': 'Left-arm pace',\n",
    "  'Right-arm offbreak': 'Right-arm offspin',\n",
    "  'Legbreak googly': 'Right-arm legspin',\n",
    "  'Legbreak': 'Right-arm legspin',\n",
    "  'Slow left-arm orthodox': 'Left-arm offspin',\n",
    "  'Slow left-arm chinaman': 'Left-arm legspin',\n",
    "})\n",
    "\n",
    "# unique_bowling_types = df_reduced['Bowling_Skill'].unique()\n",
    "# unique_bowling_types\n",
    "\n",
    "new_players"
   ]
  },
  {
   "cell_type": "code",
   "execution_count": 60,
   "metadata": {},
   "outputs": [
    {
     "data": {
      "text/html": [
       "<div>\n",
       "<style scoped>\n",
       "    .dataframe tbody tr th:only-of-type {\n",
       "        vertical-align: middle;\n",
       "    }\n",
       "\n",
       "    .dataframe tbody tr th {\n",
       "        vertical-align: top;\n",
       "    }\n",
       "\n",
       "    .dataframe thead th {\n",
       "        text-align: right;\n",
       "    }\n",
       "</style>\n",
       "<table border=\"1\" class=\"dataframe\">\n",
       "  <thead>\n",
       "    <tr style=\"text-align: right;\">\n",
       "      <th></th>\n",
       "      <th>Player Name</th>\n",
       "      <th>Team Name</th>\n",
       "      <th>Player Nationality</th>\n",
       "      <th>Date of Birth</th>\n",
       "      <th>Player Role</th>\n",
       "      <th>IPL Debut</th>\n",
       "      <th>Batting Style</th>\n",
       "      <th>Bowling Style</th>\n",
       "      <th>Player Salary</th>\n",
       "    </tr>\n",
       "  </thead>\n",
       "  <tbody>\n",
       "    <tr>\n",
       "      <th>0</th>\n",
       "      <td>MS Dhoni</td>\n",
       "      <td>CSK</td>\n",
       "      <td>Indian</td>\n",
       "      <td>7-Jul-81</td>\n",
       "      <td>Wicketkeeper Batter</td>\n",
       "      <td>2008.0</td>\n",
       "      <td>Right hand Bat</td>\n",
       "      <td>Right arm Medium</td>\n",
       "      <td>₹12crore(US$1.5 million)</td>\n",
       "    </tr>\n",
       "    <tr>\n",
       "      <th>1</th>\n",
       "      <td>Devon Conway</td>\n",
       "      <td>CSK</td>\n",
       "      <td>South African</td>\n",
       "      <td>8-Jul-91</td>\n",
       "      <td>Wicketkeeper Batter</td>\n",
       "      <td>2022.0</td>\n",
       "      <td>Left hand Bat</td>\n",
       "      <td>Right arm Medium</td>\n",
       "      <td>₹1crore(US$130,000)</td>\n",
       "    </tr>\n",
       "    <tr>\n",
       "      <th>2</th>\n",
       "      <td>Ruturaj Gaikwad</td>\n",
       "      <td>CSK</td>\n",
       "      <td>Indian</td>\n",
       "      <td>31-Jan-97</td>\n",
       "      <td>Batter</td>\n",
       "      <td>2020.0</td>\n",
       "      <td>Right hand Bat</td>\n",
       "      <td>Right arm Offbreak</td>\n",
       "      <td>₹6crore(US$750,000)</td>\n",
       "    </tr>\n",
       "    <tr>\n",
       "      <th>3</th>\n",
       "      <td>Ajinkya Rahane</td>\n",
       "      <td>CSK</td>\n",
       "      <td>Indian</td>\n",
       "      <td>6-Jun-88</td>\n",
       "      <td>Top order Batter</td>\n",
       "      <td>2008.0</td>\n",
       "      <td>Right hand Bat</td>\n",
       "      <td>Right arm Medium</td>\n",
       "      <td>₹50lakh(US$63,000)</td>\n",
       "    </tr>\n",
       "    <tr>\n",
       "      <th>4</th>\n",
       "      <td>Shaik Rasheed</td>\n",
       "      <td>CSK</td>\n",
       "      <td>Indian</td>\n",
       "      <td>24-Sep-04</td>\n",
       "      <td>Batter</td>\n",
       "      <td>NaN</td>\n",
       "      <td>Right hand Bat</td>\n",
       "      <td>Legbreak</td>\n",
       "      <td>₹20lakh(US$25,000)</td>\n",
       "    </tr>\n",
       "    <tr>\n",
       "      <th>...</th>\n",
       "      <td>...</td>\n",
       "      <td>...</td>\n",
       "      <td>...</td>\n",
       "      <td>...</td>\n",
       "      <td>...</td>\n",
       "      <td>...</td>\n",
       "      <td>...</td>\n",
       "      <td>...</td>\n",
       "      <td>...</td>\n",
       "    </tr>\n",
       "    <tr>\n",
       "      <th>240</th>\n",
       "      <td>Mujeeb Ur Rahman</td>\n",
       "      <td>KKR</td>\n",
       "      <td>Afghan</td>\n",
       "      <td>28-Mar-01</td>\n",
       "      <td>Bowler</td>\n",
       "      <td>2018.0</td>\n",
       "      <td>Right hand Bat</td>\n",
       "      <td>Right arm Offbreak</td>\n",
       "      <td>Salary not available</td>\n",
       "    </tr>\n",
       "    <tr>\n",
       "      <th>241</th>\n",
       "      <td>Dushmantha Chameera</td>\n",
       "      <td>KKR</td>\n",
       "      <td>Sri Lankan</td>\n",
       "      <td>11-Jan-92</td>\n",
       "      <td>Bowler</td>\n",
       "      <td>NaN</td>\n",
       "      <td>Right hand Bat</td>\n",
       "      <td>Right arm Fast</td>\n",
       "      <td>Salary not available</td>\n",
       "    </tr>\n",
       "    <tr>\n",
       "      <th>242</th>\n",
       "      <td>Sakib Hussain</td>\n",
       "      <td>KKR</td>\n",
       "      <td>Indian</td>\n",
       "      <td>14-Dec-04</td>\n",
       "      <td>Bowler</td>\n",
       "      <td>NaN</td>\n",
       "      <td>Right hand Bat</td>\n",
       "      <td>Right arm Medium</td>\n",
       "      <td>Salary not available</td>\n",
       "    </tr>\n",
       "    <tr>\n",
       "      <th>243</th>\n",
       "      <td>Mitchell Starc</td>\n",
       "      <td>KKR</td>\n",
       "      <td>Australian</td>\n",
       "      <td>30-Jan-90</td>\n",
       "      <td>Bowler</td>\n",
       "      <td>2014.0</td>\n",
       "      <td>Left hand Bat</td>\n",
       "      <td>Left arm Fast</td>\n",
       "      <td>2475</td>\n",
       "    </tr>\n",
       "    <tr>\n",
       "      <th>244</th>\n",
       "      <td>Chetan Sakariya</td>\n",
       "      <td>KKR</td>\n",
       "      <td>Indian</td>\n",
       "      <td>28-Feb-98</td>\n",
       "      <td>Bowler</td>\n",
       "      <td>2021.0</td>\n",
       "      <td>Left hand Bat</td>\n",
       "      <td>Left arm Medium fast</td>\n",
       "      <td>50</td>\n",
       "    </tr>\n",
       "  </tbody>\n",
       "</table>\n",
       "<p>245 rows × 9 columns</p>\n",
       "</div>"
      ],
      "text/plain": [
       "             Player Name Team Name Player Nationality Date of Birth  \\\n",
       "0               MS Dhoni       CSK             Indian      7-Jul-81   \n",
       "1           Devon Conway       CSK      South African      8-Jul-91   \n",
       "2        Ruturaj Gaikwad       CSK             Indian     31-Jan-97   \n",
       "3         Ajinkya Rahane       CSK             Indian      6-Jun-88   \n",
       "4          Shaik Rasheed       CSK             Indian     24-Sep-04   \n",
       "..                   ...       ...                ...           ...   \n",
       "240     Mujeeb Ur Rahman       KKR             Afghan     28-Mar-01   \n",
       "241  Dushmantha Chameera       KKR         Sri Lankan     11-Jan-92   \n",
       "242        Sakib Hussain       KKR             Indian     14-Dec-04   \n",
       "243       Mitchell Starc       KKR         Australian     30-Jan-90   \n",
       "244      Chetan Sakariya       KKR             Indian     28-Feb-98   \n",
       "\n",
       "             Player Role  IPL Debut   Batting Style         Bowling Style  \\\n",
       "0    Wicketkeeper Batter     2008.0  Right hand Bat      Right arm Medium   \n",
       "1    Wicketkeeper Batter     2022.0   Left hand Bat      Right arm Medium   \n",
       "2                 Batter     2020.0  Right hand Bat    Right arm Offbreak   \n",
       "3       Top order Batter     2008.0  Right hand Bat      Right arm Medium   \n",
       "4                 Batter        NaN  Right hand Bat              Legbreak   \n",
       "..                   ...        ...             ...                   ...   \n",
       "240               Bowler     2018.0  Right hand Bat    Right arm Offbreak   \n",
       "241               Bowler        NaN  Right hand Bat        Right arm Fast   \n",
       "242               Bowler        NaN  Right hand Bat      Right arm Medium   \n",
       "243               Bowler     2014.0   Left hand Bat         Left arm Fast   \n",
       "244               Bowler     2021.0   Left hand Bat  Left arm Medium fast   \n",
       "\n",
       "                Player Salary  \n",
       "0    ₹12crore(US$1.5 million)  \n",
       "1         ₹1crore(US$130,000)  \n",
       "2         ₹6crore(US$750,000)  \n",
       "3          ₹50lakh(US$63,000)  \n",
       "4          ₹20lakh(US$25,000)  \n",
       "..                        ...  \n",
       "240      Salary not available  \n",
       "241      Salary not available  \n",
       "242      Salary not available  \n",
       "243                      2475  \n",
       "244                        50  \n",
       "\n",
       "[245 rows x 9 columns]"
      ]
     },
     "execution_count": 60,
     "metadata": {},
     "output_type": "execute_result"
    }
   ],
   "source": [
    "import pandas as pd\n",
    "\n",
    "# Read the CSV file into a DataFrame\n",
    "players_info = pd.read_csv(\"data/Players_Info_2024.csv\")\n",
    "\n",
    "# Drop the \"about\" column\n",
    "players_info = players_info.drop(columns=[\"About\"])\n",
    "\n",
    "# Display the updated DataFrame\n",
    "players_info"
   ]
  },
  {
   "cell_type": "code",
   "execution_count": 61,
   "metadata": {},
   "outputs": [
    {
     "data": {
      "text/plain": [
       "array(['Right-arm pace', 'Left-arm pace', 'Left-arm offspin',\n",
       "       'Right-arm legspin', 'Right-arm offspin', 'Left-arm legspin', nan,\n",
       "       'Legbreak Googly', 'Left arm Medium', 'Right arm Offbreak',\n",
       "       'Right arm Fast', 'Right arm Fast medium',\n",
       "       'Slow Left arm Orthodox', 'Left arm Medium fast', 'Legbreak',\n",
       "       'Right arm Medium, Right arm Offbreak', 'Right arm Medium fast',\n",
       "       'Left arm Fast medium', 'Right arm Medium', 'Left arm Wrist spin'],\n",
       "      dtype=object)"
      ]
     },
     "execution_count": 61,
     "metadata": {},
     "output_type": "execute_result"
    }
   ],
   "source": [
    "import numpy as np\n",
    "\n",
    "# Function to preprocess names\n",
    "def preprocess_name(name):\n",
    "    return ' '.join(name.split()).lower()\n",
    "\n",
    "# Preprocess player names in both dataframes\n",
    "df_reduced['bowler'] = df_reduced['bowler'].apply(preprocess_name)\n",
    "players_info['Player Name'] = players_info['Player Name'].apply(preprocess_name)\n",
    "\n",
    "# Create a dictionary mapping from players_info to df_reduced\n",
    "name_to_skill = dict(zip(players_info['Player Name'], players_info['Bowling Style']))\n",
    "\n",
    "# Function to fill NaN values using the mapping dictionary\n",
    "def fill_bowling_skill(row):\n",
    "    if pd.isna(row['Bowling_Skill']):\n",
    "        return name_to_skill.get(row['bowler'], row['Bowling_Skill'])\n",
    "    return row['Bowling_Skill']\n",
    "\n",
    "# Apply the function to fill NaN values in df_reduced\n",
    "df_reduced['Bowling_Skill'] = df_reduced.apply(fill_bowling_skill, axis=1)\n",
    "\n",
    "df_reduced['Bowling_Skill'].unique()\n"
   ]
  },
  {
   "cell_type": "code",
   "execution_count": 64,
   "metadata": {},
   "outputs": [],
   "source": [
    "# Filter the DataFrame to get rows with NaN in Bowling_Skill\n",
    "nan_bowling_skill_df = df_reduced[df_reduced['Bowling_Skill'].isna()]\n",
    "\n",
    "# Drop duplicates to get unique values\n",
    "unique_nan_bowling_skill_df = nan_bowling_skill_df[['bowler']].drop_duplicates()\n",
    "\n",
    "# Add an empty Bowling_Skill column\n",
    "unique_nan_bowling_skill_df['Bowling_Skill'] = np.nan\n",
    "\n",
    "unique_nan_bowling_skill_df.to_csv(\"data/unique_nan_bowling_skill.csv\", index=False)"
   ]
  },
  {
   "cell_type": "code",
   "execution_count": null,
   "metadata": {},
   "outputs": [],
   "source": [
    "from tqdm import tqdm\n",
    "\n",
    "df_reduced['no_of_right_arm_pacers_faced'] = 0\n",
    "df_reduced['no_of_left_arm_pacers_faced'] = 0\n",
    "df_reduced['no_of_right_arm_offspinners_faced'] = 0\n",
    "df_reduced['no_of_left_arm_offspinners_faced'] = 0\n",
    "df_reduced['no_of_right_arm_legspinners_faced'] = 0\n",
    "df_reduced['no_of_left_arm_legspinners_faced'] = 0\n",
    "\n",
    "# Dictionary to keep track of bowlers faced by each batter in each match\n",
    "bowlers_faced = {}\n",
    "\n",
    "# Iterate through the DataFrame\n",
    "for idx, row in tqdm(df_reduced.iterrows(), total=len(df_reduced)):\n",
    "    match_id = row['match_id']\n",
    "    batter = row['batter']\n",
    "    bowler = row['bowler']\n",
    "    skill = row['Bowling_Skill']\n",
    "    \n",
    "    if match_id not in bowlers_faced:\n",
    "        bowlers_faced[match_id] = {}\n",
    "    \n",
    "    if batter not in bowlers_faced[match_id]:\n",
    "        bowlers_faced[match_id][batter] = {'Right-arm pace': set(), 'Left-arm pace': set(), 'Right-arm offspin': set(), 'Left-arm offspin': set(), 'Right-arm legspin': set(), 'Left-arm legspin': set(), 'nan': set()}\n",
    "    \n",
    "    #if bowler not in bowlers_faced[match_id][batter][skill]:\n",
    "    bowlers_faced[match_id][batter][skill].add(bowler)\n",
    "    \n",
    "    df_reduced.loc[df_reduced.index == idx, 'no_of_right_arm_pacers_faced'] = len(bowlers_faced[match_id][batter]['Right-arm pace'])\n",
    "    df_reduced.loc[df_reduced.index == idx, 'no_of_left_arm_pacers_faced'] = len(bowlers_faced[match_id][batter]['Left-arm pace'])\n",
    "    df_reduced.loc[df_reduced.index == idx, 'no_of_right_arm_offspinners_faced'] = len(bowlers_faced[match_id][batter]['Right-arm offspin'])\n",
    "    df_reduced.loc[df_reduced.index == idx, 'no_of_left_arm_offspinners_faced'] = len(bowlers_faced[match_id][batter]['Left-arm offspin'])\n",
    "    df_reduced.loc[df_reduced.index == idx, 'no_of_right_arm_legspinners_faced'] = len(bowlers_faced[match_id][batter]['Right-arm legspin'])\n",
    "    df_reduced.loc[df_reduced.index == idx, 'no_of_left_arm_legspinners_faced'] = len(bowlers_faced[match_id][batter]['Left-arm legspin'])\n",
    "    # df_reduced.loc[df_reduced.index == idx, 'no_of_nans'] = len(bowlers_faced[match_id][batter]['nan'])\n",
    "\n",
    "    # if skill == 'Right-arm pace':\n",
    "    #     df_reduced.loc[df_reduced.index == idx, 'no_of_right_arm_pacers_faced'] = len(bowlers_faced[match_id][batter]['Right-arm pace'])\n",
    "    # if skill == 'Left-arm pace':\n",
    "    #     df_reduced.loc[df_reduced.index == idx, 'no_of_left_arm_pacers_faced'] = len(bowlers_faced[match_id][batter]['Left-arm pace'])\n",
    "    # if skill == 'Right-arm offspin':\n",
    "    #     df_reduced.loc[df_reduced.index == idx, 'no_of_right_arm_offspinners_faced'] = len(bowlers_faced[match_id][batter]['Right-arm offspin'])\n",
    "    # if skill == 'Left-arm offspin':\n",
    "    #     df_reduced.loc[df_reduced.index == idx, 'no_of_left_arm_offspinners_faced'] = len(bowlers_faced[match_id][batter]['Left-arm offspin'])\n",
    "    # if skill == 'Right-arm legspin':\n",
    "    #     df_reduced.loc[df_reduced.index == idx, 'no_of_right_arm_legspinners_faced'] = len(bowlers_faced[match_id][batter]['Right-arm legspin'])\n",
    "    # if skill == 'Left-arm legspin':\n",
    "    #     df_reduced.loc[df_reduced.index == idx, 'no_of_left_arm_legspinners_faced'] = len(bowlers_faced[match_id][batter]['Left-arm legspin'])\n",
    "    # if skill == 'nan':\n",
    "    #     df_reduced.loc[df_reduced.index == idx, 'no_of_nans'] = len(bowlers_faced[match_id][batter]['nan'])\n"
   ]
  },
  {
   "cell_type": "code",
   "execution_count": null,
   "metadata": {},
   "outputs": [],
   "source": [
    "aggregated_df = df_reduced.groupby(['match_id', 'inning', 'bowling_team', 'batter']).agg({\n",
    "    'batter_total_balls': 'max',\n",
    "    'batter_SR': 'max',\n",
    "    'batter_score': 'max',\n",
    "    'dismissal_kind': 'first',\n",
    "    'date': 'first',\n",
    "    'match_type': 'first',\n",
    "    'venue': 'first',\n",
    "    'no_of_right_arm_pacers_faced': 'max',\n",
    "    'no_of_left_arm_pacers_faced': 'max',\n",
    "    'no_of_right_arm_offspinners_faced': 'max',\n",
    "    'no_of_right_arm_legspinners_faced': 'max',\n",
    "    'no_of_left_arm_legspinners_faced': 'max',\n",
    "    'no_of_left_arm_offspinners_faced': 'max'\n",
    "}).reset_index()\n",
    "\n",
    "aggregated_df\n",
    "\n",
    "nan_bowlers = df_reduced[df_reduced['Bowling_Skill'] == 'nan']['bowler'].unique()\n",
    "print(len(nan_bowlers))\n",
    "\n",
    "print(len(new_players))\n",
    "\n",
    "all_bowlers = new_players._append(pd.DataFrame({'Player_Name': nan_bowlers, 'Bowling_Skill': 'nan'}), ignore_index=True)\n",
    "len(all_bowlers)"
   ]
  },
  {
   "cell_type": "code",
   "execution_count": null,
   "metadata": {},
   "outputs": [],
   "source": [
    "aggregated_df"
   ]
  },
  {
   "cell_type": "code",
   "execution_count": null,
   "metadata": {},
   "outputs": [],
   "source": [
    "# Ensure the dataframe is sorted by 'batter' and 'date'\n",
    "# aggregated_df = aggregated_df.sort_values(by=['batter', 'date'])\n",
    "\n",
    "# Group by 'batter' and calculate the rolling sums for the last 5 matches\n",
    "aggregated_df['score_last_5'] = aggregated_df.groupby('batter')['batter_score'].transform(lambda x: x.rolling(window=5, min_periods=1).sum())\n",
    "aggregated_df['balls_last_5'] = aggregated_df.groupby('batter')['batter_total_balls'].transform(lambda x: x.rolling(window=5, min_periods=1).sum())\n",
    "\n",
    "# Create new columns for each of the last 5 matches\n",
    "for i in range(1, 6):\n",
    "    aggregated_df[f'score_last_{i}'] = aggregated_df.groupby('batter')['batter_score'].transform(lambda x: x.shift(i))\n",
    "    aggregated_df[f'balls_last_{i}'] = aggregated_df.groupby('batter')['batter_total_balls'].transform(lambda x: x.shift(i))\n",
    "\n",
    "aggregated_df.columns"
   ]
  },
  {
   "cell_type": "code",
   "execution_count": null,
   "metadata": {},
   "outputs": [],
   "source": [
    "aggregated_df.to_csv(\"data/aggregated_df.csv\", index=False)"
   ]
  },
  {
   "cell_type": "code",
   "execution_count": null,
   "metadata": {},
   "outputs": [],
   "source": [
    "dataframe = pd.read_csv(\"data/aggregated_df.csv\")\n",
    "dataframe.columns"
   ]
  },
  {
   "cell_type": "code",
   "execution_count": null,
   "metadata": {},
   "outputs": [],
   "source": [
    "aggregated_df.drop(columns=['no_of_left_arm_offpacers_faced'], inplace=True)"
   ]
  },
  {
   "cell_type": "code",
   "execution_count": null,
   "metadata": {},
   "outputs": [],
   "source": [
    "df_reduced\n",
    "bowlers_per_inning = df_reduced.groupby(['match_id', 'inning', 'Bowling_Skill'])['bowler'].nunique()\n",
    "bowlers_per_inning"
   ]
  }
 ],
 "metadata": {
  "kernelspec": {
   "display_name": "Python 3",
   "language": "python",
   "name": "python3"
  },
  "language_info": {
   "codemirror_mode": {
    "name": "ipython",
    "version": 3
   },
   "file_extension": ".py",
   "mimetype": "text/x-python",
   "name": "python",
   "nbconvert_exporter": "python",
   "pygments_lexer": "ipython3",
   "version": "3.12.4"
  }
 },
 "nbformat": 4,
 "nbformat_minor": 2
}
