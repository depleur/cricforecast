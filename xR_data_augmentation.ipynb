{
 "cells": [
  {
   "cell_type": "code",
   "execution_count": null,
   "metadata": {},
   "outputs": [],
   "source": [
    "import pandas as pd\n",
    "pd.options.mode.chained_assignment = None  # default='warn'\n",
    "\n",
    "ball_by_ball_data = pd.read_csv(\"data/deliveries.csv\")\n",
    "matches_data = pd.read_csv(\"data/matches.csv\")"
   ]
  },
  {
   "cell_type": "code",
   "execution_count": null,
   "metadata": {},
   "outputs": [],
   "source": [
    "matches_data['match_id'] = matches_data['id']\n",
    "matches_data.drop('id', axis = 1, inplace=True)"
   ]
  },
  {
   "cell_type": "code",
   "execution_count": null,
   "metadata": {},
   "outputs": [],
   "source": [
    "data = pd.merge(ball_by_ball_data, matches_data, on='match_id', how='left')\n",
    "data"
   ]
  },
  {
   "cell_type": "code",
   "execution_count": null,
   "metadata": {},
   "outputs": [],
   "source": [
    "data.columns"
   ]
  },
  {
   "cell_type": "code",
   "execution_count": null,
   "metadata": {},
   "outputs": [],
   "source": [
    "#ensuring that wides, noballs, and penalties don't count as a ball\n",
    "for i in range(len(data)):\n",
    "    if data.extras_type[i] in ['wides', 'noballs', 'penalty']:\n",
    "        k = True\n",
    "        j = i+1\n",
    "        # Ensure j does not exceed DataFrame length\n",
    "        while k and j < len(data):\n",
    "            if data.ball[j] > data.ball[i]:\n",
    "                data.loc[j, 'ball'] = data.ball[j] - 1\n",
    "                j += 1\n",
    "            else:\n",
    "                k = False\n",
    "        data.loc[i, 'ball'] = data.ball[i] - 1\n"
   ]
  },
  {
   "cell_type": "code",
   "execution_count": null,
   "metadata": {},
   "outputs": [],
   "source": [
    "#get the cumulative innings total runs\n",
    "innings_total_list = []\n",
    "i = 0\n",
    "x = True\n",
    "while i < len(data):\n",
    "    innings_total = data.total_runs[i]\n",
    "    innings_total_list.append(innings_total)\n",
    "    i = i+1\n",
    "    while i < len(data) and data.match_id[i] == data.match_id[i-1] and data.inning[i] == data.inning[i-1]:\n",
    "        innings_total = innings_total + data.total_runs[i]\n",
    "        innings_total_list.append(innings_total)\n",
    "        i = i+1"
   ]
  },
  {
   "cell_type": "code",
   "execution_count": null,
   "metadata": {},
   "outputs": [],
   "source": [
    "data['cumulative_innings_total'] = innings_total_list \n",
    "data['cumulative_balls'] = data['over']*6 + data['ball']"
   ]
  },
  {
   "cell_type": "code",
   "execution_count": null,
   "metadata": {},
   "outputs": [],
   "source": [
    "#get the total runs scored in that innings\n",
    "data['innings_total_runs'] = data.groupby(['match_id', 'inning'])['cumulative_innings_total'].transform('max')\n",
    "\n",
    "#get the total balls bowled in that innings\n",
    "data['innings_total_balls'] = data.groupby(['match_id', 'inning'])['cumulative_balls'].transform('max')"
   ]
  },
  {
   "cell_type": "code",
   "execution_count": null,
   "metadata": {},
   "outputs": [],
   "source": [
    "data['match_total_runs'] = data['target_runs'] - 1 + data['target_runs'] - 1 - data['result_margin']"
   ]
  },
  {
   "cell_type": "code",
   "execution_count": null,
   "metadata": {},
   "outputs": [],
   "source": [
    "#get the first row in each innings and then add the total balls in each innings to get the total balls bowled in the match\n",
    "data_first_rows = data.groupby(['match_id', 'inning']).first().reset_index()\n",
    "data_first_rows['match_total_balls'] = data_first_rows.groupby('match_id')['innings_total_balls'].transform('sum')\n",
    "to_merge_df = data_first_rows[['match_id', 'match_total_balls']].drop_duplicates()"
   ]
  },
  {
   "cell_type": "code",
   "execution_count": null,
   "metadata": {},
   "outputs": [],
   "source": [
    "data = pd.merge(data, to_merge_df, on='match_id', how='left')"
   ]
  },
  {
   "cell_type": "code",
   "execution_count": null,
   "metadata": {},
   "outputs": [],
   "source": [
    "data[0:10]"
   ]
  },
  {
   "cell_type": "code",
   "execution_count": null,
   "metadata": {},
   "outputs": [],
   "source": [
    "data['batter_total_runs'] = data.groupby(['match_id','batter'])['batsman_runs'].cumsum()\n",
    "data['batter_total_balls'] = data[(data['extras_type'] != 'wides') & (data['extras_type'] != 'penalty')].groupby(['match_id','batter']).cumcount() + 1\n",
    "#will forward fill the last valid value to the nan value\n",
    "data['batter_total_balls'] = data.groupby(['match_id', 'batter'])['batter_total_balls'].transform(lambda x: x.ffill())\n",
    "#if the first ball that the batter faced was a wide then there is nothing to ffill so we fill these with 0\n",
    "data['batter_total_balls'] = data['batter_total_balls'].fillna(0)"
   ]
  },
  {
   "cell_type": "code",
   "execution_count": null,
   "metadata": {},
   "outputs": [],
   "source": [
    "data['bowler_total_runs'] = data[(data['extras_type'] != 'byes') & (data['extras_type'] != 'legbyes') & (data['extras_type'] != 'penalty')].groupby(['match_id', 'bowler'])['total_runs'].cumsum()\n",
    "data['bowler_total_balls'] = data[(data['extras_type'] != 'wides') & (data['extras_type'] != 'noballs') & (data['extras_type'] != 'penalty')].groupby(['match_id','bowler']).cumcount() + 1\n",
    "#will forward fill the last valid value to the nan value\n",
    "data['bowler_total_runs'] = data.groupby(['match_id', 'bowler'])['bowler_total_runs'].transform(lambda x: x.ffill())\n",
    "#if the first ball bowled by a bowler is a bye then there is nothing to ffill so we fill these with 0\n",
    "data['bowler_total_runs'] = data['bowler_total_runs'].fillna(0)\n",
    "#will forward fill the last valid value to the nan value\n",
    "data['bowler_total_balls'] = data.groupby(['match_id', 'bowler'])['bowler_total_balls'].transform(lambda x: x.ffill())\n",
    "#if the first ball bowled by a bowler is a noball then there is nothing to ffill so we fill these with 0\n",
    "data['bowler_total_balls'] = data['bowler_total_balls'].fillna(0)"
   ]
  },
  {
   "cell_type": "code",
   "execution_count": null,
   "metadata": {},
   "outputs": [],
   "source": [
    "data['bowler_economy'] = data['bowler_total_runs']/data['bowler_total_balls'] * 6"
   ]
  },
  {
   "cell_type": "code",
   "execution_count": null,
   "metadata": {},
   "outputs": [],
   "source": [
    "data['batter_SR'] = data['batter_total_runs']/data['batter_total_balls'] * 100"
   ]
  },
  {
   "cell_type": "code",
   "execution_count": null,
   "metadata": {},
   "outputs": [],
   "source": [
    "data.columns"
   ]
  },
  {
   "cell_type": "code",
   "execution_count": null,
   "metadata": {},
   "outputs": [],
   "source": [
    "data.season.unique()"
   ]
  },
  {
   "cell_type": "code",
   "execution_count": null,
   "metadata": {},
   "outputs": [],
   "source": [
    "data_2008 = data[data['season'] =='2007/08']\n",
    "data_2009 = data[data['season'] =='2009']\n",
    "data_2010 = data[data['season'] =='2009/10']\n",
    "data_2011 = data[data['season'] =='2011']\n",
    "data_2012 = data[data['season'] =='2012']\n",
    "data_2013 = data[data['season'] =='2013']\n",
    "data_2014 = data[data['season'] =='2014']\n",
    "data_2015 = data[data['season'] =='2015']\n",
    "data_2016 = data[data['season'] =='2016']\n",
    "data_2017 = data[data['season'] =='2017']\n",
    "data_2018 = data[data['season'] =='2018']\n",
    "data_2019 = data[data['season'] =='2019']\n",
    "data_2020 = data[data['season'] =='2020/21']\n",
    "data_2021 = data[data['season'] =='2021']\n",
    "data_2022 = data[data['season'] =='2022']\n",
    "data_2023 = data[data['season'] =='2023']"
   ]
  },
  {
   "cell_type": "code",
   "execution_count": null,
   "metadata": {},
   "outputs": [],
   "source": [
    "xR_data = data"
   ]
  },
  {
   "cell_type": "code",
   "execution_count": null,
   "metadata": {},
   "outputs": [],
   "source": [
    "#xR_data.to_csv(\"xR_data.csv\", index=False)"
   ]
  },
  {
   "cell_type": "code",
   "execution_count": null,
   "metadata": {},
   "outputs": [],
   "source": [
    "unnecessary_cols = [\n",
    "    'batting_team', 'batsman_runs', 'over', 'ball', 'total_runs',\n",
    "    'non_striker', 'extra_runs', 'extras_type', 'is_wicket',\n",
    "    'player_dismissed', 'fielder', 'season', 'city',\n",
    "    'player_of_match', 'venue', 'team1', 'team2', 'toss_winner',\n",
    "    'toss_decision', 'winner', 'result', 'result_margin', 'target_runs',\n",
    "    'target_overs', 'super_over', 'method', 'umpire1', 'umpire2',\n",
    "    'cumulative_innings_total', 'innings_total_runs',\n",
    "    'innings_total_balls', 'match_total_runs', 'match_total_balls',\n",
    "    'bowler_total_runs', 'bowler_total_balls', 'bowler_economy',\n",
    "]"
   ]
  },
  {
   "cell_type": "code",
   "execution_count": null,
   "metadata": {},
   "outputs": [],
   "source": [
    "# Drop the unnecessary columns\n",
    "df_reduced = data.drop(columns=unnecessary_cols)\n",
    "\n",
    "# Display the new DataFrame\n",
    "df_reduced"
   ]
  },
  {
   "cell_type": "code",
   "execution_count": null,
   "metadata": {},
   "outputs": [],
   "source": [
    "# ball_by_ball_data[0:10]\n",
    "df_reduced['batter_score'] = df_reduced.groupby(['match_id', 'batter'])['batter_total_runs'].transform('max')\n",
    "df_reduced"
   ]
  },
  {
   "cell_type": "code",
   "execution_count": null,
   "metadata": {},
   "outputs": [],
   "source": [
    "dismissal_kinds = df_reduced['dismissal_kind'].unique()\n",
    "dismissal_kinds"
   ]
  },
  {
   "cell_type": "code",
   "execution_count": null,
   "metadata": {},
   "outputs": [],
   "source": [
    "import pandas as pd\n",
    "\n",
    "# Read the player.csv file into a DataFrame\n",
    "players = pd.read_csv(\"data/Player.csv\")\n",
    "\n",
    "# players\n",
    "\n",
    "new_players = pd.DataFrame()\n",
    "new_players[['Player_Name', 'Bowling_Skill']] = players[['Player_Name', 'Bowling_Skill']]\n",
    "\n",
    "new_players.dropna(inplace=True)\n",
    "\n",
    "# new_players\n",
    "\n",
    "df_reduced['Bowling_Skill'] = df_reduced['bowler'].map(new_players.set_index('Player_Name')['Bowling_Skill'])\n",
    "df_reduced['Bowling_Skill'] = df_reduced['Bowling_Skill'].fillna('nan')\n",
    "df_reduced[20:40]\n",
    "\n",
    "df_reduced['Bowling_Skill'] = df_reduced['Bowling_Skill'].replace({\n",
    "  'Right-arm medium': 'Right-arm pace',\n",
    "  'Right-arm fast-medium': 'Right-arm pace',\n",
    "  'Right-arm medium-fast': 'Right-arm pace',\n",
    "  'Right-arm fast': 'Right-arm pace',\n",
    "  'Left-arm medium': 'Left-arm pace',\n",
    "  'Left-arm fast-medium': 'Left-arm pace',\n",
    "  'Left-arm medium-fast': 'Left-arm pace',\n",
    "  'Left-arm fast': 'Left-arm pace',\n",
    "  'Right-arm offbreak': 'Right-arm offspin',\n",
    "  'Legbreak googly': 'Right-arm legspin',\n",
    "  'Legbreak': 'Right-arm legspin',\n",
    "  'Slow left-arm orthodox': 'Left-arm offspin',\n",
    "  'Slow left-arm chinaman': 'Left-arm legspin',\n",
    "})\n",
    "\n",
    "unique_bowling_types = df_reduced['Bowling_Skill'].unique()\n",
    "unique_bowling_types"
   ]
  },
  {
   "cell_type": "code",
   "execution_count": null,
   "metadata": {},
   "outputs": [],
   "source": [
    "print(df_reduced.columns)"
   ]
  },
  {
   "cell_type": "code",
   "execution_count": null,
   "metadata": {},
   "outputs": [],
   "source": [
    "# player name, runs scored in match, no. of each bowler type, for each batter: match-wise rows, batting pos, innings, venue"
   ]
  },
  {
   "cell_type": "code",
   "execution_count": null,
   "metadata": {},
   "outputs": [],
   "source": [
    "df_reduced = df_reduced.loc[0:140]"
   ]
  },
  {
   "cell_type": "code",
   "execution_count": null,
   "metadata": {},
   "outputs": [],
   "source": [
    "df_reduced['no_of_right_arm_pacers_faced'] = 0\n",
    "df_reduced['no_of_left_arm_pacers_faced'] = 0\n",
    "df_reduced['no_of_right_arm_offspinners_faced'] = 0\n",
    "df_reduced['no_of_left_arm_offpacers_faced'] = 0\n",
    "df_reduced['no_of_right_arm_legspinners_faced'] = 0\n",
    "df_reduced['no_of_left_arm_legspinners_faced'] = 0\n",
    "\n",
    "\n",
    "# Dictionary to keep track of bowlers faced by each batter in each match\n",
    "bowlers_faced = {}\n",
    "\n",
    "# Iterate through the DataFrame\n",
    "for idx, row in df_reduced.iterrows():\n",
    "    match_id = row['match_id']\n",
    "    batter = row['batter']\n",
    "    bowler = row['bowler']\n",
    "    skill = row['Bowling_Skill']\n",
    "    \n",
    "    if match_id not in bowlers_faced:\n",
    "        bowlers_faced[match_id] = {}\n",
    "    \n",
    "    if batter not in bowlers_faced[match_id]:\n",
    "        bowlers_faced[match_id][batter] = {'Right-arm pace': set(), 'Left-arm pace': set(), 'Right-arm offspin': set(), 'Left-arm offspin': set(), 'Right-arm legspin': set(), 'Left-arm legspin': set(), 'nan': set()}\n",
    "    \n",
    "    #if bowler not in bowlers_faced[match_id][batter][skill]:\n",
    "    bowlers_faced[match_id][batter][skill].add(bowler)\n",
    "    \n",
    "    df_reduced.loc[df_reduced.index == idx, 'no_of_right_arm_pacers_faced'] = len(bowlers_faced[match_id][batter]['Right-arm pace'])\n",
    "    df_reduced.loc[df_reduced.index == idx, 'no_of_left_arm_pacers_faced'] = len(bowlers_faced[match_id][batter]['Left-arm pace'])\n",
    "    df_reduced.loc[df_reduced.index == idx, 'no_of_right_arm_offspinners_faced'] = len(bowlers_faced[match_id][batter]['Right-arm offspin'])\n",
    "    df_reduced.loc[df_reduced.index == idx, 'no_of_left_arm_offspinners_faced'] = len(bowlers_faced[match_id][batter]['Left-arm offspin'])\n",
    "    df_reduced.loc[df_reduced.index == idx, 'no_of_right_arm_legspinners_faced'] = len(bowlers_faced[match_id][batter]['Right-arm legspin'])\n",
    "    df_reduced.loc[df_reduced.index == idx, 'no_of_left_arm_legspinners_faced'] = len(bowlers_faced[match_id][batter]['Left-arm legspin'])\n",
    "    # df_reduced.loc[df_reduced.index == idx, 'no_of_nans'] = len(bowlers_faced[match_id][batter]['nan'])\n",
    "\n",
    "    # if skill == 'Right-arm pace':\n",
    "    #     df_reduced.loc[df_reduced.index == idx, 'no_of_right_arm_pacers_faced'] = len(bowlers_faced[match_id][batter]['Right-arm pace'])\n",
    "    # if skill == 'Left-arm pace':\n",
    "    #     df_reduced.loc[df_reduced.index == idx, 'no_of_left_arm_pacers_faced'] = len(bowlers_faced[match_id][batter]['Left-arm pace'])\n",
    "    # if skill == 'Right-arm offspin':\n",
    "    #     df_reduced.loc[df_reduced.index == idx, 'no_of_right_arm_offspinners_faced'] = len(bowlers_faced[match_id][batter]['Right-arm offspin'])\n",
    "    # if skill == 'Left-arm offspin':\n",
    "    #     df_reduced.loc[df_reduced.index == idx, 'no_of_left_arm_offspinners_faced'] = len(bowlers_faced[match_id][batter]['Left-arm offspin'])\n",
    "    # if skill == 'Right-arm legspin':\n",
    "    #     df_reduced.loc[df_reduced.index == idx, 'no_of_right_arm_legspinners_faced'] = len(bowlers_faced[match_id][batter]['Right-arm legspin'])\n",
    "    # if skill == 'Left-arm legspin':\n",
    "    #     df_reduced.loc[df_reduced.index == idx, 'no_of_left_arm_legspinners_faced'] = len(bowlers_faced[match_id][batter]['Left-arm legspin'])\n",
    "    # if skill == 'nan':\n",
    "    #     df_reduced.loc[df_reduced.index == idx, 'no_of_nans'] = len(bowlers_faced[match_id][batter]['nan'])\n"
   ]
  },
  {
   "cell_type": "code",
   "execution_count": null,
   "metadata": {},
   "outputs": [],
   "source": [
    "bowlers_faced"
   ]
  },
  {
   "cell_type": "code",
   "execution_count": null,
   "metadata": {},
   "outputs": [],
   "source": [
    "df_reduced[120:140]"
   ]
  }
 ],
 "metadata": {
  "kernelspec": {
   "display_name": "Python 3",
   "language": "python",
   "name": "python3"
  },
  "language_info": {
   "codemirror_mode": {
    "name": "ipython",
    "version": 3
   },
   "file_extension": ".py",
   "mimetype": "text/x-python",
   "name": "python",
   "nbconvert_exporter": "python",
   "pygments_lexer": "ipython3",
   "version": "3.11.9"
  }
 },
 "nbformat": 4,
 "nbformat_minor": 2
}
