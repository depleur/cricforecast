{
 "cells": [
  {
   "cell_type": "code",
   "execution_count": 21,
   "metadata": {},
   "outputs": [
    {
     "data": {
      "text/plain": [
       "Index(['match_id', 'inning', 'bowling_team', 'batter', 'batter_total_balls',\n",
       "       'batter_SR', 'batter_score', 'dismissal_kind', 'date', 'match_type',\n",
       "       'venue', 'no_of_right_arm_pacers_faced', 'no_of_left_arm_pacers_faced',\n",
       "       'no_of_right_arm_offspinners_faced',\n",
       "       'no_of_right_arm_legspinners_faced', 'no_of_left_arm_legspinners_faced',\n",
       "       'no_of_left_arm_offspinners_faced', 'score_last_5', 'balls_last_5',\n",
       "       'score_last_1', 'balls_last_1', 'score_last_2', 'balls_last_2',\n",
       "       'score_last_3', 'balls_last_3', 'score_last_4', 'balls_last_4'],\n",
       "      dtype='object')"
      ]
     },
     "execution_count": 21,
     "metadata": {},
     "output_type": "execute_result"
    }
   ],
   "source": [
    "import pandas as pd\n",
    "import numpy as np\n",
    "import matplotlib.pyplot as plt\n",
    "import seaborn as sns\n",
    "from sklearn.model_selection import train_test_split\n",
    "\n",
    "# Load the data\n",
    "df = pd.read_csv('data/aggregated_df.csv')\n",
    "df.columns"
   ]
  },
  {
   "cell_type": "code",
   "execution_count": 22,
   "metadata": {},
   "outputs": [],
   "source": [
    "df.drop(columns=['batter_total_balls', \"batter_SR\", \"dismissal_kind\", \"match_id\", \"date\", 'score_last_5', 'balls_last_5',\n",
    "       'score_last_1', 'balls_last_1', 'score_last_2', 'balls_last_2',\n",
    "       'score_last_3', 'balls_last_3', 'score_last_4', 'balls_last_4'], inplace=True)"
   ]
  },
  {
   "cell_type": "code",
   "execution_count": 23,
   "metadata": {},
   "outputs": [
    {
     "data": {
      "text/plain": [
       "Index(['inning', 'bowling_team', 'batter', 'match_type', 'venue',\n",
       "       'no_of_right_arm_pacers_faced', 'no_of_left_arm_pacers_faced',\n",
       "       'no_of_right_arm_offspinners_faced',\n",
       "       'no_of_right_arm_legspinners_faced', 'no_of_left_arm_legspinners_faced',\n",
       "       'no_of_left_arm_offspinners_faced', 'batter_score'],\n",
       "      dtype='object')"
      ]
     },
     "execution_count": 23,
     "metadata": {},
     "output_type": "execute_result"
    }
   ],
   "source": [
    "df = df.reindex(columns=[col for col in df.columns if col != 'batter_score'] + ['batter_score'])\n",
    "df.columns"
   ]
  },
  {
   "cell_type": "code",
   "execution_count": 24,
   "metadata": {},
   "outputs": [
    {
     "name": "stderr",
     "output_type": "stream",
     "text": [
      "/var/folders/xn/1qlh6svd3jz7qk3ry827bz780000gn/T/ipykernel_59731/2846809981.py:3: SettingWithCopyWarning: \n",
      "A value is trying to be set on a copy of a slice from a DataFrame\n",
      "\n",
      "See the caveats in the documentation: https://pandas.pydata.org/pandas-docs/stable/user_guide/indexing.html#returning-a-view-versus-a-copy\n",
      "  gdf.drop(columns=['batter'], inplace=True)\n"
     ]
    }
   ],
   "source": [
    "player = 'RG Sharma'\n",
    "gdf = df[df['batter'] == player]\n",
    "gdf.drop(columns=['batter'], inplace=True)\n",
    "\n",
    "gdf = gdf.fillna(-1).astype({\"no_of_left_arm_offspinners_faced\": 'int'})\n",
    "\n",
    "#print(gdf.dtypes)"
   ]
  },
  {
   "cell_type": "code",
   "execution_count": 25,
   "metadata": {},
   "outputs": [
    {
     "data": {
      "text/plain": [
       "Index(['inning', 'bowling_team', 'match_type', 'venue',\n",
       "       'no_of_right_arm_pacers_faced', 'no_of_left_arm_pacers_faced',\n",
       "       'no_of_right_arm_offspinners_faced',\n",
       "       'no_of_right_arm_legspinners_faced', 'no_of_left_arm_legspinners_faced',\n",
       "       'no_of_left_arm_offspinners_faced', 'batter_score'],\n",
       "      dtype='object')"
      ]
     },
     "execution_count": 25,
     "metadata": {},
     "output_type": "execute_result"
    }
   ],
   "source": [
    "gdf.columns"
   ]
  },
  {
   "cell_type": "code",
   "execution_count": 26,
   "metadata": {},
   "outputs": [],
   "source": [
    "X = gdf.iloc[:, :-1].values\n",
    "y = gdf.iloc[:, -1].values\n",
    "\n",
    "from sklearn.compose import ColumnTransformer\n",
    "from sklearn.preprocessing import OneHotEncoder\n",
    "ct = ColumnTransformer(transformers = [('encoder', OneHotEncoder(), [1])], remainder = 'passthrough')\n",
    "ct1 = ColumnTransformer(transformers = [('encoder', OneHotEncoder(), [-8])], remainder = 'passthrough')\n",
    "ct2 = ColumnTransformer(transformers = [('encoder', OneHotEncoder(), [-7])], remainder = 'passthrough')\n",
    "X = np.array(ct.fit_transform(X))\n",
    "X = np.array(ct1.fit_transform(X))\n",
    "X = np.array(ct2.fit_transform(X))"
   ]
  },
  {
   "cell_type": "code",
   "execution_count": 27,
   "metadata": {},
   "outputs": [],
   "source": [
    "y = y.reshape(len(y), 1)"
   ]
  },
  {
   "cell_type": "code",
   "execution_count": 28,
   "metadata": {},
   "outputs": [],
   "source": [
    "from sklearn.model_selection import train_test_split\n",
    "X_train, X_test, y_train, y_test = train_test_split(X, y, test_size = 0.2, random_state = 0)"
   ]
  },
  {
   "cell_type": "code",
   "execution_count": 29,
   "metadata": {},
   "outputs": [],
   "source": [
    "from sklearn.preprocessing import StandardScaler\n",
    "sc_X = StandardScaler()\n",
    "sc_y = StandardScaler()\n",
    "X_train[:, X_train.shape[1] - 6:] = sc_X.fit_transform(X_train[:, X_train.shape[1] - 6:])\n",
    "X_test[:, X_train.shape[1] - 6:] = sc_X.transform(X_test[:, X_train.shape[1] - 6:])\n",
    "y_train = sc_y.fit_transform(y_train)"
   ]
  },
  {
   "cell_type": "code",
   "execution_count": 30,
   "metadata": {},
   "outputs": [],
   "source": [
    "y_train = y_train.ravel()\n",
    "y_test = y_test.ravel()"
   ]
  },
  {
   "cell_type": "code",
   "execution_count": 31,
   "metadata": {},
   "outputs": [],
   "source": [
    "def MLR(X_train, y_train, X_test, y_test):\n",
    "    from sklearn.linear_model import LinearRegression\n",
    "    from sklearn.metrics import r2_score\n",
    "    regressor = LinearRegression()\n",
    "    regressor.fit(X_train, y_train)\n",
    "    y_pred = sc_y.inverse_transform(regressor.predict(X_test).reshape(-1,1))\n",
    "    np.set_printoptions(precision=2)\n",
    "    print(np.concatenate((y_pred.reshape(len(y_pred), 1), y_test.reshape(len(y_test), 1)), 1))\n",
    "    print(\"r2_score is \"+ str(r2_score(y_test, y_pred)))\n",
    "\n",
    "    # Reshape y_pred and y_test to 1D arrays\n",
    "    y_pred_1d = y_pred.ravel()\n",
    "    y_test_1d = y_test.ravel()\n",
    "\n",
    "    # Create a scatter plot of predicted values vs. actual values\n",
    "    X = np.linspace(1,len(y_pred_1d) + 1, len(y_pred_1d))\n",
    "    Y = y_test_1d - y_pred_1d\n",
    "    plt.bar(X, Y, color = 'red', label = 'Predicted Values')\n",
    "    plt.xlabel('Test set number')\n",
    "    plt.ylabel('Actual - Prediction')\n",
    "    plt.title('Performance')\n",
    "    plt.show()"
   ]
  },
  {
   "cell_type": "code",
   "execution_count": 32,
   "metadata": {},
   "outputs": [],
   "source": [
    "def DT(X_train, y_train, X_test, y_test):\n",
    "    from sklearn.tree import DecisionTreeRegressor\n",
    "    from sklearn.metrics import r2_score\n",
    "    regressor = DecisionTreeRegressor(random_state = 0)\n",
    "    regressor.fit(X_train,y_train)\n",
    "    y_pred = sc_y.inverse_transform(regressor.predict(X_test).reshape(-1,1))\n",
    "    np.set_printoptions(precision=2)\n",
    "    print(np.concatenate((y_pred.reshape(len(y_pred), 1), y_test.reshape(len(y_test), 1)), 1))\n",
    "    print(\"r2_score is \"+ str(r2_score(y_test, y_pred)))\n",
    "\n",
    "    # Reshape y_pred and y_test to 1D arrays\n",
    "    y_pred_1d = y_pred.ravel()\n",
    "    y_test_1d = y_test.ravel()\n",
    "\n",
    "    # Create a scatter plot of predicted values vs. actual values\n",
    "    X = np.linspace(1,len(y_pred_1d) + 1, len(y_pred_1d))\n",
    "    Y = y_test_1d - y_pred_1d\n",
    "    plt.bar(X, Y, color = 'red', label = 'Predicted Values')\n",
    "    plt.xlabel('Test set number')\n",
    "    plt.ylabel('Actual - Prediction')\n",
    "    plt.title('Performance')\n",
    "    plt.show()"
   ]
  },
  {
   "cell_type": "code",
   "execution_count": 33,
   "metadata": {},
   "outputs": [],
   "source": [
    "def RF(X_train, y_train, X_test, y_test):    \n",
    "    from sklearn.ensemble import RandomForestRegressor\n",
    "    from sklearn.metrics import r2_score\n",
    "    regressor = RandomForestRegressor(n_estimators = 10, random_state = 0)\n",
    "    regressor.fit(X_train, y_train)\n",
    "    y_pred = sc_y.inverse_transform(regressor.predict(X_test).reshape(-1,1))\n",
    "    np.set_printoptions(precision=2)\n",
    "    print(np.concatenate((y_pred.reshape(len(y_pred), 1), y_test.reshape(len(y_test), 1)), 1))\n",
    "    print(\"r2_score is \"+ str(r2_score(y_test, y_pred)))\n",
    "    \n",
    "    # Reshape y_pred and y_test to 1D arrays\n",
    "    y_pred_1d = y_pred.ravel()\n",
    "    y_test_1d = y_test.ravel()\n",
    "\n",
    "    # Create a scatter plot of predicted values vs. actual values\n",
    "    X = np.linspace(1,len(y_pred_1d) + 1, len(y_pred_1d))\n",
    "    Y = y_test_1d - y_pred_1d\n",
    "    plt.bar(X, Y, color = 'red', label = 'Predicted Values')\n",
    "    plt.xlabel('Test set number')\n",
    "    plt.ylabel('Actual - Prediction')\n",
    "    plt.title('Performance')\n",
    "    plt.show()"
   ]
  },
  {
   "cell_type": "code",
   "execution_count": 34,
   "metadata": {},
   "outputs": [],
   "source": [
    "def SVR(X_train, y_train, X_test, y_test):    \n",
    "    from sklearn.svm import SVR\n",
    "    from sklearn.metrics import r2_score\n",
    "    import matplotlib.pyplot as plt\n",
    "    regressor = SVR(kernel = 'rbf')\n",
    "    regressor.fit(X_train, y_train)\n",
    "    y_pred = sc_y.inverse_transform(regressor.predict(X_test).reshape(-1,1))\n",
    "    np.set_printoptions(precision=2)\n",
    "    print(np.concatenate((y_pred.reshape(len(y_pred), 1), y_test.reshape(len(y_test), 1)), 1))\n",
    "    print(\"r2_score is \"+ str(r2_score(y_test, y_pred)))\n",
    "\n",
    "    # Reshape y_pred and y_test to 1D arrays\n",
    "    y_pred_1d = y_pred.ravel()\n",
    "    y_test_1d = y_test.ravel()\n",
    "\n",
    "    # Create a scatter plot of predicted values vs. actual values\n",
    "    X = np.linspace(1,len(y_pred_1d) + 1, len(y_pred_1d))\n",
    "    Y = y_test_1d - y_pred_1d\n",
    "    plt.bar(X, Y, color = 'red', label = 'Predicted Values')\n",
    "    plt.xlabel('Test set number')\n",
    "    plt.ylabel('Actual - Prediction')\n",
    "    plt.title('Performance')\n",
    "    plt.show()"
   ]
  },
  {
   "cell_type": "code",
   "execution_count": 35,
   "metadata": {},
   "outputs": [
    {
     "data": {
      "text/plain": [
       "array([0.0, 0.0, 0.0, 0.0, 0.0, 0.0, 0.0, 0.0, 0.0, 0.0, 0.0, 0.0, 1.0,\n",
       "       0.0, 0.0, 0.0, 0.0, 0.0, 0.0, 0.0, 0.0, 0.0, 0.0, 0.0, 0.0, 0.0,\n",
       "       0.0, 0.0, 0.0, 0.0, 0.0, 0.0, 0.0, 0.0, 0.0, 0.0, 0.0, 0.0, 0.0,\n",
       "       0.0, 0.0, 0.0, 0.0, 0.0, 0.0, 0.0, 0.0, 0.0, 0.0, 0.0, 0.0, 0.0,\n",
       "       1.0, 0.0, 0.0, 0.0, 0.0, 0.0, 0.0, 0.0, 0.0, 0.0, 0.0, 1.0, 0.0,\n",
       "       0.0, 0.0, 0.0, 0.0, 0.0, 0.0, 0.0, 0.0, 1, 0, 0, 0, 0, 0, 1],\n",
       "      dtype=object)"
      ]
     },
     "execution_count": 35,
     "metadata": {},
     "output_type": "execute_result"
    }
   ],
   "source": [
    "X[0]"
   ]
  },
  {
   "cell_type": "code",
   "execution_count": 36,
   "metadata": {},
   "outputs": [
    {
     "name": "stdout",
     "output_type": "stream",
     "text": [
      "[[ 2.44e+01  2.40e+01]\n",
      " [ 8.53e+00  1.50e+01]\n",
      " [ 2.47e+01  2.00e+01]\n",
      " [ 2.82e+01  4.20e+01]\n",
      " [-8.09e+00  7.00e+00]\n",
      " [ 2.08e+01  2.00e+01]\n",
      " [ 4.10e+01  5.00e+01]\n",
      " [-1.22e+00  0.00e+00]\n",
      " [ 2.29e+01  2.00e+01]\n",
      " [ 2.83e+01  6.80e+01]\n",
      " [ 1.51e+01  1.50e+01]\n",
      " [-1.81e+14  6.70e+01]\n",
      " [ 2.38e+01  4.30e+01]\n",
      " [ 6.45e+01  5.10e+01]\n",
      " [ 2.81e+01  2.80e+01]\n",
      " [ 1.77e+01  1.10e+01]\n",
      " [-1.81e+14  4.00e+00]\n",
      " [-8.84e+00  0.00e+00]\n",
      " [ 2.50e+01  7.00e+01]\n",
      " [ 2.14e+01  3.50e+01]\n",
      " [ 1.06e+01  1.00e+01]\n",
      " [ 1.19e+01  2.00e+00]\n",
      " [ 2.07e+01  8.00e+00]\n",
      " [ 1.96e+01  2.30e+01]\n",
      " [-1.83e+00  6.00e+00]\n",
      " [-1.78e+00  6.00e+00]\n",
      " [ 5.51e+01  9.40e+01]\n",
      " [ 6.67e+01  3.60e+01]\n",
      " [ 1.05e+01  0.00e+00]\n",
      " [ 2.61e+01  3.10e+01]\n",
      " [-2.49e+00  1.80e+01]\n",
      " [ 4.45e+01  4.60e+01]\n",
      " [ 1.37e+01  8.00e+00]\n",
      " [ 4.72e+01  3.30e+01]\n",
      " [ 4.39e+01  2.70e+01]\n",
      " [ 1.02e+01  1.10e+01]\n",
      " [-2.40e+14  3.20e+01]\n",
      " [ 2.35e+01  4.10e+01]\n",
      " [ 8.62e+00  8.00e+00]\n",
      " [ 4.01e+01  3.90e+01]\n",
      " [ 3.83e+01  1.20e+01]\n",
      " [-2.12e+14  2.10e+01]\n",
      " [ 1.61e+00  1.00e+00]\n",
      " [ 3.75e+01  1.80e+01]\n",
      " [ 3.61e+01  5.00e+01]\n",
      " [ 3.80e+01  3.30e+01]\n",
      " [ 4.93e+01  4.40e+01]\n",
      " [ 2.94e+01  1.10e+01]]\n",
      "r2_score is -7.899209895957765e+24\n"
     ]
    },
    {
     "data": {
      "image/png": "[encoded data removed]",
      "text/plain": [
       "<Figure size 640x480 with 1 Axes>"
      ]
     },
     "metadata": {},
     "output_type": "display_data"
    }
   ],
   "source": [
    "MLR(X_train, y_train, X_test, y_test)"
   ]
  },
  {
   "cell_type": "code",
   "execution_count": 37,
   "metadata": {},
   "outputs": [
    {
     "name": "stdout",
     "output_type": "stream",
     "text": [
      "[[2.40e+01 2.40e+01]\n",
      " [2.00e+00 1.50e+01]\n",
      " [4.80e+01 2.00e+01]\n",
      " [4.80e+01 4.20e+01]\n",
      " [3.00e+01 7.00e+00]\n",
      " [2.60e+01 2.00e+01]\n",
      " [4.80e+01 5.00e+01]\n",
      " [5.00e+00 0.00e+00]\n",
      " [1.10e+01 2.00e+01]\n",
      " [5.00e+01 6.80e+01]\n",
      " [7.00e+00 1.50e+01]\n",
      " [9.00e+00 6.70e+01]\n",
      " [2.00e+01 4.30e+01]\n",
      " [2.70e+01 5.10e+01]\n",
      " [6.00e+00 2.80e+01]\n",
      " [1.00e+00 1.10e+01]\n",
      " [3.55e-15 4.00e+00]\n",
      " [3.55e-15 0.00e+00]\n",
      " [1.20e+01 7.00e+01]\n",
      " [5.00e+00 3.50e+01]\n",
      " [2.00e+00 1.00e+01]\n",
      " [8.00e+00 2.00e+00]\n",
      " [2.00e+00 8.00e+00]\n",
      " [3.60e+01 2.30e+01]\n",
      " [1.20e+01 6.00e+00]\n",
      " [3.55e-15 6.00e+00]\n",
      " [4.50e+01 9.40e+01]\n",
      " [1.09e+02 3.60e+01]\n",
      " [1.00e+00 0.00e+00]\n",
      " [2.60e+01 3.10e+01]\n",
      " [5.00e+00 1.80e+01]\n",
      " [6.50e+01 4.60e+01]\n",
      " [5.00e+00 8.00e+00]\n",
      " [8.00e+01 3.30e+01]\n",
      " [6.50e+01 2.70e+01]\n",
      " [1.10e+01 1.10e+01]\n",
      " [7.90e+01 3.20e+01]\n",
      " [4.20e+01 4.10e+01]\n",
      " [1.40e+01 8.00e+00]\n",
      " [1.30e+01 3.90e+01]\n",
      " [6.00e+01 1.20e+01]\n",
      " [3.90e+01 2.10e+01]\n",
      " [3.55e-15 1.00e+00]\n",
      " [3.60e+01 1.80e+01]\n",
      " [1.30e+01 5.00e+01]\n",
      " [1.40e+01 3.30e+01]\n",
      " [3.60e+01 4.40e+01]\n",
      " [1.80e+01 1.10e+01]]\n",
      "r2_score is -0.47712409340909523\n"
     ]
    },
    {
     "data": {
      "image/png": "[encoded data removed]",
      "text/plain": [
       "<Figure size 640x480 with 1 Axes>"
      ]
     },
     "metadata": {},
     "output_type": "display_data"
    }
   ],
   "source": [
    "DT(X_train, y_train, X_test, y_test)"
   ]
  },
  {
   "cell_type": "code",
   "execution_count": 38,
   "metadata": {},
   "outputs": [
    {
     "name": "stdout",
     "output_type": "stream",
     "text": [
      "[[22.1  24.  ]\n",
      " [ 3.   15.  ]\n",
      " [48.2  20.  ]\n",
      " [31.62 42.  ]\n",
      " [12.2   7.  ]\n",
      " [27.2  20.  ]\n",
      " [48.2  50.  ]\n",
      " [ 5.    0.  ]\n",
      " [ 6.4  20.  ]\n",
      " [45.6  68.  ]\n",
      " [14.2  15.  ]\n",
      " [38.7  67.  ]\n",
      " [28.4  43.  ]\n",
      " [31.4  51.  ]\n",
      " [17.1  28.  ]\n",
      " [ 5.9  11.  ]\n",
      " [ 0.4   4.  ]\n",
      " [ 1.1   0.  ]\n",
      " [29.7  70.  ]\n",
      " [ 8.7  35.  ]\n",
      " [ 3.5  10.  ]\n",
      " [ 7.7   2.  ]\n",
      " [ 5.9   8.  ]\n",
      " [45.8  23.  ]\n",
      " [10.4   6.  ]\n",
      " [ 1.9   6.  ]\n",
      " [51.6  94.  ]\n",
      " [61.9  36.  ]\n",
      " [ 4.2   0.  ]\n",
      " [21.6  31.  ]\n",
      " [ 3.9  18.  ]\n",
      " [51.77 46.  ]\n",
      " [ 8.4   8.  ]\n",
      " [64.6  33.  ]\n",
      " [60.   27.  ]\n",
      " [ 7.1  11.  ]\n",
      " [48.9  32.  ]\n",
      " [42.4  41.  ]\n",
      " [14.7   8.  ]\n",
      " [47.77 39.  ]\n",
      " [36.4  12.  ]\n",
      " [43.4  21.  ]\n",
      " [ 1.1   1.  ]\n",
      " [45.6  18.  ]\n",
      " [32.2  50.  ]\n",
      " [27.6  33.  ]\n",
      " [43.3  44.  ]\n",
      " [11.3  11.  ]]\n",
      "r2_score is 0.347750951640978\n"
     ]
    },
    {
     "data": {
      "image/png": "[encoded data removed]",
      "text/plain": [
       "<Figure size 640x480 with 1 Axes>"
      ]
     },
     "metadata": {},
     "output_type": "display_data"
    }
   ],
   "source": [
    "RF(X_train, y_train, X_test, y_test)"
   ]
  },
  {
   "cell_type": "code",
   "execution_count": 39,
   "metadata": {},
   "outputs": [
    {
     "name": "stdout",
     "output_type": "stream",
     "text": [
      "[[18.51 24.  ]\n",
      " [ 3.   15.  ]\n",
      " [29.38 20.  ]\n",
      " [23.62 42.  ]\n",
      " [ 8.08  7.  ]\n",
      " [24.75 20.  ]\n",
      " [39.24 50.  ]\n",
      " [ 2.03  0.  ]\n",
      " [18.51 20.  ]\n",
      " [35.47 68.  ]\n",
      " [ 7.5  15.  ]\n",
      " [31.79 67.  ]\n",
      " [30.97 43.  ]\n",
      " [45.12 51.  ]\n",
      " [20.29 28.  ]\n",
      " [ 5.68 11.  ]\n",
      " [ 1.14  4.  ]\n",
      " [ 1.04  0.  ]\n",
      " [31.48 70.  ]\n",
      " [13.46 35.  ]\n",
      " [ 2.71 10.  ]\n",
      " [ 8.13  2.  ]\n",
      " [ 3.8   8.  ]\n",
      " [28.4  23.  ]\n",
      " [ 8.15  6.  ]\n",
      " [ 2.41  6.  ]\n",
      " [54.83 94.  ]\n",
      " [50.9  36.  ]\n",
      " [ 8.94  0.  ]\n",
      " [24.24 31.  ]\n",
      " [ 6.03 18.  ]\n",
      " [49.41 46.  ]\n",
      " [ 9.45  8.  ]\n",
      " [53.61 33.  ]\n",
      " [40.6  27.  ]\n",
      " [18.69 11.  ]\n",
      " [33.94 32.  ]\n",
      " [38.69 41.  ]\n",
      " [10.7   8.  ]\n",
      " [41.94 39.  ]\n",
      " [34.31 12.  ]\n",
      " [32.17 21.  ]\n",
      " [ 4.7   1.  ]\n",
      " [46.79 18.  ]\n",
      " [33.27 50.  ]\n",
      " [21.21 33.  ]\n",
      " [54.34 44.  ]\n",
      " [17.56 11.  ]]\n",
      "r2_score is 0.518442209742439\n"
     ]
    },
    {
     "data": {
      "image/png": "[encoded data removed]",
      "text/plain": [
       "<Figure size 640x480 with 1 Axes>"
      ]
     },
     "metadata": {},
     "output_type": "display_data"
    }
   ],
   "source": [
    "SVR(X_train, y_train, X_test, y_test)\n"
   ]
  }
 ],
 "metadata": {
  "kernelspec": {
   "display_name": "cricket-predictor",
   "language": "python",
   "name": "python3"
  },
  "language_info": {
   "codemirror_mode": {
    "name": "ipython",
    "version": 3
   },
   "file_extension": ".py",
   "mimetype": "text/x-python",
   "name": "python",
   "nbconvert_exporter": "python",
   "pygments_lexer": "ipython3",
   "version": "3.11.9"
  }
 },
 "nbformat": 4,
 "nbformat_minor": 2
}
