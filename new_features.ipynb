{
 "cells": [
  {
   "cell_type": "code",
   "execution_count": 1,
   "metadata": {},
   "outputs": [
    {
     "data": {
      "text/plain": [
       "Index(['match_id', 'inning', 'bowling_team', 'batter', 'batter_total_balls',\n",
       "       'batter_SR', 'batter_score', 'dismissal_kind', 'date', 'match_type',\n",
       "       'venue', 'no_of_right_arm_pacers_faced', 'no_of_left_arm_pacers_faced',\n",
       "       'no_of_right_arm_offspinners_faced',\n",
       "       'no_of_right_arm_legspinners_faced', 'no_of_left_arm_legspinners_faced',\n",
       "       'no_of_left_arm_offspinners_faced', 'score_last_5', 'balls_last_5',\n",
       "       'score_last_1', 'balls_last_1', 'score_last_2', 'balls_last_2',\n",
       "       'score_last_3', 'balls_last_3', 'score_last_4', 'balls_last_4'],\n",
       "      dtype='object')"
      ]
     },
     "execution_count": 1,
     "metadata": {},
     "output_type": "execute_result"
    }
   ],
   "source": [
    "import pandas as pd\n",
    "import numpy as np\n",
    "import matplotlib.pyplot as plt\n",
    "import seaborn as sns\n",
    "from sklearn.model_selection import train_test_split\n",
    "\n",
    "# Load the data\n",
    "df = pd.read_csv('data/aggregated_df.csv')\n",
    "df.columns"
   ]
  },
  {
   "cell_type": "markdown",
   "metadata": {},
   "source": [
    "## Add number of innings, avg and S/R up until that match, number of 30+ scores, number of 50+ scores, consistency, and form"
   ]
  },
  {
   "cell_type": "code",
   "execution_count": 2,
   "metadata": {},
   "outputs": [
    {
     "data": {
      "text/plain": [
       "Index(['match_id', 'inning', 'bowling_team', 'batter', 'batter_total_balls',\n",
       "       'batter_score', 'dismissal_kind', 'match_type', 'venue'],\n",
       "      dtype='object')"
      ]
     },
     "execution_count": 2,
     "metadata": {},
     "output_type": "execute_result"
    }
   ],
   "source": [
    "df.drop(columns = ['date', 'batter_SR', 'no_of_right_arm_pacers_faced', 'no_of_left_arm_pacers_faced', 'no_of_right_arm_offspinners_faced', \n",
    "                        'no_of_right_arm_legspinners_faced', 'no_of_left_arm_legspinners_faced', 'no_of_left_arm_offspinners_faced', \n",
    "                        'score_last_5', 'balls_last_5', 'score_last_1', 'balls_last_1', 'score_last_2', 'balls_last_2', 'score_last_3', \n",
    "                        'balls_last_3', 'score_last_4', 'balls_last_4'], inplace = True)\n",
    "df.columns"
   ]
  },
  {
   "cell_type": "code",
   "execution_count": 3,
   "metadata": {},
   "outputs": [],
   "source": [
    "# pd.isna(df['dismissal_kind'][len(df)-1])"
   ]
  },
  {
   "cell_type": "code",
   "execution_count": 4,
   "metadata": {},
   "outputs": [],
   "source": [
    "df['dismissed'] = df['dismissal_kind'].notna().astype(int)"
   ]
  },
  {
   "cell_type": "code",
   "execution_count": 5,
   "metadata": {},
   "outputs": [
    {
     "data": {
      "text/plain": [
       "0        0\n",
       "1        1\n",
       "2        0\n",
       "3        1\n",
       "4        1\n",
       "        ..\n",
       "15461    1\n",
       "15462    1\n",
       "15463    0\n",
       "15464    1\n",
       "15465    0\n",
       "Name: dismissed, Length: 15466, dtype: int64"
      ]
     },
     "execution_count": 5,
     "metadata": {},
     "output_type": "execute_result"
    }
   ],
   "source": [
    "df['dismissed']"
   ]
  },
  {
   "cell_type": "code",
   "execution_count": 6,
   "metadata": {},
   "outputs": [],
   "source": [
    "df.drop(columns = 'dismissal_kind', inplace = True)"
   ]
  },
  {
   "cell_type": "code",
   "execution_count": 7,
   "metadata": {},
   "outputs": [
    {
     "data": {
      "text/plain": [
       "Index(['match_id', 'inning', 'bowling_team', 'batter', 'batter_total_balls',\n",
       "       'batter_score', 'match_type', 'venue', 'dismissed'],\n",
       "      dtype='object')"
      ]
     },
     "execution_count": 7,
     "metadata": {},
     "output_type": "execute_result"
    }
   ],
   "source": [
    "df.columns"
   ]
  },
  {
   "cell_type": "code",
   "execution_count": 8,
   "metadata": {},
   "outputs": [],
   "source": [
    "df['cumulative_runs'] = df.groupby('batter')['batter_score'].cumsum()\n",
    "df['cumulative_dismissals'] = df.groupby('batter')['dismissed'].cumsum()\n",
    "df['cumulative_balls_faced'] = df.groupby('batter')['batter_total_balls'].cumsum()\n",
    "\n",
    "# Average up until the previous match\n",
    "df['average'] = df.groupby('batter')['cumulative_runs'].shift(1) / df.groupby('batter')['cumulative_dismissals'].shift(1)\n",
    "\n",
    "# Strike rate up until the previous match\n",
    "df['strike_rate'] = (df.groupby('batter')['cumulative_runs'].shift(1) / df.groupby('batter')['cumulative_balls_faced'].shift(1)) * 100\n",
    "\n",
    "# Handling initial matches\n",
    "# df['average'].fillna(0, inplace = True)\n",
    "df.fillna({\"average\": 0, \"strike_rate\": 0}, inplace = True)\n",
    "# df['strike_rate'].fillna(0, inplace = True) "
   ]
  },
  {
   "cell_type": "code",
   "execution_count": 9,
   "metadata": {},
   "outputs": [],
   "source": [
    "# Cumulative 30+ scores up until the previous match\n",
    "df['cumulative_30_plus_inclusive'] = df.groupby('batter')['batter_score'].apply(lambda x: (x.apply(lambda score: 1 if 30 <= score < 50 else 0)).cumsum()).reset_index(level=0, drop=True)\n",
    "df['cumulative_30_plus'] = df.groupby('batter')['cumulative_30_plus_inclusive'].shift(1).fillna(0).astype(int)\n",
    "\n",
    "# Cumulative 50+ scores up until the previous match\n",
    "df['cumulative_50_plus_inclusive'] = df.groupby('batter')['batter_score'].apply(lambda x: (x.apply(lambda score: 1 if score >= 50 else 0)).cumsum()).reset_index(level=0, drop=True)\n",
    "df['cumulative_50_plus'] = df.groupby('batter')['cumulative_50_plus_inclusive'].shift(1).fillna(0).astype(int)\n",
    "\n",
    "df['innings_played'] = df.groupby('batter')['inning'].cumcount() + 1"
   ]
  },
  {
   "cell_type": "code",
   "execution_count": 10,
   "metadata": {},
   "outputs": [
    {
     "data": {
      "text/html": [
       "<div>\n",
       "<style scoped>\n",
       "    .dataframe tbody tr th:only-of-type {\n",
       "        vertical-align: middle;\n",
       "    }\n",
       "\n",
       "    .dataframe tbody tr th {\n",
       "        vertical-align: top;\n",
       "    }\n",
       "\n",
       "    .dataframe thead th {\n",
       "        text-align: right;\n",
       "    }\n",
       "</style>\n",
       "<table border=\"1\" class=\"dataframe\">\n",
       "  <thead>\n",
       "    <tr style=\"text-align: right;\">\n",
       "      <th></th>\n",
       "      <th>match_id</th>\n",
       "      <th>inning</th>\n",
       "      <th>bowling_team</th>\n",
       "      <th>batter</th>\n",
       "      <th>batter_total_balls</th>\n",
       "      <th>batter_score</th>\n",
       "      <th>match_type</th>\n",
       "      <th>venue</th>\n",
       "      <th>dismissed</th>\n",
       "      <th>average</th>\n",
       "      <th>strike_rate</th>\n",
       "      <th>cumulative_30_plus</th>\n",
       "      <th>cumulative_50_plus</th>\n",
       "      <th>innings_played</th>\n",
       "    </tr>\n",
       "  </thead>\n",
       "  <tbody>\n",
       "    <tr>\n",
       "      <th>15461</th>\n",
       "      <td>1370353</td>\n",
       "      <td>2</td>\n",
       "      <td>Gujarat Titans</td>\n",
       "      <td>DP Conway</td>\n",
       "      <td>25.0</td>\n",
       "      <td>47</td>\n",
       "      <td>Final</td>\n",
       "      <td>Narendra Modi Stadium, Ahmedabad</td>\n",
       "      <td>1</td>\n",
       "      <td>46.157895</td>\n",
       "      <td>139.427663</td>\n",
       "      <td>4</td>\n",
       "      <td>9</td>\n",
       "      <td>22</td>\n",
       "    </tr>\n",
       "    <tr>\n",
       "      <th>15462</th>\n",
       "      <td>1370353</td>\n",
       "      <td>2</td>\n",
       "      <td>Gujarat Titans</td>\n",
       "      <td>MS Dhoni</td>\n",
       "      <td>1.0</td>\n",
       "      <td>0</td>\n",
       "      <td>Final</td>\n",
       "      <td>Narendra Modi Stadium, Ahmedabad</td>\n",
       "      <td>1</td>\n",
       "      <td>37.094891</td>\n",
       "      <td>135.955056</td>\n",
       "      <td>41</td>\n",
       "      <td>24</td>\n",
       "      <td>217</td>\n",
       "    </tr>\n",
       "    <tr>\n",
       "      <th>15463</th>\n",
       "      <td>1370353</td>\n",
       "      <td>2</td>\n",
       "      <td>Gujarat Titans</td>\n",
       "      <td>RA Jadeja</td>\n",
       "      <td>6.0</td>\n",
       "      <td>15</td>\n",
       "      <td>Final</td>\n",
       "      <td>Narendra Modi Stadium, Ahmedabad</td>\n",
       "      <td>0</td>\n",
       "      <td>25.254717</td>\n",
       "      <td>128.270244</td>\n",
       "      <td>19</td>\n",
       "      <td>2</td>\n",
       "      <td>169</td>\n",
       "    </tr>\n",
       "    <tr>\n",
       "      <th>15464</th>\n",
       "      <td>1370353</td>\n",
       "      <td>2</td>\n",
       "      <td>Gujarat Titans</td>\n",
       "      <td>RD Gaikwad</td>\n",
       "      <td>16.0</td>\n",
       "      <td>26</td>\n",
       "      <td>Final</td>\n",
       "      <td>Narendra Modi Stadium, Ahmedabad</td>\n",
       "      <td>1</td>\n",
       "      <td>41.186047</td>\n",
       "      <td>135.190840</td>\n",
       "      <td>13</td>\n",
       "      <td>15</td>\n",
       "      <td>51</td>\n",
       "    </tr>\n",
       "    <tr>\n",
       "      <th>15465</th>\n",
       "      <td>1370353</td>\n",
       "      <td>2</td>\n",
       "      <td>Gujarat Titans</td>\n",
       "      <td>S Dube</td>\n",
       "      <td>21.0</td>\n",
       "      <td>32</td>\n",
       "      <td>Final</td>\n",
       "      <td>Narendra Modi Stadium, Ahmedabad</td>\n",
       "      <td>0</td>\n",
       "      <td>28.263158</td>\n",
       "      <td>141.501976</td>\n",
       "      <td>5</td>\n",
       "      <td>6</td>\n",
       "      <td>47</td>\n",
       "    </tr>\n",
       "  </tbody>\n",
       "</table>\n",
       "</div>"
      ],
      "text/plain": [
       "       match_id  inning    bowling_team      batter  batter_total_balls  \\\n",
       "15461   1370353       2  Gujarat Titans   DP Conway                25.0   \n",
       "15462   1370353       2  Gujarat Titans    MS Dhoni                 1.0   \n",
       "15463   1370353       2  Gujarat Titans   RA Jadeja                 6.0   \n",
       "15464   1370353       2  Gujarat Titans  RD Gaikwad                16.0   \n",
       "15465   1370353       2  Gujarat Titans      S Dube                21.0   \n",
       "\n",
       "       batter_score match_type                             venue  dismissed  \\\n",
       "15461            47      Final  Narendra Modi Stadium, Ahmedabad          1   \n",
       "15462             0      Final  Narendra Modi Stadium, Ahmedabad          1   \n",
       "15463            15      Final  Narendra Modi Stadium, Ahmedabad          0   \n",
       "15464            26      Final  Narendra Modi Stadium, Ahmedabad          1   \n",
       "15465            32      Final  Narendra Modi Stadium, Ahmedabad          0   \n",
       "\n",
       "         average  strike_rate  cumulative_30_plus  cumulative_50_plus  \\\n",
       "15461  46.157895   139.427663                   4                   9   \n",
       "15462  37.094891   135.955056                  41                  24   \n",
       "15463  25.254717   128.270244                  19                   2   \n",
       "15464  41.186047   135.190840                  13                  15   \n",
       "15465  28.263158   141.501976                   5                   6   \n",
       "\n",
       "       innings_played  \n",
       "15461              22  \n",
       "15462             217  \n",
       "15463             169  \n",
       "15464              51  \n",
       "15465              47  "
      ]
     },
     "execution_count": 10,
     "metadata": {},
     "output_type": "execute_result"
    }
   ],
   "source": [
    "df = df.drop(columns = [\"cumulative_runs\", \"cumulative_dismissals\", \"cumulative_balls_faced\", \"cumulative_30_plus_inclusive\", \"cumulative_50_plus_inclusive\"])\n",
    "df.tail()"
   ]
  },
  {
   "cell_type": "code",
   "execution_count": 11,
   "metadata": {},
   "outputs": [
    {
     "data": {
      "text/plain": [
       "Index(['match_id', 'inning', 'bowling_team', 'batter', 'batter_total_balls',\n",
       "       'batter_score', 'match_type', 'venue', 'dismissed', 'average',\n",
       "       'strike_rate', 'cumulative_30_plus', 'cumulative_50_plus',\n",
       "       'innings_played'],\n",
       "      dtype='object')"
      ]
     },
     "execution_count": 11,
     "metadata": {},
     "output_type": "execute_result"
    }
   ],
   "source": [
    "df.columns"
   ]
  },
  {
   "cell_type": "markdown",
   "metadata": {},
   "source": [
    "- No. of matches\n",
    "- Avg\n",
    "- S/R\n",
    "- no of 30\n",
    "- no of 50\n",
    "######\n",
    "- 1 is equal importance\n",
    "- 3 is moderate of one over another\n",
    "- 5 is essential\n",
    "- 7 is very strong\n",
    "- 9 is extreme importance\n",
    "######\n",
    "0    1    2     3     4     5\n",
    "\n",
    "1    1    1/4   1/6   1/3   1/4\n",
    "\n",
    "2    4    1     1/3   3     2\n",
    "\n",
    "3    6    3     1     6     5\n",
    "\n",
    "4    3    1/3   1/6   1     1/2\n",
    "\n",
    "5    4    1/2   1/5   2     1\n",
    "\n"
   ]
  },
  {
   "cell_type": "code",
   "execution_count": 12,
   "metadata": {},
   "outputs": [],
   "source": [
    "# Main comparison matrix (transposed)\n",
    "matrix = np.array([\n",
    "    [1,    1/4,  1/6,  1/3,  1/4],\n",
    "    [4,    1,    1/3,  3,    2  ],\n",
    "    [6,    3,    1,    6,    5  ],\n",
    "    [3,    1/3,  1/6,  1,    1/2],\n",
    "    [4,    1/2,  1/5,  2,    1  ]\n",
    "])"
   ]
  },
  {
   "cell_type": "code",
   "execution_count": 13,
   "metadata": {},
   "outputs": [
    {
     "data": {
      "text/plain": [
       "array([[0.32219701],\n",
       "       [1.51571657],\n",
       "       [3.51948203],\n",
       "       [0.60836434],\n",
       "       [0.9563525 ]])"
      ]
     },
     "execution_count": 13,
     "metadata": {},
     "output_type": "execute_result"
    }
   ],
   "source": [
    "A1 = np.ones((5,1))\n",
    "\n",
    "for i in range(5):\n",
    "    for j in range(5):\n",
    "        A1[i][0] *= matrix[i][j]\n",
    "    A1[i][0] = A1[i][0]**(1/5)\n",
    "\n",
    "# A1 = np.prod(matrix, axis=1) ** (1/5)\n",
    "# A1 = A1.reshape(-1, 1)\n",
    "\n",
    "np.set_printoptions(suppress=True)\n",
    "A1"
   ]
  },
  {
   "cell_type": "code",
   "execution_count": 14,
   "metadata": {},
   "outputs": [
    {
     "data": {
      "text/plain": [
       "6.922112444617791"
      ]
     },
     "execution_count": 14,
     "metadata": {},
     "output_type": "execute_result"
    }
   ],
   "source": [
    "summation = A1.sum()\n",
    "summation"
   ]
  },
  {
   "cell_type": "code",
   "execution_count": 15,
   "metadata": {},
   "outputs": [
    {
     "data": {
      "text/plain": [
       "array([[0.04654605],\n",
       "       [0.21896734],\n",
       "       [0.50844046],\n",
       "       [0.08788709],\n",
       "       [0.13815905]])"
      ]
     },
     "execution_count": 15,
     "metadata": {},
     "output_type": "execute_result"
    }
   ],
   "source": [
    "A2 = A1/summation\n",
    "A2"
   ]
  },
  {
   "cell_type": "code",
   "execution_count": 16,
   "metadata": {},
   "outputs": [
    {
     "data": {
      "text/plain": [
       "array([[0.24986343],\n",
       "       [1.11461109],\n",
       "       [2.66273662],\n",
       "       [0.45433397],\n",
       "       [0.71128921]])"
      ]
     },
     "execution_count": 16,
     "metadata": {},
     "output_type": "execute_result"
    }
   ],
   "source": [
    "#ahp = np.ones((5,1))\n",
    "AHP = np.dot(matrix,A2)\n",
    "AHP"
   ]
  },
  {
   "cell_type": "code",
   "execution_count": 17,
   "metadata": {},
   "outputs": [
    {
     "data": {
      "text/plain": [
       "array([[5.3680906 ],\n",
       "       [5.09030743],\n",
       "       [5.23706675],\n",
       "       [5.16951864],\n",
       "       [5.14833589]])"
      ]
     },
     "execution_count": 17,
     "metadata": {},
     "output_type": "execute_result"
    }
   ],
   "source": [
    "A4 = AHP/A2\n",
    "A4"
   ]
  },
  {
   "cell_type": "code",
   "execution_count": 18,
   "metadata": {},
   "outputs": [
    {
     "data": {
      "text/plain": [
       "0.045645014310930376"
      ]
     },
     "execution_count": 18,
     "metadata": {},
     "output_type": "execute_result"
    }
   ],
   "source": [
    "mean = A4.mean()\n",
    "mean\n",
    "CI = (mean - 5) / 4\n",
    "CI\n",
    "CR = CI/1.11\n",
    "CR\n",
    "# CR SHOULD BE LESS THAN 0.1 "
   ]
  },
  {
   "cell_type": "code",
   "execution_count": 19,
   "metadata": {},
   "outputs": [
    {
     "data": {
      "text/html": [
       "<div>\n",
       "<style scoped>\n",
       "    .dataframe tbody tr th:only-of-type {\n",
       "        vertical-align: middle;\n",
       "    }\n",
       "\n",
       "    .dataframe tbody tr th {\n",
       "        vertical-align: top;\n",
       "    }\n",
       "\n",
       "    .dataframe thead th {\n",
       "        text-align: right;\n",
       "    }\n",
       "</style>\n",
       "<table border=\"1\" class=\"dataframe\">\n",
       "  <thead>\n",
       "    <tr style=\"text-align: right;\">\n",
       "      <th></th>\n",
       "      <th>match_id</th>\n",
       "      <th>inning</th>\n",
       "      <th>bowling_team</th>\n",
       "      <th>batter</th>\n",
       "      <th>batter_total_balls</th>\n",
       "      <th>batter_score</th>\n",
       "      <th>match_type</th>\n",
       "      <th>venue</th>\n",
       "      <th>dismissed</th>\n",
       "      <th>average</th>\n",
       "      <th>strike_rate</th>\n",
       "      <th>cumulative_30_plus</th>\n",
       "      <th>cumulative_50_plus</th>\n",
       "      <th>innings_played</th>\n",
       "      <th>avg_ahp</th>\n",
       "      <th>sr_ahp</th>\n",
       "      <th>innings_ahp</th>\n",
       "      <th>30_ahp</th>\n",
       "      <th>50_ahp</th>\n",
       "      <th>consistency</th>\n",
       "    </tr>\n",
       "  </thead>\n",
       "  <tbody>\n",
       "    <tr>\n",
       "      <th>15461</th>\n",
       "      <td>1370353</td>\n",
       "      <td>2</td>\n",
       "      <td>Gujarat Titans</td>\n",
       "      <td>DP Conway</td>\n",
       "      <td>25.0</td>\n",
       "      <td>47</td>\n",
       "      <td>Final</td>\n",
       "      <td>Narendra Modi Stadium, Ahmedabad</td>\n",
       "      <td>1</td>\n",
       "      <td>46.157895</td>\n",
       "      <td>139.427663</td>\n",
       "      <td>4</td>\n",
       "      <td>9</td>\n",
       "      <td>22</td>\n",
       "      <td>5</td>\n",
       "      <td>3</td>\n",
       "      <td>2</td>\n",
       "      <td>1</td>\n",
       "      <td>2</td>\n",
       "      <td>15.937905</td>\n",
       "    </tr>\n",
       "    <tr>\n",
       "      <th>15462</th>\n",
       "      <td>1370353</td>\n",
       "      <td>2</td>\n",
       "      <td>Gujarat Titans</td>\n",
       "      <td>MS Dhoni</td>\n",
       "      <td>1.0</td>\n",
       "      <td>0</td>\n",
       "      <td>Final</td>\n",
       "      <td>Narendra Modi Stadium, Ahmedabad</td>\n",
       "      <td>1</td>\n",
       "      <td>37.094891</td>\n",
       "      <td>135.955056</td>\n",
       "      <td>41</td>\n",
       "      <td>24</td>\n",
       "      <td>217</td>\n",
       "      <td>4</td>\n",
       "      <td>3</td>\n",
       "      <td>5</td>\n",
       "      <td>5</td>\n",
       "      <td>4</td>\n",
       "      <td>18.812798</td>\n",
       "    </tr>\n",
       "    <tr>\n",
       "      <th>15463</th>\n",
       "      <td>1370353</td>\n",
       "      <td>2</td>\n",
       "      <td>Gujarat Titans</td>\n",
       "      <td>RA Jadeja</td>\n",
       "      <td>6.0</td>\n",
       "      <td>15</td>\n",
       "      <td>Final</td>\n",
       "      <td>Narendra Modi Stadium, Ahmedabad</td>\n",
       "      <td>0</td>\n",
       "      <td>25.254717</td>\n",
       "      <td>128.270244</td>\n",
       "      <td>19</td>\n",
       "      <td>2</td>\n",
       "      <td>169</td>\n",
       "      <td>3</td>\n",
       "      <td>3</td>\n",
       "      <td>5</td>\n",
       "      <td>3</td>\n",
       "      <td>1</td>\n",
       "      <td>14.655651</td>\n",
       "    </tr>\n",
       "    <tr>\n",
       "      <th>15464</th>\n",
       "      <td>1370353</td>\n",
       "      <td>2</td>\n",
       "      <td>Gujarat Titans</td>\n",
       "      <td>RD Gaikwad</td>\n",
       "      <td>16.0</td>\n",
       "      <td>26</td>\n",
       "      <td>Final</td>\n",
       "      <td>Narendra Modi Stadium, Ahmedabad</td>\n",
       "      <td>1</td>\n",
       "      <td>41.186047</td>\n",
       "      <td>135.190840</td>\n",
       "      <td>13</td>\n",
       "      <td>15</td>\n",
       "      <td>51</td>\n",
       "      <td>5</td>\n",
       "      <td>3</td>\n",
       "      <td>3</td>\n",
       "      <td>2</td>\n",
       "      <td>3</td>\n",
       "      <td>17.353391</td>\n",
       "    </tr>\n",
       "    <tr>\n",
       "      <th>15465</th>\n",
       "      <td>1370353</td>\n",
       "      <td>2</td>\n",
       "      <td>Gujarat Titans</td>\n",
       "      <td>S Dube</td>\n",
       "      <td>21.0</td>\n",
       "      <td>32</td>\n",
       "      <td>Final</td>\n",
       "      <td>Narendra Modi Stadium, Ahmedabad</td>\n",
       "      <td>0</td>\n",
       "      <td>28.263158</td>\n",
       "      <td>141.501976</td>\n",
       "      <td>5</td>\n",
       "      <td>6</td>\n",
       "      <td>47</td>\n",
       "      <td>3</td>\n",
       "      <td>4</td>\n",
       "      <td>3</td>\n",
       "      <td>2</td>\n",
       "      <td>2</td>\n",
       "      <td>17.075616</td>\n",
       "    </tr>\n",
       "  </tbody>\n",
       "</table>\n",
       "</div>"
      ],
      "text/plain": [
       "       match_id  inning    bowling_team      batter  batter_total_balls  \\\n",
       "15461   1370353       2  Gujarat Titans   DP Conway                25.0   \n",
       "15462   1370353       2  Gujarat Titans    MS Dhoni                 1.0   \n",
       "15463   1370353       2  Gujarat Titans   RA Jadeja                 6.0   \n",
       "15464   1370353       2  Gujarat Titans  RD Gaikwad                16.0   \n",
       "15465   1370353       2  Gujarat Titans      S Dube                21.0   \n",
       "\n",
       "       batter_score match_type                             venue  dismissed  \\\n",
       "15461            47      Final  Narendra Modi Stadium, Ahmedabad          1   \n",
       "15462             0      Final  Narendra Modi Stadium, Ahmedabad          1   \n",
       "15463            15      Final  Narendra Modi Stadium, Ahmedabad          0   \n",
       "15464            26      Final  Narendra Modi Stadium, Ahmedabad          1   \n",
       "15465            32      Final  Narendra Modi Stadium, Ahmedabad          0   \n",
       "\n",
       "         average  strike_rate  cumulative_30_plus  cumulative_50_plus  \\\n",
       "15461  46.157895   139.427663                   4                   9   \n",
       "15462  37.094891   135.955056                  41                  24   \n",
       "15463  25.254717   128.270244                  19                   2   \n",
       "15464  41.186047   135.190840                  13                  15   \n",
       "15465  28.263158   141.501976                   5                   6   \n",
       "\n",
       "       innings_played  avg_ahp  sr_ahp  innings_ahp  30_ahp  50_ahp  \\\n",
       "15461              22        5       3            2       1       2   \n",
       "15462             217        4       3            5       5       4   \n",
       "15463             169        3       3            5       3       1   \n",
       "15464              51        5       3            3       2       3   \n",
       "15465              47        3       4            3       2       2   \n",
       "\n",
       "       consistency  \n",
       "15461    15.937905  \n",
       "15462    18.812798  \n",
       "15463    14.655651  \n",
       "15464    17.353391  \n",
       "15465    17.075616  "
      ]
     },
     "execution_count": 19,
     "metadata": {},
     "output_type": "execute_result"
    }
   ],
   "source": [
    "df['avg_ahp'] = df['average'].apply(lambda x: 1 if x < 20 else (2 if 20 <= x < 25 else (3 if 25 <= x < 30 else (4 if 30 <= x < 40 else (5 if x >= 40 else None)))))\n",
    "\n",
    "# bins = [-float('inf'), 10, 20, 30, 40, float('inf')]\n",
    "# labels = [1, 2, 3, 4, 5]\n",
    "\n",
    "# df['avg_ahp'] = pd.cut(df['average'], bins=bins, labels=labels, right=False)\n",
    "\n",
    "df['sr_ahp'] = df['strike_rate'].apply(lambda x: 1 if x < 100 else (2 if 100 <= x < 120 else (3 if 120 <= x < 140 else (4 if 140 <= x < 160 else (5 if x >= 160 else None)))))\n",
    "\n",
    "df['innings_ahp'] = df['innings_played'].apply(lambda x: 1 if x < 20 else (2 if 20 <= x < 40 else (3 if 40 <= x < 60 else (4 if 60 <= x < 80 else (5 if x >= 80 else None)))))\n",
    "\n",
    "df['30_ahp'] = df['cumulative_30_plus'].apply(lambda x: 1 if x < 5 else (2 if 5 <= x < 15 else (3 if 15 <= x < 25 else (4 if 25 <= x < 35 else (5 if x >= 35 else None)))))\n",
    "\n",
    "df['50_ahp'] = df['cumulative_50_plus'].apply(lambda x: 1 if x < 5 else (2 if 5 <= x < 10 else (3 if 10 <= x < 20 else (4 if 20 <= x < 25 else (5 if x >= 25 else None)))))\n",
    "\n",
    "df['consistency'] = df['innings_ahp']*AHP[0][0] + df['avg_ahp']*AHP[1][0] + df['sr_ahp']*AHP[2][0] + df['30_ahp']*AHP[3][0] + df['50_ahp']*AHP[4][0]\n",
    "\n",
    "df.tail()"
   ]
  },
  {
   "cell_type": "code",
   "execution_count": 20,
   "metadata": {},
   "outputs": [],
   "source": [
    "last_5_dismissed = []"
   ]
  },
  {
   "cell_type": "code",
   "execution_count": 21,
   "metadata": {},
   "outputs": [
    {
     "name": "stderr",
     "output_type": "stream",
     "text": [
      "/var/folders/xn/1qlh6svd3jz7qk3ry827bz780000gn/T/ipykernel_28807/2344312349.py:8: DeprecationWarning: DataFrameGroupBy.apply operated on the grouping columns. This behavior is deprecated, and in a future version of pandas the grouping columns will be excluded from the operation. Either pass `include_groups=False` to exclude the groupings or explicitly select the grouping columns after groupby to silence this warning.\n",
      "  rolling_stats = grouped.apply(\n"
     ]
    }
   ],
   "source": [
    "# Step 1: Sort the DataFrame by batter and match_id\n",
    "df_sorted = df.sort_values(by=['batter', 'match_id'])\n",
    "\n",
    "# Step 2: Group by batter\n",
    "grouped = df_sorted.groupby('batter')\n",
    "\n",
    "# Step 3: Calculate rolling statistics\n",
    "rolling_stats = grouped.apply(\n",
    "    lambda x: x.assign(\n",
    "        total_runs_5_inc=x['batter_score'].rolling(5, min_periods=1).sum(),\n",
    "        balls_faced_5_inc=x['batter_total_balls'].rolling(5, min_periods=1).sum(),\n",
    "        dismissals_5_inc=x['dismissed'].rolling(5, min_periods=1).sum(),\n",
    "        no_of_30_plus_5_inc=x['batter_score'].rolling(5, min_periods=1).apply(lambda y: ((y >= 30) & (y < 50)).sum()),\n",
    "        no_of_50_plus_5_inc=x['batter_score'].rolling(5, min_periods=1).apply(lambda y: (y >= 50).sum())\n",
    "    )\n",
    ")\n",
    "\n",
    "rolling_stats = rolling_stats.reset_index(drop=True)\n",
    "\n",
    "rolling_stats['total_runs_5'] = rolling_stats.groupby('batter')['total_runs_5_inc'].shift(1).fillna(0).astype(int)\n",
    "rolling_stats['balls_faced_5'] = rolling_stats.groupby('batter')['balls_faced_5_inc'].shift(1).fillna(0).astype(int)\n",
    "rolling_stats['dismissals_5'] = rolling_stats.groupby('batter')['dismissals_5_inc'].shift(1).fillna(0).astype(int)\n",
    "rolling_stats['no_of_30_plus_5'] = rolling_stats.groupby('batter')['no_of_30_plus_5_inc'].shift(1).fillna(0).astype(int)\n",
    "rolling_stats['no_of_50_plus_5'] = rolling_stats.groupby('batter')['no_of_50_plus_5_inc'].shift(1).fillna(0).astype(int)\n",
    "\n",
    "# Reset index to match the original DataFrame\n",
    "rolling_stats = rolling_stats.reset_index(drop=True)\n",
    "\n",
    "# Step 4: Compute required metrics\n",
    "rolling_stats['average_5'] = rolling_stats['total_runs_5'] / rolling_stats['dismissals_5']\n",
    "rolling_stats['strike_rate_5'] = rolling_stats['total_runs_5'] / rolling_stats['balls_faced_5'] * 100\n",
    "\n",
    "# Drop intermediate columns\n",
    "# rolling_stats = rolling_stats.drop(columns=['balls_faced_5', 'dismissals_5'])\n",
    "\n",
    "# Step 5: Merge the rolling statistics back to the original DataFrame based on the original index\n",
    "# df_final = pd.concat([df, rolling_stats[['dismissals_5','total_runs_5', 'no_of_30_plus_5', 'no_of_50_plus_5', 'average_5', 'strike_rate_5']]], axis=1)\n"
   ]
  },
  {
   "cell_type": "code",
   "execution_count": 22,
   "metadata": {},
   "outputs": [
    {
     "data": {
      "text/plain": [
       "Index(['match_id', 'inning', 'bowling_team', 'batter', 'batter_total_balls',\n",
       "       'batter_score', 'match_type', 'venue', 'dismissed', 'average',\n",
       "       'strike_rate', 'cumulative_30_plus', 'cumulative_50_plus',\n",
       "       'innings_played', 'avg_ahp', 'sr_ahp', 'innings_ahp', '30_ahp',\n",
       "       '50_ahp', 'consistency', 'total_runs_5', 'balls_faced_5',\n",
       "       'dismissals_5', 'no_of_30_plus_5', 'no_of_50_plus_5', 'average_5',\n",
       "       'strike_rate_5'],\n",
       "      dtype='object')"
      ]
     },
     "execution_count": 22,
     "metadata": {},
     "output_type": "execute_result"
    }
   ],
   "source": [
    "df = pd.merge(df, rolling_stats[['total_runs_5', 'balls_faced_5', 'dismissals_5', 'no_of_30_plus_5', 'no_of_50_plus_5', 'average_5', 'strike_rate_5', 'batter', 'match_id']], on = ['batter', 'match_id'], how = 'left')\n",
    "df.columns"
   ]
  },
  {
   "cell_type": "markdown",
   "metadata": {},
   "source": [
    "- No. of matches\n",
    "- Avg\n",
    "- S/R\n",
    "- no of 30\n",
    "- no of 50\n",
    "######\n",
    "- 1 is equal importance\n",
    "- 3 is moderate of one over another\n",
    "- 5 is essential\n",
    "- 7 is very strong\n",
    "- 9 is extreme importance\n",
    "######\n",
    "0    1    2     3     4     5\n",
    "\n",
    "1    1    1/4   1/6   1/4   1/7\n",
    "\n",
    "2    4    1     1/3   2     1/3\n",
    "\n",
    "3    6    3     1     4     1/2\n",
    "\n",
    "4    4    1/2   1/4   1     1/3\n",
    "\n",
    "5    7    3     2     3     1 \n",
    "\n",
    "\n"
   ]
  },
  {
   "cell_type": "code",
   "execution_count": 23,
   "metadata": {},
   "outputs": [],
   "source": [
    "matrix = np.array([\n",
    "    [1,    1/3,  2,    1/3],\n",
    "    [3,    1,    4,    1/2],\n",
    "    [1/2,  1/4,  1,    1/3],\n",
    "    [3,    2,    3,    1]\n",
    "])\n",
    "\n"
   ]
  },
  {
   "cell_type": "code",
   "execution_count": 24,
   "metadata": {},
   "outputs": [
    {
     "data": {
      "text/plain": [
       "array([[0.68658905],\n",
       "       [1.56508458],\n",
       "       [0.451801  ],\n",
       "       [2.05976714]])"
      ]
     },
     "execution_count": 24,
     "metadata": {},
     "output_type": "execute_result"
    }
   ],
   "source": [
    "A1 = np.ones((4,1))\n",
    "\n",
    "for i in range(4):\n",
    "    for j in range(4):\n",
    "        A1[i][0] *= matrix[i][j]\n",
    "    A1[i][0] = A1[i][0]**(1/4)\n",
    "# A1 = np.prod(matrix, axis=1) ** (1/5)\n",
    "# A1 = A1.reshape(-1, 1)\n",
    "np.set_printoptions(suppress=True)\n",
    "A1"
   ]
  },
  {
   "cell_type": "code",
   "execution_count": 25,
   "metadata": {},
   "outputs": [
    {
     "data": {
      "text/plain": [
       "array([[0.14414323],\n",
       "       [0.32857551],\n",
       "       [0.09485158],\n",
       "       [0.43242969]])"
      ]
     },
     "execution_count": 25,
     "metadata": {},
     "output_type": "execute_result"
    }
   ],
   "source": [
    "summation = A1.sum()\n",
    "summation\n",
    "A2 = A1/summation\n",
    "A2"
   ]
  },
  {
   "cell_type": "code",
   "execution_count": 26,
   "metadata": {},
   "outputs": [
    {
     "data": {
      "text/plain": [
       "array([[0.58751478],\n",
       "       [1.35662635],\n",
       "       [0.3932103 ],\n",
       "       [1.80656512]])"
      ]
     },
     "execution_count": 26,
     "metadata": {},
     "output_type": "execute_result"
    }
   ],
   "source": [
    "#AHP = np.ones((5,1))\n",
    "AHP = np.dot(matrix,A2)\n",
    "AHP"
   ]
  },
  {
   "cell_type": "code",
   "execution_count": 27,
   "metadata": {},
   "outputs": [
    {
     "data": {
      "text/plain": [
       "array([[4.0759097 ],\n",
       "       [4.12881156],\n",
       "       [4.14553246],\n",
       "       [4.17770838]])"
      ]
     },
     "execution_count": 27,
     "metadata": {},
     "output_type": "execute_result"
    }
   ],
   "source": [
    "A4 = AHP/A2\n",
    "A4"
   ]
  },
  {
   "cell_type": "code",
   "execution_count": 28,
   "metadata": {},
   "outputs": [
    {
     "data": {
      "text/plain": [
       "0.04399684124422679"
      ]
     },
     "execution_count": 28,
     "metadata": {},
     "output_type": "execute_result"
    }
   ],
   "source": [
    "mean = A4.mean()\n",
    "mean\n",
    "CI = (mean - 4) / 3\n",
    "CI"
   ]
  },
  {
   "cell_type": "code",
   "execution_count": 29,
   "metadata": {},
   "outputs": [
    {
     "data": {
      "text/plain": [
       "0.04943465308340089"
      ]
     },
     "execution_count": 29,
     "metadata": {},
     "output_type": "execute_result"
    }
   ],
   "source": [
    "CR = CI/0.89\n",
    "CR\n",
    "# CR SHOULD BE LESS THAN 0.1 "
   ]
  },
  {
   "cell_type": "code",
   "execution_count": 30,
   "metadata": {},
   "outputs": [
    {
     "data": {
      "text/html": [
       "<div>\n",
       "<style scoped>\n",
       "    .dataframe tbody tr th:only-of-type {\n",
       "        vertical-align: middle;\n",
       "    }\n",
       "\n",
       "    .dataframe tbody tr th {\n",
       "        vertical-align: top;\n",
       "    }\n",
       "\n",
       "    .dataframe thead th {\n",
       "        text-align: right;\n",
       "    }\n",
       "</style>\n",
       "<table border=\"1\" class=\"dataframe\">\n",
       "  <thead>\n",
       "    <tr style=\"text-align: right;\">\n",
       "      <th></th>\n",
       "      <th>match_id</th>\n",
       "      <th>inning</th>\n",
       "      <th>bowling_team</th>\n",
       "      <th>batter</th>\n",
       "      <th>batter_total_balls</th>\n",
       "      <th>batter_score</th>\n",
       "      <th>match_type</th>\n",
       "      <th>venue</th>\n",
       "      <th>dismissed</th>\n",
       "      <th>average</th>\n",
       "      <th>...</th>\n",
       "      <th>dismissals_5</th>\n",
       "      <th>no_of_30_plus_5</th>\n",
       "      <th>no_of_50_plus_5</th>\n",
       "      <th>average_5</th>\n",
       "      <th>strike_rate_5</th>\n",
       "      <th>avg_fahp</th>\n",
       "      <th>sr_fahp</th>\n",
       "      <th>30_fahp</th>\n",
       "      <th>50_fahp</th>\n",
       "      <th>form</th>\n",
       "    </tr>\n",
       "  </thead>\n",
       "  <tbody>\n",
       "    <tr>\n",
       "      <th>15593</th>\n",
       "      <td>1370353</td>\n",
       "      <td>2</td>\n",
       "      <td>Gujarat Titans</td>\n",
       "      <td>DP Conway</td>\n",
       "      <td>25.0</td>\n",
       "      <td>47</td>\n",
       "      <td>Final</td>\n",
       "      <td>Narendra Modi Stadium, Ahmedabad</td>\n",
       "      <td>1</td>\n",
       "      <td>46.157895</td>\n",
       "      <td>...</td>\n",
       "      <td>5</td>\n",
       "      <td>3</td>\n",
       "      <td>1</td>\n",
       "      <td>42.200000</td>\n",
       "      <td>124.852071</td>\n",
       "      <td>5.0</td>\n",
       "      <td>3.0</td>\n",
       "      <td>1</td>\n",
       "      <td>1</td>\n",
       "      <td>9.207228</td>\n",
       "    </tr>\n",
       "    <tr>\n",
       "      <th>15594</th>\n",
       "      <td>1370353</td>\n",
       "      <td>2</td>\n",
       "      <td>Gujarat Titans</td>\n",
       "      <td>MS Dhoni</td>\n",
       "      <td>1.0</td>\n",
       "      <td>0</td>\n",
       "      <td>Final</td>\n",
       "      <td>Narendra Modi Stadium, Ahmedabad</td>\n",
       "      <td>1</td>\n",
       "      <td>37.094891</td>\n",
       "      <td>...</td>\n",
       "      <td>2</td>\n",
       "      <td>0</td>\n",
       "      <td>0</td>\n",
       "      <td>15.000000</td>\n",
       "      <td>142.857143</td>\n",
       "      <td>1.0</td>\n",
       "      <td>4.0</td>\n",
       "      <td>1</td>\n",
       "      <td>1</td>\n",
       "      <td>8.213796</td>\n",
       "    </tr>\n",
       "    <tr>\n",
       "      <th>15595</th>\n",
       "      <td>1370353</td>\n",
       "      <td>2</td>\n",
       "      <td>Gujarat Titans</td>\n",
       "      <td>RA Jadeja</td>\n",
       "      <td>6.0</td>\n",
       "      <td>15</td>\n",
       "      <td>Final</td>\n",
       "      <td>Narendra Modi Stadium, Ahmedabad</td>\n",
       "      <td>0</td>\n",
       "      <td>25.254717</td>\n",
       "      <td>...</td>\n",
       "      <td>4</td>\n",
       "      <td>0</td>\n",
       "      <td>0</td>\n",
       "      <td>23.750000</td>\n",
       "      <td>130.136986</td>\n",
       "      <td>2.0</td>\n",
       "      <td>3.0</td>\n",
       "      <td>1</td>\n",
       "      <td>1</td>\n",
       "      <td>7.444684</td>\n",
       "    </tr>\n",
       "    <tr>\n",
       "      <th>15596</th>\n",
       "      <td>1370353</td>\n",
       "      <td>2</td>\n",
       "      <td>Gujarat Titans</td>\n",
       "      <td>RD Gaikwad</td>\n",
       "      <td>16.0</td>\n",
       "      <td>26</td>\n",
       "      <td>Final</td>\n",
       "      <td>Narendra Modi Stadium, Ahmedabad</td>\n",
       "      <td>1</td>\n",
       "      <td>41.186047</td>\n",
       "      <td>...</td>\n",
       "      <td>5</td>\n",
       "      <td>1</td>\n",
       "      <td>2</td>\n",
       "      <td>42.000000</td>\n",
       "      <td>148.936170</td>\n",
       "      <td>5.0</td>\n",
       "      <td>4.0</td>\n",
       "      <td>1</td>\n",
       "      <td>1</td>\n",
       "      <td>10.563855</td>\n",
       "    </tr>\n",
       "    <tr>\n",
       "      <th>15597</th>\n",
       "      <td>1370353</td>\n",
       "      <td>2</td>\n",
       "      <td>Gujarat Titans</td>\n",
       "      <td>S Dube</td>\n",
       "      <td>21.0</td>\n",
       "      <td>32</td>\n",
       "      <td>Final</td>\n",
       "      <td>Narendra Modi Stadium, Ahmedabad</td>\n",
       "      <td>0</td>\n",
       "      <td>28.263158</td>\n",
       "      <td>...</td>\n",
       "      <td>3</td>\n",
       "      <td>1</td>\n",
       "      <td>0</td>\n",
       "      <td>40.666667</td>\n",
       "      <td>160.526316</td>\n",
       "      <td>5.0</td>\n",
       "      <td>5.0</td>\n",
       "      <td>1</td>\n",
       "      <td>1</td>\n",
       "      <td>11.920481</td>\n",
       "    </tr>\n",
       "  </tbody>\n",
       "</table>\n",
       "<p>5 rows × 32 columns</p>\n",
       "</div>"
      ],
      "text/plain": [
       "       match_id  inning    bowling_team      batter  batter_total_balls  \\\n",
       "15593   1370353       2  Gujarat Titans   DP Conway                25.0   \n",
       "15594   1370353       2  Gujarat Titans    MS Dhoni                 1.0   \n",
       "15595   1370353       2  Gujarat Titans   RA Jadeja                 6.0   \n",
       "15596   1370353       2  Gujarat Titans  RD Gaikwad                16.0   \n",
       "15597   1370353       2  Gujarat Titans      S Dube                21.0   \n",
       "\n",
       "       batter_score match_type                             venue  dismissed  \\\n",
       "15593            47      Final  Narendra Modi Stadium, Ahmedabad          1   \n",
       "15594             0      Final  Narendra Modi Stadium, Ahmedabad          1   \n",
       "15595            15      Final  Narendra Modi Stadium, Ahmedabad          0   \n",
       "15596            26      Final  Narendra Modi Stadium, Ahmedabad          1   \n",
       "15597            32      Final  Narendra Modi Stadium, Ahmedabad          0   \n",
       "\n",
       "         average  ...  dismissals_5  no_of_30_plus_5  no_of_50_plus_5  \\\n",
       "15593  46.157895  ...             5                3                1   \n",
       "15594  37.094891  ...             2                0                0   \n",
       "15595  25.254717  ...             4                0                0   \n",
       "15596  41.186047  ...             5                1                2   \n",
       "15597  28.263158  ...             3                1                0   \n",
       "\n",
       "       average_5  strike_rate_5  avg_fahp  sr_fahp  30_fahp  50_fahp  \\\n",
       "15593  42.200000     124.852071       5.0      3.0        1        1   \n",
       "15594  15.000000     142.857143       1.0      4.0        1        1   \n",
       "15595  23.750000     130.136986       2.0      3.0        1        1   \n",
       "15596  42.000000     148.936170       5.0      4.0        1        1   \n",
       "15597  40.666667     160.526316       5.0      5.0        1        1   \n",
       "\n",
       "            form  \n",
       "15593   9.207228  \n",
       "15594   8.213796  \n",
       "15595   7.444684  \n",
       "15596  10.563855  \n",
       "15597  11.920481  \n",
       "\n",
       "[5 rows x 32 columns]"
      ]
     },
     "execution_count": 30,
     "metadata": {},
     "output_type": "execute_result"
    }
   ],
   "source": [
    "df['avg_fahp'] = df['average_5'].apply(lambda x: 1 if x < 20 else (2 if 20 <= x < 25 else (3 if 25 <= x < 30 else (4 if 30 <= x < 40 else (5 if x >= 40 else None)))))\n",
    "\n",
    "# bins = [-float('inf'), 10, 20, 30, 40, float('inf')]\n",
    "# labels = [1, 2, 3, 4, 5]\n",
    "\n",
    "# df['avg_fahp'] = pd.cut(df['average'], bins=bins, labels=labels, right=False)\n",
    "\n",
    "df['sr_fahp'] = df['strike_rate_5'].apply(lambda x: 1 if x < 100 else (2 if 100 <= x < 120 else (3 if 120 <= x < 140 else (4 if 140 <= x < 160 else (5 if x >= 160 else None)))))\n",
    "\n",
    "# df['innings_fahp'] = df['innings_played'].apply(lambda x: 1 if x < 20 else (2 if 20 <= x < 40 else (3 if 40 <= x < 60 else (4 if 60 <= x < 80 else (5 if x >= 80 else None)))))\n",
    "\n",
    "df['30_fahp'] = df['no_of_30_plus_5'].apply(lambda x: 1 if x < 5 else (2 if 5 <= x < 15 else (3 if 15 <= x < 25 else (4 if 25 <= x < 35 else (5 if x >= 35 else None)))))\n",
    "\n",
    "df['50_fahp'] = df['no_of_50_plus_5'].apply(lambda x: 1 if x < 5 else (2 if 5 <= x < 10 else (3 if 10 <= x < 20 else (4 if 20 <= x < 25 else (5 if x >= 25 else None)))))\n",
    "\n",
    "df['form'] = df['avg_fahp']*AHP[0][0] + df['sr_fahp']*AHP[1][0] + df['30_fahp']*AHP[2][0] + df['50_fahp']*AHP[3][0]\n",
    "\n",
    "df.tail()"
   ]
  }
 ],
 "metadata": {
  "kernelspec": {
   "display_name": "Python 3",
   "language": "python",
   "name": "python3"
  },
  "language_info": {
   "codemirror_mode": {
    "name": "ipython",
    "version": 3
   },
   "file_extension": ".py",
   "mimetype": "text/x-python",
   "name": "python",
   "nbconvert_exporter": "python",
   "pygments_lexer": "ipython3",
   "version": "3.11.9"
  }
 },
 "nbformat": 4,
 "nbformat_minor": 2
}
