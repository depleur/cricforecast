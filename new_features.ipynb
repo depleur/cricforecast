{
 "cells": [
  {
   "cell_type": "code",
   "execution_count": 1,
   "metadata": {},
   "outputs": [
    {
     "data": {
      "text/plain": [
       "Index(['match_id', 'inning', 'bowling_team', 'batter', 'batter_total_balls',\n",
       "       'batter_SR', 'batter_score', 'dismissal_kind', 'date', 'match_type',\n",
       "       'venue', 'no_of_right_arm_pacers_faced', 'no_of_left_arm_pacers_faced',\n",
       "       'no_of_right_arm_offspinners_faced',\n",
       "       'no_of_right_arm_legspinners_faced', 'no_of_left_arm_legspinners_faced',\n",
       "       'no_of_left_arm_offspinners_faced', 'score_last_5', 'balls_last_5',\n",
       "       'score_last_1', 'balls_last_1', 'score_last_2', 'balls_last_2',\n",
       "       'score_last_3', 'balls_last_3', 'score_last_4', 'balls_last_4'],\n",
       "      dtype='object')"
      ]
     },
     "execution_count": 1,
     "metadata": {},
     "output_type": "execute_result"
    }
   ],
   "source": [
    "import pandas as pd\n",
    "import numpy as np\n",
    "import matplotlib.pyplot as plt\n",
    "import seaborn as sns\n",
    "from sklearn.model_selection import train_test_split\n",
    "\n",
    "# Load the data\n",
    "df = pd.read_csv('data/aggregated_df.csv')\n",
    "df.columns"
   ]
  },
  {
   "cell_type": "markdown",
   "metadata": {},
   "source": [
    "## Add number of innings, avg and S/R up until that match, number of 30+ scores, number of 50+ scores, consistency, and form"
   ]
  },
  {
   "cell_type": "code",
   "execution_count": 2,
   "metadata": {},
   "outputs": [
    {
     "data": {
      "text/plain": [
       "Index(['match_id', 'inning', 'bowling_team', 'batter', 'batter_total_balls',\n",
       "       'batter_score', 'dismissal_kind', 'match_type', 'venue'],\n",
       "      dtype='object')"
      ]
     },
     "execution_count": 2,
     "metadata": {},
     "output_type": "execute_result"
    }
   ],
   "source": [
    "df.drop(columns = ['date', 'batter_SR', 'no_of_right_arm_pacers_faced', 'no_of_left_arm_pacers_faced', 'no_of_right_arm_offspinners_faced', \n",
    "                        'no_of_right_arm_legspinners_faced', 'no_of_left_arm_legspinners_faced', 'no_of_left_arm_offspinners_faced', \n",
    "                        'score_last_5', 'balls_last_5', 'score_last_1', 'balls_last_1', 'score_last_2', 'balls_last_2', 'score_last_3', \n",
    "                        'balls_last_3', 'score_last_4', 'balls_last_4'], inplace = True)\n",
    "df.columns"
   ]
  },
  {
   "cell_type": "code",
   "execution_count": 3,
   "metadata": {},
   "outputs": [],
   "source": [
    "# pd.isna(df['dismissal_kind'][len(df)-1])"
   ]
  },
  {
   "cell_type": "code",
   "execution_count": 4,
   "metadata": {},
   "outputs": [],
   "source": [
    "df['dismissed'] = df['dismissal_kind'].notna().astype(int)"
   ]
  },
  {
   "cell_type": "code",
   "execution_count": 5,
   "metadata": {},
   "outputs": [
    {
     "data": {
      "text/plain": [
       "0        0\n",
       "1        1\n",
       "2        0\n",
       "3        1\n",
       "4        1\n",
       "        ..\n",
       "15461    1\n",
       "15462    1\n",
       "15463    0\n",
       "15464    1\n",
       "15465    0\n",
       "Name: dismissed, Length: 15466, dtype: int32"
      ]
     },
     "execution_count": 5,
     "metadata": {},
     "output_type": "execute_result"
    }
   ],
   "source": [
    "df['dismissed']"
   ]
  },
  {
   "cell_type": "code",
   "execution_count": 6,
   "metadata": {},
   "outputs": [],
   "source": [
    "df.drop(columns = 'dismissal_kind', inplace = True)"
   ]
  },
  {
   "cell_type": "code",
   "execution_count": 7,
   "metadata": {},
   "outputs": [
    {
     "data": {
      "text/plain": [
       "Index(['match_id', 'inning', 'bowling_team', 'batter', 'batter_total_balls',\n",
       "       'batter_score', 'match_type', 'venue', 'dismissed'],\n",
       "      dtype='object')"
      ]
     },
     "execution_count": 7,
     "metadata": {},
     "output_type": "execute_result"
    }
   ],
   "source": [
    "df.columns"
   ]
  },
  {
   "cell_type": "code",
   "execution_count": 8,
   "metadata": {},
   "outputs": [],
   "source": [
    "df['cumulative_runs'] = df.groupby('batter')['batter_score'].cumsum()\n",
    "df['cumulative_dismissals'] = df.groupby('batter')['dismissed'].cumsum()\n",
    "df['cumulative_balls_faced'] = df.groupby('batter')['batter_total_balls'].cumsum()\n",
    "\n",
    "# Average up until the previous match\n",
    "shifted_runs = df.groupby('batter')['cumulative_runs'].shift(1)\n",
    "shifted_dismissals = df.groupby('batter')['cumulative_dismissals'].shift(1)\n",
    "shifted_balls = df.groupby('batter')['cumulative_balls_faced'].shift(1)\n",
    "\n",
    "df['average'] = np.where(shifted_dismissals == 0, shifted_runs, shifted_runs / shifted_dismissals)\n",
    "df.groupby('batter')['cumulative_runs'].shift(1) / df.groupby('batter')['cumulative_dismissals'].shift(1)\n",
    "\n",
    "# Strike rate up until the previous match\n",
    "df['strike_rate'] = (df.groupby('batter')['cumulative_runs'].shift(1) / df.groupby('batter')['cumulative_balls_faced'].shift(1)) * 100\n",
    "\n",
    "# Handling initial matches\n",
    "# df['average'].fillna(0, inplace = True)\n",
    "df.fillna({\"average\": 0, \"strike_rate\": 0}, inplace = True)\n",
    "# df['strike_rate'].fillna(0, inplace = True) "
   ]
  },
  {
   "cell_type": "code",
   "execution_count": 9,
   "metadata": {},
   "outputs": [],
   "source": [
    "# Cumulative 30+ scores up until the previous match\n",
    "df['cumulative_30_plus_inclusive'] = df.groupby('batter')['batter_score'].apply(lambda x: (x.apply(lambda score: 1 if 30 <= score < 50 else 0)).cumsum()).reset_index(level=0, drop=True)\n",
    "df['cumulative_30_plus'] = df.groupby('batter')['cumulative_30_plus_inclusive'].shift(1).fillna(0).astype(int)\n",
    "\n",
    "# Cumulative 50+ scores up until the previous match\n",
    "df['cumulative_50_plus_inclusive'] = df.groupby('batter')['batter_score'].apply(lambda x: (x.apply(lambda score: 1 if score >= 50 else 0)).cumsum()).reset_index(level=0, drop=True)\n",
    "df['cumulative_50_plus'] = df.groupby('batter')['cumulative_50_plus_inclusive'].shift(1).fillna(0).astype(int)\n",
    "\n",
    "df['innings_played'] = df.groupby('batter')['inning'].cumcount() + 1"
   ]
  },
  {
   "cell_type": "code",
   "execution_count": 10,
   "metadata": {},
   "outputs": [
    {
     "data": {
      "text/html": [
       "<div>\n",
       "<style scoped>\n",
       "    .dataframe tbody tr th:only-of-type {\n",
       "        vertical-align: middle;\n",
       "    }\n",
       "\n",
       "    .dataframe tbody tr th {\n",
       "        vertical-align: top;\n",
       "    }\n",
       "\n",
       "    .dataframe thead th {\n",
       "        text-align: right;\n",
       "    }\n",
       "</style>\n",
       "<table border=\"1\" class=\"dataframe\">\n",
       "  <thead>\n",
       "    <tr style=\"text-align: right;\">\n",
       "      <th></th>\n",
       "      <th>match_id</th>\n",
       "      <th>inning</th>\n",
       "      <th>bowling_team</th>\n",
       "      <th>batter</th>\n",
       "      <th>batter_total_balls</th>\n",
       "      <th>batter_score</th>\n",
       "      <th>match_type</th>\n",
       "      <th>venue</th>\n",
       "      <th>dismissed</th>\n",
       "      <th>average</th>\n",
       "      <th>strike_rate</th>\n",
       "      <th>cumulative_30_plus</th>\n",
       "      <th>cumulative_50_plus</th>\n",
       "      <th>innings_played</th>\n",
       "    </tr>\n",
       "  </thead>\n",
       "  <tbody>\n",
       "    <tr>\n",
       "      <th>15461</th>\n",
       "      <td>1370353</td>\n",
       "      <td>2</td>\n",
       "      <td>Gujarat Titans</td>\n",
       "      <td>DP Conway</td>\n",
       "      <td>25.0</td>\n",
       "      <td>47</td>\n",
       "      <td>Final</td>\n",
       "      <td>Narendra Modi Stadium, Ahmedabad</td>\n",
       "      <td>1</td>\n",
       "      <td>46.157895</td>\n",
       "      <td>139.427663</td>\n",
       "      <td>4</td>\n",
       "      <td>9</td>\n",
       "      <td>22</td>\n",
       "    </tr>\n",
       "    <tr>\n",
       "      <th>15462</th>\n",
       "      <td>1370353</td>\n",
       "      <td>2</td>\n",
       "      <td>Gujarat Titans</td>\n",
       "      <td>MS Dhoni</td>\n",
       "      <td>1.0</td>\n",
       "      <td>0</td>\n",
       "      <td>Final</td>\n",
       "      <td>Narendra Modi Stadium, Ahmedabad</td>\n",
       "      <td>1</td>\n",
       "      <td>37.094891</td>\n",
       "      <td>135.955056</td>\n",
       "      <td>41</td>\n",
       "      <td>24</td>\n",
       "      <td>217</td>\n",
       "    </tr>\n",
       "    <tr>\n",
       "      <th>15463</th>\n",
       "      <td>1370353</td>\n",
       "      <td>2</td>\n",
       "      <td>Gujarat Titans</td>\n",
       "      <td>RA Jadeja</td>\n",
       "      <td>6.0</td>\n",
       "      <td>15</td>\n",
       "      <td>Final</td>\n",
       "      <td>Narendra Modi Stadium, Ahmedabad</td>\n",
       "      <td>0</td>\n",
       "      <td>25.254717</td>\n",
       "      <td>128.270244</td>\n",
       "      <td>19</td>\n",
       "      <td>2</td>\n",
       "      <td>169</td>\n",
       "    </tr>\n",
       "    <tr>\n",
       "      <th>15464</th>\n",
       "      <td>1370353</td>\n",
       "      <td>2</td>\n",
       "      <td>Gujarat Titans</td>\n",
       "      <td>RD Gaikwad</td>\n",
       "      <td>16.0</td>\n",
       "      <td>26</td>\n",
       "      <td>Final</td>\n",
       "      <td>Narendra Modi Stadium, Ahmedabad</td>\n",
       "      <td>1</td>\n",
       "      <td>41.186047</td>\n",
       "      <td>135.190840</td>\n",
       "      <td>13</td>\n",
       "      <td>15</td>\n",
       "      <td>51</td>\n",
       "    </tr>\n",
       "    <tr>\n",
       "      <th>15465</th>\n",
       "      <td>1370353</td>\n",
       "      <td>2</td>\n",
       "      <td>Gujarat Titans</td>\n",
       "      <td>S Dube</td>\n",
       "      <td>21.0</td>\n",
       "      <td>32</td>\n",
       "      <td>Final</td>\n",
       "      <td>Narendra Modi Stadium, Ahmedabad</td>\n",
       "      <td>0</td>\n",
       "      <td>28.263158</td>\n",
       "      <td>141.501976</td>\n",
       "      <td>5</td>\n",
       "      <td>6</td>\n",
       "      <td>47</td>\n",
       "    </tr>\n",
       "  </tbody>\n",
       "</table>\n",
       "</div>"
      ],
      "text/plain": [
       "       match_id  inning    bowling_team      batter  batter_total_balls  \\\n",
       "15461   1370353       2  Gujarat Titans   DP Conway                25.0   \n",
       "15462   1370353       2  Gujarat Titans    MS Dhoni                 1.0   \n",
       "15463   1370353       2  Gujarat Titans   RA Jadeja                 6.0   \n",
       "15464   1370353       2  Gujarat Titans  RD Gaikwad                16.0   \n",
       "15465   1370353       2  Gujarat Titans      S Dube                21.0   \n",
       "\n",
       "       batter_score match_type                             venue  dismissed  \\\n",
       "15461            47      Final  Narendra Modi Stadium, Ahmedabad          1   \n",
       "15462             0      Final  Narendra Modi Stadium, Ahmedabad          1   \n",
       "15463            15      Final  Narendra Modi Stadium, Ahmedabad          0   \n",
       "15464            26      Final  Narendra Modi Stadium, Ahmedabad          1   \n",
       "15465            32      Final  Narendra Modi Stadium, Ahmedabad          0   \n",
       "\n",
       "         average  strike_rate  cumulative_30_plus  cumulative_50_plus  \\\n",
       "15461  46.157895   139.427663                   4                   9   \n",
       "15462  37.094891   135.955056                  41                  24   \n",
       "15463  25.254717   128.270244                  19                   2   \n",
       "15464  41.186047   135.190840                  13                  15   \n",
       "15465  28.263158   141.501976                   5                   6   \n",
       "\n",
       "       innings_played  \n",
       "15461              22  \n",
       "15462             217  \n",
       "15463             169  \n",
       "15464              51  \n",
       "15465              47  "
      ]
     },
     "execution_count": 10,
     "metadata": {},
     "output_type": "execute_result"
    }
   ],
   "source": [
    "df = df.drop(columns = [\"cumulative_runs\", \"cumulative_dismissals\", \"cumulative_balls_faced\", \"cumulative_30_plus_inclusive\", \"cumulative_50_plus_inclusive\"])\n",
    "df.tail()"
   ]
  },
  {
   "cell_type": "code",
   "execution_count": 11,
   "metadata": {},
   "outputs": [
    {
     "data": {
      "text/plain": [
       "Index(['match_id', 'inning', 'bowling_team', 'batter', 'batter_total_balls',\n",
       "       'batter_score', 'match_type', 'venue', 'dismissed', 'average',\n",
       "       'strike_rate', 'cumulative_30_plus', 'cumulative_50_plus',\n",
       "       'innings_played'],\n",
       "      dtype='object')"
      ]
     },
     "execution_count": 11,
     "metadata": {},
     "output_type": "execute_result"
    }
   ],
   "source": [
    "df.columns"
   ]
  },
  {
   "cell_type": "markdown",
   "metadata": {},
   "source": [
    "- No. of matches\n",
    "- Avg\n",
    "- S/R\n",
    "- no of 30\n",
    "- no of 50\n",
    "######\n",
    "- 1 is equal importance\n",
    "- 3 is moderate of one over another\n",
    "- 5 is essential\n",
    "- 7 is very strong\n",
    "- 9 is extreme importance\n",
    "######\n",
    "0    1    2     3     4     5\n",
    "\n",
    "1    1    1/4   1/6   1/3   1/4\n",
    "\n",
    "2    4    1     1/3   3     2\n",
    "\n",
    "3    6    3     1     6     5\n",
    "\n",
    "4    3    1/3   1/6   1     1/2\n",
    "\n",
    "5    4    1/2   1/5   2     1\n",
    "\n"
   ]
  },
  {
   "cell_type": "code",
   "execution_count": 12,
   "metadata": {},
   "outputs": [],
   "source": [
    "# Main comparison matrix (transposed)\n",
    "matrix = np.array([\n",
    "    [1,    1/4,  1/6,  1/3,  1/4],\n",
    "    [4,    1,    1/3,  3,    2  ],\n",
    "    [6,    3,    1,    6,    5  ],\n",
    "    [3,    1/3,  1/6,  1,    1/2],\n",
    "    [4,    1/2,  1/5,  2,    1  ]\n",
    "])"
   ]
  },
  {
   "cell_type": "code",
   "execution_count": 13,
   "metadata": {},
   "outputs": [
    {
     "data": {
      "text/plain": [
       "array([[0.32219701],\n",
       "       [1.51571657],\n",
       "       [3.51948203],\n",
       "       [0.60836434],\n",
       "       [0.9563525 ]])"
      ]
     },
     "execution_count": 13,
     "metadata": {},
     "output_type": "execute_result"
    }
   ],
   "source": [
    "A1 = np.ones((5,1))\n",
    "\n",
    "for i in range(5):\n",
    "    for j in range(5):\n",
    "        A1[i][0] *= matrix[i][j]\n",
    "    A1[i][0] = A1[i][0]**(1/5)\n",
    "\n",
    "# A1 = np.prod(matrix, axis=1) ** (1/5)\n",
    "# A1 = A1.reshape(-1, 1)\n",
    "\n",
    "np.set_printoptions(suppress=True)\n",
    "A1"
   ]
  },
  {
   "cell_type": "code",
   "execution_count": 14,
   "metadata": {},
   "outputs": [
    {
     "data": {
      "text/plain": [
       "6.922112444617791"
      ]
     },
     "execution_count": 14,
     "metadata": {},
     "output_type": "execute_result"
    }
   ],
   "source": [
    "summation = A1.sum()\n",
    "summation"
   ]
  },
  {
   "cell_type": "code",
   "execution_count": 15,
   "metadata": {},
   "outputs": [
    {
     "data": {
      "text/plain": [
       "array([[0.04654605],\n",
       "       [0.21896734],\n",
       "       [0.50844046],\n",
       "       [0.08788709],\n",
       "       [0.13815905]])"
      ]
     },
     "execution_count": 15,
     "metadata": {},
     "output_type": "execute_result"
    }
   ],
   "source": [
    "A2 = A1/summation\n",
    "A2"
   ]
  },
  {
   "cell_type": "code",
   "execution_count": 16,
   "metadata": {},
   "outputs": [
    {
     "data": {
      "text/plain": [
       "array([[0.24986343],\n",
       "       [1.11461109],\n",
       "       [2.66273662],\n",
       "       [0.45433397],\n",
       "       [0.71128921]])"
      ]
     },
     "execution_count": 16,
     "metadata": {},
     "output_type": "execute_result"
    }
   ],
   "source": [
    "#ahp = np.ones((5,1))\n",
    "AHP = np.dot(matrix,A2)\n",
    "AHP"
   ]
  },
  {
   "cell_type": "code",
   "execution_count": 17,
   "metadata": {},
   "outputs": [
    {
     "data": {
      "text/plain": [
       "array([[5.3680906 ],\n",
       "       [5.09030743],\n",
       "       [5.23706675],\n",
       "       [5.16951864],\n",
       "       [5.14833589]])"
      ]
     },
     "execution_count": 17,
     "metadata": {},
     "output_type": "execute_result"
    }
   ],
   "source": [
    "A4 = AHP/A2\n",
    "A4"
   ]
  },
  {
   "cell_type": "code",
   "execution_count": 18,
   "metadata": {},
   "outputs": [
    {
     "data": {
      "text/plain": [
       "0.045645014310930376"
      ]
     },
     "execution_count": 18,
     "metadata": {},
     "output_type": "execute_result"
    }
   ],
   "source": [
    "mean = A4.mean()\n",
    "mean\n",
    "CI = (mean - 5) / 4\n",
    "CI\n",
    "CR = CI/1.11\n",
    "CR\n",
    "# CR SHOULD BE LESS THAN 0.1 "
   ]
  },
  {
   "cell_type": "code",
   "execution_count": 19,
   "metadata": {},
   "outputs": [
    {
     "data": {
      "text/html": [
       "<div>\n",
       "<style scoped>\n",
       "    .dataframe tbody tr th:only-of-type {\n",
       "        vertical-align: middle;\n",
       "    }\n",
       "\n",
       "    .dataframe tbody tr th {\n",
       "        vertical-align: top;\n",
       "    }\n",
       "\n",
       "    .dataframe thead th {\n",
       "        text-align: right;\n",
       "    }\n",
       "</style>\n",
       "<table border=\"1\" class=\"dataframe\">\n",
       "  <thead>\n",
       "    <tr style=\"text-align: right;\">\n",
       "      <th></th>\n",
       "      <th>match_id</th>\n",
       "      <th>inning</th>\n",
       "      <th>bowling_team</th>\n",
       "      <th>batter</th>\n",
       "      <th>batter_total_balls</th>\n",
       "      <th>batter_score</th>\n",
       "      <th>match_type</th>\n",
       "      <th>venue</th>\n",
       "      <th>dismissed</th>\n",
       "      <th>average</th>\n",
       "      <th>strike_rate</th>\n",
       "      <th>cumulative_30_plus</th>\n",
       "      <th>cumulative_50_plus</th>\n",
       "      <th>innings_played</th>\n",
       "      <th>avg_ahp</th>\n",
       "      <th>sr_ahp</th>\n",
       "      <th>innings_ahp</th>\n",
       "      <th>30_ahp</th>\n",
       "      <th>50_ahp</th>\n",
       "      <th>consistency</th>\n",
       "    </tr>\n",
       "  </thead>\n",
       "  <tbody>\n",
       "    <tr>\n",
       "      <th>15461</th>\n",
       "      <td>1370353</td>\n",
       "      <td>2</td>\n",
       "      <td>Gujarat Titans</td>\n",
       "      <td>DP Conway</td>\n",
       "      <td>25.0</td>\n",
       "      <td>47</td>\n",
       "      <td>Final</td>\n",
       "      <td>Narendra Modi Stadium, Ahmedabad</td>\n",
       "      <td>1</td>\n",
       "      <td>46.157895</td>\n",
       "      <td>139.427663</td>\n",
       "      <td>4</td>\n",
       "      <td>9</td>\n",
       "      <td>22</td>\n",
       "      <td>5</td>\n",
       "      <td>3</td>\n",
       "      <td>2</td>\n",
       "      <td>1</td>\n",
       "      <td>2</td>\n",
       "      <td>15.937905</td>\n",
       "    </tr>\n",
       "    <tr>\n",
       "      <th>15462</th>\n",
       "      <td>1370353</td>\n",
       "      <td>2</td>\n",
       "      <td>Gujarat Titans</td>\n",
       "      <td>MS Dhoni</td>\n",
       "      <td>1.0</td>\n",
       "      <td>0</td>\n",
       "      <td>Final</td>\n",
       "      <td>Narendra Modi Stadium, Ahmedabad</td>\n",
       "      <td>1</td>\n",
       "      <td>37.094891</td>\n",
       "      <td>135.955056</td>\n",
       "      <td>41</td>\n",
       "      <td>24</td>\n",
       "      <td>217</td>\n",
       "      <td>4</td>\n",
       "      <td>3</td>\n",
       "      <td>5</td>\n",
       "      <td>5</td>\n",
       "      <td>4</td>\n",
       "      <td>18.812798</td>\n",
       "    </tr>\n",
       "    <tr>\n",
       "      <th>15463</th>\n",
       "      <td>1370353</td>\n",
       "      <td>2</td>\n",
       "      <td>Gujarat Titans</td>\n",
       "      <td>RA Jadeja</td>\n",
       "      <td>6.0</td>\n",
       "      <td>15</td>\n",
       "      <td>Final</td>\n",
       "      <td>Narendra Modi Stadium, Ahmedabad</td>\n",
       "      <td>0</td>\n",
       "      <td>25.254717</td>\n",
       "      <td>128.270244</td>\n",
       "      <td>19</td>\n",
       "      <td>2</td>\n",
       "      <td>169</td>\n",
       "      <td>3</td>\n",
       "      <td>3</td>\n",
       "      <td>5</td>\n",
       "      <td>3</td>\n",
       "      <td>1</td>\n",
       "      <td>14.655651</td>\n",
       "    </tr>\n",
       "    <tr>\n",
       "      <th>15464</th>\n",
       "      <td>1370353</td>\n",
       "      <td>2</td>\n",
       "      <td>Gujarat Titans</td>\n",
       "      <td>RD Gaikwad</td>\n",
       "      <td>16.0</td>\n",
       "      <td>26</td>\n",
       "      <td>Final</td>\n",
       "      <td>Narendra Modi Stadium, Ahmedabad</td>\n",
       "      <td>1</td>\n",
       "      <td>41.186047</td>\n",
       "      <td>135.190840</td>\n",
       "      <td>13</td>\n",
       "      <td>15</td>\n",
       "      <td>51</td>\n",
       "      <td>5</td>\n",
       "      <td>3</td>\n",
       "      <td>3</td>\n",
       "      <td>2</td>\n",
       "      <td>3</td>\n",
       "      <td>17.353391</td>\n",
       "    </tr>\n",
       "    <tr>\n",
       "      <th>15465</th>\n",
       "      <td>1370353</td>\n",
       "      <td>2</td>\n",
       "      <td>Gujarat Titans</td>\n",
       "      <td>S Dube</td>\n",
       "      <td>21.0</td>\n",
       "      <td>32</td>\n",
       "      <td>Final</td>\n",
       "      <td>Narendra Modi Stadium, Ahmedabad</td>\n",
       "      <td>0</td>\n",
       "      <td>28.263158</td>\n",
       "      <td>141.501976</td>\n",
       "      <td>5</td>\n",
       "      <td>6</td>\n",
       "      <td>47</td>\n",
       "      <td>3</td>\n",
       "      <td>4</td>\n",
       "      <td>3</td>\n",
       "      <td>2</td>\n",
       "      <td>2</td>\n",
       "      <td>17.075616</td>\n",
       "    </tr>\n",
       "  </tbody>\n",
       "</table>\n",
       "</div>"
      ],
      "text/plain": [
       "       match_id  inning    bowling_team      batter  batter_total_balls  \\\n",
       "15461   1370353       2  Gujarat Titans   DP Conway                25.0   \n",
       "15462   1370353       2  Gujarat Titans    MS Dhoni                 1.0   \n",
       "15463   1370353       2  Gujarat Titans   RA Jadeja                 6.0   \n",
       "15464   1370353       2  Gujarat Titans  RD Gaikwad                16.0   \n",
       "15465   1370353       2  Gujarat Titans      S Dube                21.0   \n",
       "\n",
       "       batter_score match_type                             venue  dismissed  \\\n",
       "15461            47      Final  Narendra Modi Stadium, Ahmedabad          1   \n",
       "15462             0      Final  Narendra Modi Stadium, Ahmedabad          1   \n",
       "15463            15      Final  Narendra Modi Stadium, Ahmedabad          0   \n",
       "15464            26      Final  Narendra Modi Stadium, Ahmedabad          1   \n",
       "15465            32      Final  Narendra Modi Stadium, Ahmedabad          0   \n",
       "\n",
       "         average  strike_rate  cumulative_30_plus  cumulative_50_plus  \\\n",
       "15461  46.157895   139.427663                   4                   9   \n",
       "15462  37.094891   135.955056                  41                  24   \n",
       "15463  25.254717   128.270244                  19                   2   \n",
       "15464  41.186047   135.190840                  13                  15   \n",
       "15465  28.263158   141.501976                   5                   6   \n",
       "\n",
       "       innings_played  avg_ahp  sr_ahp  innings_ahp  30_ahp  50_ahp  \\\n",
       "15461              22        5       3            2       1       2   \n",
       "15462             217        4       3            5       5       4   \n",
       "15463             169        3       3            5       3       1   \n",
       "15464              51        5       3            3       2       3   \n",
       "15465              47        3       4            3       2       2   \n",
       "\n",
       "       consistency  \n",
       "15461    15.937905  \n",
       "15462    18.812798  \n",
       "15463    14.655651  \n",
       "15464    17.353391  \n",
       "15465    17.075616  "
      ]
     },
     "execution_count": 19,
     "metadata": {},
     "output_type": "execute_result"
    }
   ],
   "source": [
    "df['avg_ahp'] = df['average'].apply(lambda x: 1 if x < 20 else (2 if 20 <= x < 25 else (3 if 25 <= x < 30 else (4 if 30 <= x < 40 else (5 if x >= 40 else None)))))\n",
    "\n",
    "# bins = [-float('inf'), 10, 20, 30, 40, float('inf')]\n",
    "# labels = [1, 2, 3, 4, 5]\n",
    "\n",
    "# df['avg_ahp'] = pd.cut(df['average'], bins=bins, labels=labels, right=False)\n",
    "\n",
    "df['sr_ahp'] = df['strike_rate'].apply(lambda x: 1 if x < 100 else (2 if 100 <= x < 120 else (3 if 120 <= x < 140 else (4 if 140 <= x < 160 else (5 if x >= 160 else None)))))\n",
    "\n",
    "df['innings_ahp'] = df['innings_played'].apply(lambda x: 1 if x < 20 else (2 if 20 <= x < 40 else (3 if 40 <= x < 60 else (4 if 60 <= x < 80 else (5 if x >= 80 else None)))))\n",
    "\n",
    "df['30_ahp'] = df['cumulative_30_plus'].apply(lambda x: 1 if x < 5 else (2 if 5 <= x < 15 else (3 if 15 <= x < 25 else (4 if 25 <= x < 35 else (5 if x >= 35 else None)))))\n",
    "\n",
    "df['50_ahp'] = df['cumulative_50_plus'].apply(lambda x: 1 if x < 5 else (2 if 5 <= x < 10 else (3 if 10 <= x < 20 else (4 if 20 <= x < 25 else (5 if x >= 25 else None)))))\n",
    "\n",
    "df['consistency'] = df['innings_ahp']*AHP[0][0] + df['avg_ahp']*AHP[1][0] + df['sr_ahp']*AHP[2][0] + df['30_ahp']*AHP[3][0] + df['50_ahp']*AHP[4][0]\n",
    "\n",
    "df.tail()"
   ]
  },
  {
   "cell_type": "code",
   "execution_count": 20,
   "metadata": {},
   "outputs": [],
   "source": [
    "last_5_dismissed = []"
   ]
  },
  {
   "cell_type": "code",
   "execution_count": 21,
   "metadata": {},
   "outputs": [
    {
     "name": "stderr",
     "output_type": "stream",
     "text": [
      "C:\\Users\\Pranav Koka\\AppData\\Local\\Temp\\ipykernel_30864\\3110349524.py:8: DeprecationWarning: DataFrameGroupBy.apply operated on the grouping columns. This behavior is deprecated, and in a future version of pandas the grouping columns will be excluded from the operation. Either pass `include_groups=False` to exclude the groupings or explicitly select the grouping columns after groupby to silence this warning.\n",
      "  rolling_stats = grouped.apply(\n"
     ]
    }
   ],
   "source": [
    "# Step 1: Sort the DataFrame by batter and match_id\n",
    "df_sorted = df.sort_values(by=['batter', 'match_id'])\n",
    "\n",
    "# Step 2: Group by batter\n",
    "grouped = df_sorted.groupby('batter', group_keys=False)\n",
    "\n",
    "# Step 3: Calculate rolling statistics\n",
    "rolling_stats = grouped.apply(\n",
    "    lambda x: x.assign(\n",
    "        total_runs_5_inc=x['batter_score'].rolling(5, min_periods=1).sum(),\n",
    "        balls_faced_5_inc=x['batter_total_balls'].rolling(5, min_periods=1).sum(),\n",
    "        dismissals_5_inc=x['dismissed'].rolling(5, min_periods=1).sum(),\n",
    "        no_of_30_plus_5_inc=x['batter_score'].rolling(5, min_periods=1).apply(lambda y: ((y >= 30) & (y < 50)).sum()),\n",
    "        no_of_50_plus_5_inc=x['batter_score'].rolling(5, min_periods=1).apply(lambda y: (y >= 50).sum())\n",
    "    )\n",
    ")\n",
    "\n",
    "rolling_stats = rolling_stats.reset_index(drop=True)\n",
    "\n",
    "rolling_stats['total_runs_5'] = rolling_stats.groupby('batter')['total_runs_5_inc'].shift(1).fillna(0).astype(int)\n",
    "rolling_stats['balls_faced_5'] = rolling_stats.groupby('batter')['balls_faced_5_inc'].shift(1).fillna(0).astype(int)\n",
    "rolling_stats['dismissals_5'] = rolling_stats.groupby('batter')['dismissals_5_inc'].shift(1).fillna(0).astype(int)\n",
    "rolling_stats['no_of_30_plus_5'] = rolling_stats.groupby('batter')['no_of_30_plus_5_inc'].shift(1).fillna(0).astype(int)\n",
    "rolling_stats['no_of_50_plus_5'] = rolling_stats.groupby('batter')['no_of_50_plus_5_inc'].shift(1).fillna(0).astype(int)\n",
    "\n",
    "# # Calculate mean for the first 4 matches\n",
    "# means = rolling_stats.groupby('batter')[['total_runs_5', 'balls_faced_5', 'dismissals_5', 'no_of_30_plus_5', 'no_of_50_plus_5']].transform('mean')\n",
    "# means = means.astype(float)\n",
    "\n",
    "# # Replace the first 4 matches with the mean\n",
    "# for col in ['total_runs_5', 'balls_faced_5', 'dismissals_5', 'no_of_30_plus_5', 'no_of_50_plus_5']:\n",
    "#     rolling_stats.loc[rolling_stats.groupby('batter').cumcount() < 4, col] = means[col].astype(rolling_stats[col].dtype)\n",
    "\n",
    "# Reset index to match the original DataFrame\n",
    "rolling_stats = rolling_stats.reset_index(drop=True)\n",
    "\n",
    "# Step 4: Compute required metrics\n",
    "rolling_stats['average_5'] = np.where(\n",
    "    rolling_stats['dismissals_5'] == 0,\n",
    "    rolling_stats['total_runs_5'],\n",
    "    rolling_stats['total_runs_5'] / rolling_stats['dismissals_5']\n",
    ")\n",
    "rolling_stats['strike_rate_5'] = rolling_stats['total_runs_5'] / rolling_stats['balls_faced_5'] * 100\n",
    "\n",
    "rolling_stats.loc[rolling_stats.groupby('batter').cumcount() < 5, ['no_of_30_plus_5', 'no_of_50_plus_5', 'average_5', 'strike_rate_5']] = 0"
   ]
  },
  {
   "cell_type": "code",
   "execution_count": 22,
   "metadata": {},
   "outputs": [
    {
     "data": {
      "text/html": [
       "<div>\n",
       "<style scoped>\n",
       "    .dataframe tbody tr th:only-of-type {\n",
       "        vertical-align: middle;\n",
       "    }\n",
       "\n",
       "    .dataframe tbody tr th {\n",
       "        vertical-align: top;\n",
       "    }\n",
       "\n",
       "    .dataframe thead th {\n",
       "        text-align: right;\n",
       "    }\n",
       "</style>\n",
       "<table border=\"1\" class=\"dataframe\">\n",
       "  <thead>\n",
       "    <tr style=\"text-align: right;\">\n",
       "      <th></th>\n",
       "      <th>match_id</th>\n",
       "      <th>inning</th>\n",
       "      <th>batter_total_balls</th>\n",
       "      <th>batter_score</th>\n",
       "      <th>dismissed</th>\n",
       "      <th>average</th>\n",
       "      <th>strike_rate</th>\n",
       "      <th>cumulative_30_plus</th>\n",
       "      <th>cumulative_50_plus</th>\n",
       "      <th>innings_played</th>\n",
       "      <th>...</th>\n",
       "      <th>30_ahp</th>\n",
       "      <th>50_ahp</th>\n",
       "      <th>consistency</th>\n",
       "      <th>total_runs_5</th>\n",
       "      <th>balls_faced_5</th>\n",
       "      <th>dismissals_5</th>\n",
       "      <th>no_of_30_plus_5</th>\n",
       "      <th>no_of_50_plus_5</th>\n",
       "      <th>average_5</th>\n",
       "      <th>strike_rate_5</th>\n",
       "    </tr>\n",
       "  </thead>\n",
       "  <tbody>\n",
       "    <tr>\n",
       "      <th>count</th>\n",
       "      <td>1.559800e+04</td>\n",
       "      <td>15598.000000</td>\n",
       "      <td>15598.000000</td>\n",
       "      <td>15598.000000</td>\n",
       "      <td>15598.000000</td>\n",
       "      <td>15598.000000</td>\n",
       "      <td>15598.000000</td>\n",
       "      <td>15598.000000</td>\n",
       "      <td>15598.000000</td>\n",
       "      <td>15598.000000</td>\n",
       "      <td>...</td>\n",
       "      <td>15598.000000</td>\n",
       "      <td>15598.000000</td>\n",
       "      <td>15598.000000</td>\n",
       "      <td>15598.000000</td>\n",
       "      <td>15598.000000</td>\n",
       "      <td>15598.000000</td>\n",
       "      <td>15598.000000</td>\n",
       "      <td>15598.000000</td>\n",
       "      <td>15598.000000</td>\n",
       "      <td>15598.000000</td>\n",
       "    </tr>\n",
       "    <tr>\n",
       "      <th>mean</th>\n",
       "      <td>8.714303e+05</td>\n",
       "      <td>1.508847</td>\n",
       "      <td>15.384536</td>\n",
       "      <td>19.961469</td>\n",
       "      <td>0.761316</td>\n",
       "      <td>24.977316</td>\n",
       "      <td>121.627021</td>\n",
       "      <td>7.234133</td>\n",
       "      <td>6.140403</td>\n",
       "      <td>43.598731</td>\n",
       "      <td>...</td>\n",
       "      <td>1.719515</td>\n",
       "      <td>1.741954</td>\n",
       "      <td>13.217555</td>\n",
       "      <td>93.813694</td>\n",
       "      <td>71.704257</td>\n",
       "      <td>3.439415</td>\n",
       "      <td>0.638223</td>\n",
       "      <td>0.507629</td>\n",
       "      <td>24.860312</td>\n",
       "      <td>106.640348</td>\n",
       "    </tr>\n",
       "    <tr>\n",
       "      <th>std</th>\n",
       "      <td>3.541843e+05</td>\n",
       "      <td>0.537512</td>\n",
       "      <td>13.559695</td>\n",
       "      <td>21.285340</td>\n",
       "      <td>0.426293</td>\n",
       "      <td>12.975611</td>\n",
       "      <td>37.635442</td>\n",
       "      <td>8.942576</td>\n",
       "      <td>9.452094</td>\n",
       "      <td>45.443286</td>\n",
       "      <td>...</td>\n",
       "      <td>0.960323</td>\n",
       "      <td>1.153766</td>\n",
       "      <td>4.654858</td>\n",
       "      <td>65.289572</td>\n",
       "      <td>44.937954</td>\n",
       "      <td>1.477020</td>\n",
       "      <td>0.829873</td>\n",
       "      <td>0.794956</td>\n",
       "      <td>22.480243</td>\n",
       "      <td>54.726463</td>\n",
       "    </tr>\n",
       "    <tr>\n",
       "      <th>min</th>\n",
       "      <td>3.359820e+05</td>\n",
       "      <td>1.000000</td>\n",
       "      <td>0.000000</td>\n",
       "      <td>0.000000</td>\n",
       "      <td>0.000000</td>\n",
       "      <td>0.000000</td>\n",
       "      <td>0.000000</td>\n",
       "      <td>0.000000</td>\n",
       "      <td>0.000000</td>\n",
       "      <td>1.000000</td>\n",
       "      <td>...</td>\n",
       "      <td>1.000000</td>\n",
       "      <td>1.000000</td>\n",
       "      <td>5.192834</td>\n",
       "      <td>0.000000</td>\n",
       "      <td>0.000000</td>\n",
       "      <td>0.000000</td>\n",
       "      <td>0.000000</td>\n",
       "      <td>0.000000</td>\n",
       "      <td>0.000000</td>\n",
       "      <td>0.000000</td>\n",
       "    </tr>\n",
       "    <tr>\n",
       "      <th>25%</th>\n",
       "      <td>5.483140e+05</td>\n",
       "      <td>1.000000</td>\n",
       "      <td>5.000000</td>\n",
       "      <td>4.000000</td>\n",
       "      <td>1.000000</td>\n",
       "      <td>17.090909</td>\n",
       "      <td>115.850004</td>\n",
       "      <td>0.000000</td>\n",
       "      <td>0.000000</td>\n",
       "      <td>9.000000</td>\n",
       "      <td>...</td>\n",
       "      <td>1.000000</td>\n",
       "      <td>1.000000</td>\n",
       "      <td>10.084793</td>\n",
       "      <td>43.000000</td>\n",
       "      <td>37.000000</td>\n",
       "      <td>3.000000</td>\n",
       "      <td>0.000000</td>\n",
       "      <td>0.000000</td>\n",
       "      <td>10.000000</td>\n",
       "      <td>93.158468</td>\n",
       "    </tr>\n",
       "    <tr>\n",
       "      <th>50%</th>\n",
       "      <td>8.298190e+05</td>\n",
       "      <td>1.000000</td>\n",
       "      <td>11.000000</td>\n",
       "      <td>13.000000</td>\n",
       "      <td>1.000000</td>\n",
       "      <td>26.234152</td>\n",
       "      <td>128.178211</td>\n",
       "      <td>4.000000</td>\n",
       "      <td>2.000000</td>\n",
       "      <td>27.000000</td>\n",
       "      <td>...</td>\n",
       "      <td>1.000000</td>\n",
       "      <td>1.000000</td>\n",
       "      <td>13.825907</td>\n",
       "      <td>87.000000</td>\n",
       "      <td>69.000000</td>\n",
       "      <td>4.000000</td>\n",
       "      <td>0.000000</td>\n",
       "      <td>0.000000</td>\n",
       "      <td>21.800000</td>\n",
       "      <td>120.833333</td>\n",
       "    </tr>\n",
       "    <tr>\n",
       "      <th>75%</th>\n",
       "      <td>1.216509e+06</td>\n",
       "      <td>2.000000</td>\n",
       "      <td>22.000000</td>\n",
       "      <td>29.000000</td>\n",
       "      <td>1.000000</td>\n",
       "      <td>32.318907</td>\n",
       "      <td>139.223111</td>\n",
       "      <td>11.000000</td>\n",
       "      <td>9.000000</td>\n",
       "      <td>64.000000</td>\n",
       "      <td>...</td>\n",
       "      <td>2.000000</td>\n",
       "      <td>2.000000</td>\n",
       "      <td>16.774741</td>\n",
       "      <td>135.000000</td>\n",
       "      <td>102.000000</td>\n",
       "      <td>5.000000</td>\n",
       "      <td>1.000000</td>\n",
       "      <td>1.000000</td>\n",
       "      <td>34.333333</td>\n",
       "      <td>140.659341</td>\n",
       "    </tr>\n",
       "    <tr>\n",
       "      <th>max</th>\n",
       "      <td>1.370353e+06</td>\n",
       "      <td>6.000000</td>\n",
       "      <td>73.000000</td>\n",
       "      <td>175.000000</td>\n",
       "      <td>1.000000</td>\n",
       "      <td>176.000000</td>\n",
       "      <td>600.000000</td>\n",
       "      <td>47.000000</td>\n",
       "      <td>64.000000</td>\n",
       "      <td>238.000000</td>\n",
       "      <td>...</td>\n",
       "      <td>5.000000</td>\n",
       "      <td>5.000000</td>\n",
       "      <td>23.640017</td>\n",
       "      <td>389.000000</td>\n",
       "      <td>255.000000</td>\n",
       "      <td>5.000000</td>\n",
       "      <td>5.000000</td>\n",
       "      <td>5.000000</td>\n",
       "      <td>306.000000</td>\n",
       "      <td>282.352941</td>\n",
       "    </tr>\n",
       "  </tbody>\n",
       "</table>\n",
       "<p>8 rows × 23 columns</p>\n",
       "</div>"
      ],
      "text/plain": [
       "           match_id        inning  batter_total_balls  batter_score  \\\n",
       "count  1.559800e+04  15598.000000        15598.000000  15598.000000   \n",
       "mean   8.714303e+05      1.508847           15.384536     19.961469   \n",
       "std    3.541843e+05      0.537512           13.559695     21.285340   \n",
       "min    3.359820e+05      1.000000            0.000000      0.000000   \n",
       "25%    5.483140e+05      1.000000            5.000000      4.000000   \n",
       "50%    8.298190e+05      1.000000           11.000000     13.000000   \n",
       "75%    1.216509e+06      2.000000           22.000000     29.000000   \n",
       "max    1.370353e+06      6.000000           73.000000    175.000000   \n",
       "\n",
       "          dismissed       average   strike_rate  cumulative_30_plus  \\\n",
       "count  15598.000000  15598.000000  15598.000000        15598.000000   \n",
       "mean       0.761316     24.977316    121.627021            7.234133   \n",
       "std        0.426293     12.975611     37.635442            8.942576   \n",
       "min        0.000000      0.000000      0.000000            0.000000   \n",
       "25%        1.000000     17.090909    115.850004            0.000000   \n",
       "50%        1.000000     26.234152    128.178211            4.000000   \n",
       "75%        1.000000     32.318907    139.223111           11.000000   \n",
       "max        1.000000    176.000000    600.000000           47.000000   \n",
       "\n",
       "       cumulative_50_plus  innings_played  ...        30_ahp        50_ahp  \\\n",
       "count        15598.000000    15598.000000  ...  15598.000000  15598.000000   \n",
       "mean             6.140403       43.598731  ...      1.719515      1.741954   \n",
       "std              9.452094       45.443286  ...      0.960323      1.153766   \n",
       "min              0.000000        1.000000  ...      1.000000      1.000000   \n",
       "25%              0.000000        9.000000  ...      1.000000      1.000000   \n",
       "50%              2.000000       27.000000  ...      1.000000      1.000000   \n",
       "75%              9.000000       64.000000  ...      2.000000      2.000000   \n",
       "max             64.000000      238.000000  ...      5.000000      5.000000   \n",
       "\n",
       "        consistency  total_runs_5  balls_faced_5  dismissals_5  \\\n",
       "count  15598.000000  15598.000000   15598.000000  15598.000000   \n",
       "mean      13.217555     93.813694      71.704257      3.439415   \n",
       "std        4.654858     65.289572      44.937954      1.477020   \n",
       "min        5.192834      0.000000       0.000000      0.000000   \n",
       "25%       10.084793     43.000000      37.000000      3.000000   \n",
       "50%       13.825907     87.000000      69.000000      4.000000   \n",
       "75%       16.774741    135.000000     102.000000      5.000000   \n",
       "max       23.640017    389.000000     255.000000      5.000000   \n",
       "\n",
       "       no_of_30_plus_5  no_of_50_plus_5     average_5  strike_rate_5  \n",
       "count     15598.000000     15598.000000  15598.000000   15598.000000  \n",
       "mean          0.638223         0.507629     24.860312     106.640348  \n",
       "std           0.829873         0.794956     22.480243      54.726463  \n",
       "min           0.000000         0.000000      0.000000       0.000000  \n",
       "25%           0.000000         0.000000     10.000000      93.158468  \n",
       "50%           0.000000         0.000000     21.800000     120.833333  \n",
       "75%           1.000000         1.000000     34.333333     140.659341  \n",
       "max           5.000000         5.000000    306.000000     282.352941  \n",
       "\n",
       "[8 rows x 23 columns]"
      ]
     },
     "execution_count": 22,
     "metadata": {},
     "output_type": "execute_result"
    }
   ],
   "source": [
    "df = pd.merge(df, rolling_stats[['total_runs_5', 'balls_faced_5', 'dismissals_5', 'no_of_30_plus_5', 'no_of_50_plus_5', 'average_5', 'strike_rate_5', 'batter', 'match_id']], on = ['batter', 'match_id'], how = 'left')\n",
    "\n",
    "df.describe()"
   ]
  },
  {
   "cell_type": "markdown",
   "metadata": {},
   "source": [
    "- No. of matches\n",
    "- Avg\n",
    "- S/R\n",
    "- no of 30\n",
    "- no of 50\n",
    "######\n",
    "- 1 is equal importance\n",
    "- 3 is moderate of one over another\n",
    "- 5 is essential\n",
    "- 7 is very strong\n",
    "- 9 is extreme importance\n",
    "######\n",
    "0    1    2     3     4     5\n",
    "\n",
    "1    1    1/4   1/6   1/4   1/7\n",
    "\n",
    "2    4    1     1/3   2     1/3\n",
    "\n",
    "3    6    3     1     4     1/2\n",
    "\n",
    "4    4    1/2   1/4   1     1/3\n",
    "\n",
    "5    7    3     2     3     1 \n",
    "\n",
    "\n"
   ]
  },
  {
   "cell_type": "code",
   "execution_count": 23,
   "metadata": {},
   "outputs": [],
   "source": [
    "matrix = np.array([\n",
    "    [1,    1/3,  2,    1/3],\n",
    "    [3,    1,    4,    1/2],\n",
    "    [1/2,  1/4,  1,    1/3],\n",
    "    [3,    2,    3,    1]\n",
    "])\n",
    "\n"
   ]
  },
  {
   "cell_type": "code",
   "execution_count": 24,
   "metadata": {},
   "outputs": [
    {
     "data": {
      "text/plain": [
       "array([[0.68658905],\n",
       "       [1.56508458],\n",
       "       [0.451801  ],\n",
       "       [2.05976714]])"
      ]
     },
     "execution_count": 24,
     "metadata": {},
     "output_type": "execute_result"
    }
   ],
   "source": [
    "A1 = np.ones((4,1))\n",
    "\n",
    "for i in range(4):\n",
    "    for j in range(4):\n",
    "        A1[i][0] *= matrix[i][j]\n",
    "    A1[i][0] = A1[i][0]**(1/4)\n",
    "# A1 = np.prod(matrix, axis=1) ** (1/5)\n",
    "# A1 = A1.reshape(-1, 1)\n",
    "np.set_printoptions(suppress=True)\n",
    "A1"
   ]
  },
  {
   "cell_type": "code",
   "execution_count": 25,
   "metadata": {},
   "outputs": [
    {
     "data": {
      "text/plain": [
       "array([[0.14414323],\n",
       "       [0.32857551],\n",
       "       [0.09485158],\n",
       "       [0.43242969]])"
      ]
     },
     "execution_count": 25,
     "metadata": {},
     "output_type": "execute_result"
    }
   ],
   "source": [
    "summation = A1.sum()\n",
    "summation\n",
    "A2 = A1/summation\n",
    "A2"
   ]
  },
  {
   "cell_type": "code",
   "execution_count": 26,
   "metadata": {},
   "outputs": [
    {
     "data": {
      "text/plain": [
       "array([[0.58751478],\n",
       "       [1.35662635],\n",
       "       [0.3932103 ],\n",
       "       [1.80656512]])"
      ]
     },
     "execution_count": 26,
     "metadata": {},
     "output_type": "execute_result"
    }
   ],
   "source": [
    "#AHP = np.ones((5,1))\n",
    "AHP = np.dot(matrix,A2)\n",
    "AHP"
   ]
  },
  {
   "cell_type": "code",
   "execution_count": 27,
   "metadata": {},
   "outputs": [
    {
     "data": {
      "text/plain": [
       "array([[4.0759097 ],\n",
       "       [4.12881156],\n",
       "       [4.14553246],\n",
       "       [4.17770838]])"
      ]
     },
     "execution_count": 27,
     "metadata": {},
     "output_type": "execute_result"
    }
   ],
   "source": [
    "A4 = AHP/A2\n",
    "A4"
   ]
  },
  {
   "cell_type": "code",
   "execution_count": 28,
   "metadata": {},
   "outputs": [
    {
     "data": {
      "text/plain": [
       "0.04399684124422679"
      ]
     },
     "execution_count": 28,
     "metadata": {},
     "output_type": "execute_result"
    }
   ],
   "source": [
    "mean = A4.mean()\n",
    "mean\n",
    "CI = (mean - 4) / 3\n",
    "CI"
   ]
  },
  {
   "cell_type": "code",
   "execution_count": 29,
   "metadata": {},
   "outputs": [
    {
     "data": {
      "text/plain": [
       "0.04943465308340089"
      ]
     },
     "execution_count": 29,
     "metadata": {},
     "output_type": "execute_result"
    }
   ],
   "source": [
    "CR = CI/0.89\n",
    "CR\n",
    "# CR SHOULD BE LESS THAN 0.1 "
   ]
  },
  {
   "cell_type": "code",
   "execution_count": 30,
   "metadata": {},
   "outputs": [
    {
     "data": {
      "text/html": [
       "<div>\n",
       "<style scoped>\n",
       "    .dataframe tbody tr th:only-of-type {\n",
       "        vertical-align: middle;\n",
       "    }\n",
       "\n",
       "    .dataframe tbody tr th {\n",
       "        vertical-align: top;\n",
       "    }\n",
       "\n",
       "    .dataframe thead th {\n",
       "        text-align: right;\n",
       "    }\n",
       "</style>\n",
       "<table border=\"1\" class=\"dataframe\">\n",
       "  <thead>\n",
       "    <tr style=\"text-align: right;\">\n",
       "      <th></th>\n",
       "      <th>match_id</th>\n",
       "      <th>inning</th>\n",
       "      <th>bowling_team</th>\n",
       "      <th>batter</th>\n",
       "      <th>batter_total_balls</th>\n",
       "      <th>batter_score</th>\n",
       "      <th>match_type</th>\n",
       "      <th>venue</th>\n",
       "      <th>dismissed</th>\n",
       "      <th>average</th>\n",
       "      <th>...</th>\n",
       "      <th>dismissals_5</th>\n",
       "      <th>no_of_30_plus_5</th>\n",
       "      <th>no_of_50_plus_5</th>\n",
       "      <th>average_5</th>\n",
       "      <th>strike_rate_5</th>\n",
       "      <th>avg_fahp</th>\n",
       "      <th>sr_fahp</th>\n",
       "      <th>30_fahp</th>\n",
       "      <th>50_fahp</th>\n",
       "      <th>form</th>\n",
       "    </tr>\n",
       "  </thead>\n",
       "  <tbody>\n",
       "    <tr>\n",
       "      <th>15593</th>\n",
       "      <td>1370353</td>\n",
       "      <td>2</td>\n",
       "      <td>Gujarat Titans</td>\n",
       "      <td>DP Conway</td>\n",
       "      <td>25.0</td>\n",
       "      <td>47</td>\n",
       "      <td>Final</td>\n",
       "      <td>Narendra Modi Stadium, Ahmedabad</td>\n",
       "      <td>1</td>\n",
       "      <td>46.157895</td>\n",
       "      <td>...</td>\n",
       "      <td>5</td>\n",
       "      <td>3</td>\n",
       "      <td>1</td>\n",
       "      <td>42.200000</td>\n",
       "      <td>124.852071</td>\n",
       "      <td>4</td>\n",
       "      <td>2</td>\n",
       "      <td>3</td>\n",
       "      <td>1</td>\n",
       "      <td>8.049508</td>\n",
       "    </tr>\n",
       "    <tr>\n",
       "      <th>15594</th>\n",
       "      <td>1370353</td>\n",
       "      <td>2</td>\n",
       "      <td>Gujarat Titans</td>\n",
       "      <td>MS Dhoni</td>\n",
       "      <td>1.0</td>\n",
       "      <td>0</td>\n",
       "      <td>Final</td>\n",
       "      <td>Narendra Modi Stadium, Ahmedabad</td>\n",
       "      <td>1</td>\n",
       "      <td>37.094891</td>\n",
       "      <td>...</td>\n",
       "      <td>2</td>\n",
       "      <td>0</td>\n",
       "      <td>0</td>\n",
       "      <td>15.000000</td>\n",
       "      <td>142.857143</td>\n",
       "      <td>1</td>\n",
       "      <td>3</td>\n",
       "      <td>1</td>\n",
       "      <td>1</td>\n",
       "      <td>6.857169</td>\n",
       "    </tr>\n",
       "    <tr>\n",
       "      <th>15595</th>\n",
       "      <td>1370353</td>\n",
       "      <td>2</td>\n",
       "      <td>Gujarat Titans</td>\n",
       "      <td>RA Jadeja</td>\n",
       "      <td>6.0</td>\n",
       "      <td>15</td>\n",
       "      <td>Final</td>\n",
       "      <td>Narendra Modi Stadium, Ahmedabad</td>\n",
       "      <td>0</td>\n",
       "      <td>25.254717</td>\n",
       "      <td>...</td>\n",
       "      <td>4</td>\n",
       "      <td>0</td>\n",
       "      <td>0</td>\n",
       "      <td>23.750000</td>\n",
       "      <td>130.136986</td>\n",
       "      <td>2</td>\n",
       "      <td>3</td>\n",
       "      <td>1</td>\n",
       "      <td>1</td>\n",
       "      <td>7.444684</td>\n",
       "    </tr>\n",
       "    <tr>\n",
       "      <th>15596</th>\n",
       "      <td>1370353</td>\n",
       "      <td>2</td>\n",
       "      <td>Gujarat Titans</td>\n",
       "      <td>RD Gaikwad</td>\n",
       "      <td>16.0</td>\n",
       "      <td>26</td>\n",
       "      <td>Final</td>\n",
       "      <td>Narendra Modi Stadium, Ahmedabad</td>\n",
       "      <td>1</td>\n",
       "      <td>41.186047</td>\n",
       "      <td>...</td>\n",
       "      <td>5</td>\n",
       "      <td>1</td>\n",
       "      <td>2</td>\n",
       "      <td>42.000000</td>\n",
       "      <td>148.936170</td>\n",
       "      <td>4</td>\n",
       "      <td>3</td>\n",
       "      <td>1</td>\n",
       "      <td>2</td>\n",
       "      <td>10.426279</td>\n",
       "    </tr>\n",
       "    <tr>\n",
       "      <th>15597</th>\n",
       "      <td>1370353</td>\n",
       "      <td>2</td>\n",
       "      <td>Gujarat Titans</td>\n",
       "      <td>S Dube</td>\n",
       "      <td>21.0</td>\n",
       "      <td>32</td>\n",
       "      <td>Final</td>\n",
       "      <td>Narendra Modi Stadium, Ahmedabad</td>\n",
       "      <td>0</td>\n",
       "      <td>28.263158</td>\n",
       "      <td>...</td>\n",
       "      <td>3</td>\n",
       "      <td>1</td>\n",
       "      <td>0</td>\n",
       "      <td>40.666667</td>\n",
       "      <td>160.526316</td>\n",
       "      <td>4</td>\n",
       "      <td>4</td>\n",
       "      <td>1</td>\n",
       "      <td>1</td>\n",
       "      <td>9.976340</td>\n",
       "    </tr>\n",
       "  </tbody>\n",
       "</table>\n",
       "<p>5 rows × 32 columns</p>\n",
       "</div>"
      ],
      "text/plain": [
       "       match_id  inning    bowling_team      batter  batter_total_balls  \\\n",
       "15593   1370353       2  Gujarat Titans   DP Conway                25.0   \n",
       "15594   1370353       2  Gujarat Titans    MS Dhoni                 1.0   \n",
       "15595   1370353       2  Gujarat Titans   RA Jadeja                 6.0   \n",
       "15596   1370353       2  Gujarat Titans  RD Gaikwad                16.0   \n",
       "15597   1370353       2  Gujarat Titans      S Dube                21.0   \n",
       "\n",
       "       batter_score match_type                             venue  dismissed  \\\n",
       "15593            47      Final  Narendra Modi Stadium, Ahmedabad          1   \n",
       "15594             0      Final  Narendra Modi Stadium, Ahmedabad          1   \n",
       "15595            15      Final  Narendra Modi Stadium, Ahmedabad          0   \n",
       "15596            26      Final  Narendra Modi Stadium, Ahmedabad          1   \n",
       "15597            32      Final  Narendra Modi Stadium, Ahmedabad          0   \n",
       "\n",
       "         average  ...  dismissals_5  no_of_30_plus_5  no_of_50_plus_5  \\\n",
       "15593  46.157895  ...             5                3                1   \n",
       "15594  37.094891  ...             2                0                0   \n",
       "15595  25.254717  ...             4                0                0   \n",
       "15596  41.186047  ...             5                1                2   \n",
       "15597  28.263158  ...             3                1                0   \n",
       "\n",
       "       average_5  strike_rate_5  avg_fahp  sr_fahp  30_fahp  50_fahp  \\\n",
       "15593  42.200000     124.852071         4        2        3        1   \n",
       "15594  15.000000     142.857143         1        3        1        1   \n",
       "15595  23.750000     130.136986         2        3        1        1   \n",
       "15596  42.000000     148.936170         4        3        1        2   \n",
       "15597  40.666667     160.526316         4        4        1        1   \n",
       "\n",
       "            form  \n",
       "15593   8.049508  \n",
       "15594   6.857169  \n",
       "15595   7.444684  \n",
       "15596  10.426279  \n",
       "15597   9.976340  \n",
       "\n",
       "[5 rows x 32 columns]"
      ]
     },
     "execution_count": 30,
     "metadata": {},
     "output_type": "execute_result"
    }
   ],
   "source": [
    "df['avg_fahp'] = df['average_5'].apply(lambda x: 1 if x < 20 else (2 if 20 <= x < 30 else (3 if 30 <= x < 40 else (4 if 40 <= x < 60 else (5 if x >= 60 else None)))))\n",
    "\n",
    "# bins = [-float('inf'), 10, 20, 30, 40, float('inf')]\n",
    "# labels = [1, 2, 3, 4, 5]\n",
    "\n",
    "# df['avg_fahp'] = pd.cut(df['average'], bins=bins, labels=labels, right=False)\n",
    "\n",
    "df['sr_fahp'] = df['strike_rate_5'].apply(lambda x: 1 if x < 110 else (2 if 110 <= x < 130 else (3 if 130 <= x < 160 else (4 if 160 <= x < 200 else (5 if x >= 200 else None)))))\n",
    "\n",
    "# df['innings_fahp'] = df['innings_played'].apply(lambda x: 1 if x < 20 else (2 if 20 <= x < 40 else (3 if 40 <= x < 60 else (4 if 60 <= x < 80 else (5 if x >= 80 else None)))))\n",
    "\n",
    "df['30_fahp'] = df['no_of_30_plus_5'].apply(lambda x: 1 if x < 2 else (2 if 2 <= x < 3 else (3 if 3 <= x < 4 else (4 if 4 <= x < 5 else (5 if x >= 5 else None)))))\n",
    "\n",
    "df['50_fahp'] = df['no_of_50_plus_5'].apply(lambda x: 1 if x < 2 else (2 if 2 <= x < 3 else (3 if 3 <= x < 4 else (4 if 4 <= x < 5 else (5 if x >= 5 else None)))))\n",
    "\n",
    "df['form'] = df['avg_fahp']*AHP[0][0] + df['sr_fahp']*AHP[1][0] + df['30_fahp']*AHP[2][0] + df['50_fahp']*AHP[3][0]\n",
    "\n",
    "df.tail()"
   ]
  },
  {
   "cell_type": "code",
   "execution_count": 31,
   "metadata": {},
   "outputs": [
    {
     "data": {
      "text/plain": [
       "Index(['match_id', 'inning', 'bowling_team', 'batter', 'batter_total_balls',\n",
       "       'batter_score', 'match_type', 'venue', 'dismissed', 'average',\n",
       "       'strike_rate', 'cumulative_30_plus', 'cumulative_50_plus',\n",
       "       'innings_played', 'avg_ahp', 'sr_ahp', 'innings_ahp', '30_ahp',\n",
       "       '50_ahp', 'consistency', 'total_runs_5', 'balls_faced_5',\n",
       "       'dismissals_5', 'no_of_30_plus_5', 'no_of_50_plus_5', 'average_5',\n",
       "       'strike_rate_5', 'avg_fahp', 'sr_fahp', '30_fahp', '50_fahp', 'form'],\n",
       "      dtype='object')"
      ]
     },
     "execution_count": 31,
     "metadata": {},
     "output_type": "execute_result"
    }
   ],
   "source": [
    "df.columns"
   ]
  },
  {
   "cell_type": "code",
   "execution_count": 32,
   "metadata": {},
   "outputs": [
    {
     "data": {
      "text/html": [
       "<div>\n",
       "<style scoped>\n",
       "    .dataframe tbody tr th:only-of-type {\n",
       "        vertical-align: middle;\n",
       "    }\n",
       "\n",
       "    .dataframe tbody tr th {\n",
       "        vertical-align: top;\n",
       "    }\n",
       "\n",
       "    .dataframe thead th {\n",
       "        text-align: right;\n",
       "    }\n",
       "</style>\n",
       "<table border=\"1\" class=\"dataframe\">\n",
       "  <thead>\n",
       "    <tr style=\"text-align: right;\">\n",
       "      <th></th>\n",
       "      <th>batter</th>\n",
       "      <th>inning</th>\n",
       "      <th>bowling_team</th>\n",
       "      <th>average</th>\n",
       "      <th>strike_rate</th>\n",
       "      <th>cumulative_30_plus</th>\n",
       "      <th>cumulative_50_plus</th>\n",
       "      <th>innings_played</th>\n",
       "      <th>no_of_30_plus_5</th>\n",
       "      <th>no_of_50_plus_5</th>\n",
       "      <th>average_5</th>\n",
       "      <th>strike_rate_5</th>\n",
       "      <th>batter_score</th>\n",
       "    </tr>\n",
       "  </thead>\n",
       "  <tbody>\n",
       "    <tr>\n",
       "      <th>0</th>\n",
       "      <td>BB McCullum</td>\n",
       "      <td>1</td>\n",
       "      <td>Royal Challengers Bangalore</td>\n",
       "      <td>0.0</td>\n",
       "      <td>0.0</td>\n",
       "      <td>0</td>\n",
       "      <td>0</td>\n",
       "      <td>1</td>\n",
       "      <td>0</td>\n",
       "      <td>0</td>\n",
       "      <td>0.0</td>\n",
       "      <td>0.0</td>\n",
       "      <td>158</td>\n",
       "    </tr>\n",
       "    <tr>\n",
       "      <th>1</th>\n",
       "      <td>DJ Hussey</td>\n",
       "      <td>1</td>\n",
       "      <td>Royal Challengers Bangalore</td>\n",
       "      <td>0.0</td>\n",
       "      <td>0.0</td>\n",
       "      <td>0</td>\n",
       "      <td>0</td>\n",
       "      <td>1</td>\n",
       "      <td>0</td>\n",
       "      <td>0</td>\n",
       "      <td>0.0</td>\n",
       "      <td>0.0</td>\n",
       "      <td>12</td>\n",
       "    </tr>\n",
       "    <tr>\n",
       "      <th>2</th>\n",
       "      <td>Mohammad Hafeez</td>\n",
       "      <td>1</td>\n",
       "      <td>Royal Challengers Bangalore</td>\n",
       "      <td>0.0</td>\n",
       "      <td>0.0</td>\n",
       "      <td>0</td>\n",
       "      <td>0</td>\n",
       "      <td>1</td>\n",
       "      <td>0</td>\n",
       "      <td>0</td>\n",
       "      <td>0.0</td>\n",
       "      <td>0.0</td>\n",
       "      <td>5</td>\n",
       "    </tr>\n",
       "    <tr>\n",
       "      <th>3</th>\n",
       "      <td>RT Ponting</td>\n",
       "      <td>1</td>\n",
       "      <td>Royal Challengers Bangalore</td>\n",
       "      <td>0.0</td>\n",
       "      <td>0.0</td>\n",
       "      <td>0</td>\n",
       "      <td>0</td>\n",
       "      <td>1</td>\n",
       "      <td>0</td>\n",
       "      <td>0</td>\n",
       "      <td>0.0</td>\n",
       "      <td>0.0</td>\n",
       "      <td>20</td>\n",
       "    </tr>\n",
       "    <tr>\n",
       "      <th>4</th>\n",
       "      <td>SC Ganguly</td>\n",
       "      <td>1</td>\n",
       "      <td>Royal Challengers Bangalore</td>\n",
       "      <td>0.0</td>\n",
       "      <td>0.0</td>\n",
       "      <td>0</td>\n",
       "      <td>0</td>\n",
       "      <td>1</td>\n",
       "      <td>0</td>\n",
       "      <td>0</td>\n",
       "      <td>0.0</td>\n",
       "      <td>0.0</td>\n",
       "      <td>10</td>\n",
       "    </tr>\n",
       "  </tbody>\n",
       "</table>\n",
       "</div>"
      ],
      "text/plain": [
       "            batter  inning                 bowling_team  average  strike_rate  \\\n",
       "0      BB McCullum       1  Royal Challengers Bangalore      0.0          0.0   \n",
       "1        DJ Hussey       1  Royal Challengers Bangalore      0.0          0.0   \n",
       "2  Mohammad Hafeez       1  Royal Challengers Bangalore      0.0          0.0   \n",
       "3       RT Ponting       1  Royal Challengers Bangalore      0.0          0.0   \n",
       "4       SC Ganguly       1  Royal Challengers Bangalore      0.0          0.0   \n",
       "\n",
       "   cumulative_30_plus  cumulative_50_plus  innings_played  no_of_30_plus_5  \\\n",
       "0                   0                   0               1                0   \n",
       "1                   0                   0               1                0   \n",
       "2                   0                   0               1                0   \n",
       "3                   0                   0               1                0   \n",
       "4                   0                   0               1                0   \n",
       "\n",
       "   no_of_50_plus_5  average_5  strike_rate_5  batter_score  \n",
       "0                0        0.0            0.0           158  \n",
       "1                0        0.0            0.0            12  \n",
       "2                0        0.0            0.0             5  \n",
       "3                0        0.0            0.0            20  \n",
       "4                0        0.0            0.0            10  "
      ]
     },
     "execution_count": 32,
     "metadata": {},
     "output_type": "execute_result"
    }
   ],
   "source": [
    "model_df = pd.DataFrame()\n",
    "#model_df[['batter', 'inning', 'bowling_team', 'consistency', 'form', 'batter_score']] = df[['batter','inning', 'bowling_team', 'consistency', 'form', 'batter_score']]\n",
    "model_df[['batter', 'inning', 'bowling_team', 'average', 'strike_rate', 'cumulative_30_plus', 'cumulative_50_plus', 'innings_played', 'no_of_30_plus_5', 'no_of_50_plus_5', 'average_5', \n",
    "          'strike_rate_5', 'batter_score']] = df[['batter', 'inning', 'bowling_team', 'average',\n",
    "       'strike_rate', 'cumulative_30_plus', 'cumulative_50_plus',\n",
    "       'innings_played', 'no_of_30_plus_5', 'no_of_50_plus_5', 'average_5',\n",
    "       'strike_rate_5', 'batter_score']]\n",
    "model_df.head()"
   ]
  },
  {
   "cell_type": "code",
   "execution_count": 33,
   "metadata": {},
   "outputs": [
    {
     "name": "stderr",
     "output_type": "stream",
     "text": [
      "C:\\Users\\Pranav Koka\\AppData\\Local\\Temp\\ipykernel_30864\\3227728890.py:3: SettingWithCopyWarning: \n",
      "A value is trying to be set on a copy of a slice from a DataFrame\n",
      "\n",
      "See the caveats in the documentation: https://pandas.pydata.org/pandas-docs/stable/user_guide/indexing.html#returning-a-view-versus-a-copy\n",
      "  gdf.drop(columns=['batter'], inplace=True)\n"
     ]
    }
   ],
   "source": [
    "player = 'V Kohli'\n",
    "gdf = model_df[model_df['batter'] == player]\n",
    "gdf.drop(columns=['batter'], inplace=True)"
   ]
  },
  {
   "cell_type": "code",
   "execution_count": 34,
   "metadata": {},
   "outputs": [
    {
     "data": {
      "text/plain": [
       "Index(['inning', 'bowling_team', 'average', 'strike_rate',\n",
       "       'cumulative_30_plus', 'cumulative_50_plus', 'innings_played',\n",
       "       'no_of_30_plus_5', 'no_of_50_plus_5', 'average_5', 'strike_rate_5',\n",
       "       'batter_score'],\n",
       "      dtype='object')"
      ]
     },
     "execution_count": 34,
     "metadata": {},
     "output_type": "execute_result"
    }
   ],
   "source": [
    "gdf.columns"
   ]
  },
  {
   "cell_type": "code",
   "execution_count": 35,
   "metadata": {},
   "outputs": [
    {
     "data": {
      "text/plain": [
       "array([[2, 'Kolkata Knight Riders', 0.0, ..., 0, 0.0, 0.0],\n",
       "       [2, 'Mumbai Indians', 1.0, ..., 0, 0.0, 0.0],\n",
       "       [1, 'Rajasthan Royals', 12.0, ..., 0, 0.0, 0.0],\n",
       "       ...,\n",
       "       [1, 'Rajasthan Royals', 36.854922279792746, ..., 2, 28.2,\n",
       "        119.4915254237288],\n",
       "       [2, 'Sunrisers Hyderabad', 36.75773195876289, ..., 2, 31.8,\n",
       "        116.91176470588236],\n",
       "       [1, 'Gujarat Titans', 37.08205128205128, ..., 2, 41.0,\n",
       "        126.54320987654322]], dtype=object)"
      ]
     },
     "execution_count": 35,
     "metadata": {},
     "output_type": "execute_result"
    }
   ],
   "source": [
    "X = gdf.iloc[:, :-1].values\n",
    "y = gdf.iloc[:, -1].values\n",
    "X"
   ]
  },
  {
   "cell_type": "code",
   "execution_count": 36,
   "metadata": {},
   "outputs": [],
   "source": [
    "from sklearn.compose import ColumnTransformer\n",
    "from sklearn.preprocessing import OneHotEncoder\n",
    "ct = ColumnTransformer(transformers = [('encoder', OneHotEncoder(), [1])], remainder = 'passthrough')\n",
    "X = np.array(ct.fit_transform(X))\n"
   ]
  },
  {
   "cell_type": "code",
   "execution_count": 37,
   "metadata": {},
   "outputs": [
    {
     "data": {
      "text/plain": [
       "array([0.0, 0.0, 0.0, 0.0, 0.0, 0.0, 0.0, 0.0, 1.0, 0.0, 0.0, 0.0, 0.0,\n",
       "       0.0, 0.0, 0.0, 0.0, 2, 0.0, 0.0, 0, 0, 1, 0, 0, 0.0, 0.0],\n",
       "      dtype=object)"
      ]
     },
     "execution_count": 37,
     "metadata": {},
     "output_type": "execute_result"
    }
   ],
   "source": [
    "X[0]"
   ]
  },
  {
   "cell_type": "code",
   "execution_count": 38,
   "metadata": {},
   "outputs": [],
   "source": [
    "y = y.reshape(len(y), 1)"
   ]
  },
  {
   "cell_type": "code",
   "execution_count": 39,
   "metadata": {},
   "outputs": [],
   "source": [
    "from sklearn.model_selection import train_test_split\n",
    "X_train, X_test, y_train, y_test = train_test_split(X, y, test_size = 0.2, random_state = 5)"
   ]
  },
  {
   "cell_type": "code",
   "execution_count": 40,
   "metadata": {},
   "outputs": [
    {
     "data": {
      "text/plain": [
       "27"
      ]
     },
     "execution_count": 40,
     "metadata": {},
     "output_type": "execute_result"
    }
   ],
   "source": [
    "X_train.shape[1]"
   ]
  },
  {
   "cell_type": "code",
   "execution_count": 41,
   "metadata": {},
   "outputs": [
    {
     "name": "stdout",
     "output_type": "stream",
     "text": [
      "Maximum value in X_train: 230\n",
      "Maximum value in X_test: 231\n"
     ]
    }
   ],
   "source": [
    "# Check for very large values\n",
    "print(\"Maximum value in X_train:\", np.nanmax(X_train))\n",
    "print(\"Maximum value in X_test:\", np.nanmax(X_test))"
   ]
  },
  {
   "cell_type": "code",
   "execution_count": 42,
   "metadata": {},
   "outputs": [],
   "source": [
    "from sklearn.preprocessing import StandardScaler\n",
    "sc_X = StandardScaler()\n",
    "sc_y = StandardScaler()\n",
    "X_train[:, X_train.shape[1] - 10:] = sc_X.fit_transform(X_train[:, X_train.shape[1] - 10:])\n",
    "X_test[:, X_train.shape[1] - 10:] = sc_X.transform(X_test[:, X_train.shape[1] - 10:])\n",
    "y_train = sc_y.fit_transform(y_train)"
   ]
  },
  {
   "cell_type": "code",
   "execution_count": 43,
   "metadata": {},
   "outputs": [],
   "source": [
    "y_train = y_train.ravel()\n",
    "y_test = y_test.ravel()"
   ]
  },
  {
   "cell_type": "code",
   "execution_count": 44,
   "metadata": {},
   "outputs": [],
   "source": [
    "def MLR(X_train, y_train, X_test, y_test):\n",
    "    from sklearn.linear_model import LinearRegression\n",
    "    from sklearn.metrics import r2_score\n",
    "    regressor = LinearRegression()\n",
    "    regressor.fit(X_train, y_train)\n",
    "    y_pred = sc_y.inverse_transform(regressor.predict(X_test).reshape(-1,1))\n",
    "    np.set_printoptions(precision=2)\n",
    "    print(np.concatenate((y_pred.reshape(len(y_pred), 1), y_test.reshape(len(y_test), 1)), 1))\n",
    "    print(\"r2_score is \"+ str(r2_score(y_test, y_pred)))\n",
    "\n",
    "    # Reshape y_pred and y_test to 1D arrays\n",
    "    y_pred_1d = y_pred.ravel()\n",
    "    y_test_1d = y_test.ravel()\n",
    "\n",
    "    # Create a scatter plot of predicted values vs. actual values\n",
    "    X = np.linspace(1,len(y_pred_1d) + 1, len(y_pred_1d))\n",
    "    Y = y_test_1d - y_pred_1d\n",
    "    plt.bar(X, Y, color = 'red', label = 'Predicted Values')\n",
    "    plt.xlabel('Test set number')\n",
    "    plt.ylabel('Actual - Prediction')\n",
    "    plt.title('Performance')\n",
    "    plt.show()"
   ]
  },
  {
   "cell_type": "code",
   "execution_count": 45,
   "metadata": {},
   "outputs": [],
   "source": [
    "def DT(X_train, y_train, X_test, y_test):\n",
    "    from sklearn.tree import DecisionTreeRegressor\n",
    "    from sklearn.metrics import r2_score\n",
    "    regressor = DecisionTreeRegressor(random_state = 0)\n",
    "    regressor.fit(X_train,y_train)\n",
    "    y_pred = sc_y.inverse_transform(regressor.predict(X_test).reshape(-1,1))\n",
    "    np.set_printoptions(precision=2)\n",
    "    print(np.concatenate((y_pred.reshape(len(y_pred), 1), y_test.reshape(len(y_test), 1)), 1))\n",
    "    print(\"r2_score is \"+ str(r2_score(y_test, y_pred)))\n",
    "\n",
    "    # Reshape y_pred and y_test to 1D arrays\n",
    "    y_pred_1d = y_pred.ravel()\n",
    "    y_test_1d = y_test.ravel()\n",
    "\n",
    "    # Create a scatter plot of predicted values vs. actual values\n",
    "    X = np.linspace(1,len(y_pred_1d) + 1, len(y_pred_1d))\n",
    "    Y = y_test_1d - y_pred_1d\n",
    "    plt.bar(X, Y, color = 'red', label = 'Predicted Values')\n",
    "    plt.xlabel('Test set number')\n",
    "    plt.ylabel('Actual - Prediction')\n",
    "    plt.title('Performance')\n",
    "    plt.show()"
   ]
  },
  {
   "cell_type": "code",
   "execution_count": 46,
   "metadata": {},
   "outputs": [],
   "source": [
    "def RF(X_train, y_train, X_test, y_test):    \n",
    "    from sklearn.ensemble import RandomForestRegressor\n",
    "    from sklearn.metrics import r2_score\n",
    "    regressor = RandomForestRegressor(n_estimators = 10, random_state = 0)\n",
    "    regressor.fit(X_train, y_train)\n",
    "    y_pred = sc_y.inverse_transform(regressor.predict(X_test).reshape(-1,1))\n",
    "    np.set_printoptions(precision=2)\n",
    "    print(np.concatenate((y_pred.reshape(len(y_pred), 1), y_test.reshape(len(y_test), 1)), 1))\n",
    "    print(\"r2_score is \"+ str(r2_score(y_test, y_pred)))\n",
    "    \n",
    "    # Reshape y_pred and y_test to 1D arrays\n",
    "    y_pred_1d = y_pred.ravel()\n",
    "    y_test_1d = y_test.ravel()\n",
    "\n",
    "    # Create a scatter plot of predicted values vs. actual values\n",
    "    X = np.linspace(1,len(y_pred_1d) + 1, len(y_pred_1d))\n",
    "    Y = y_test_1d - y_pred_1d\n",
    "    plt.bar(X, Y, color = 'red', label = 'Predicted Values')\n",
    "    plt.xlabel('Test set number')\n",
    "    plt.ylabel('Actual - Prediction')\n",
    "    plt.title('Performance')\n",
    "    plt.show()"
   ]
  },
  {
   "cell_type": "code",
   "execution_count": 47,
   "metadata": {},
   "outputs": [],
   "source": [
    "def SVR(X_train, y_train, X_test, y_test):    \n",
    "    from sklearn.svm import SVR\n",
    "    from sklearn.metrics import r2_score\n",
    "    import matplotlib.pyplot as plt\n",
    "    regressor = SVR(kernel = 'rbf')\n",
    "    regressor.fit(X_train, y_train)\n",
    "    y_pred = sc_y.inverse_transform(regressor.predict(X_test).reshape(-1,1))\n",
    "    np.set_printoptions(precision=2)\n",
    "    print(np.concatenate((y_pred.reshape(len(y_pred), 1), y_test.reshape(len(y_test), 1)), 1))\n",
    "    print(\"r2_score is \"+ str(r2_score(y_test, y_pred)))\n",
    "\n",
    "    # Reshape y_pred and y_test to 1D arrays\n",
    "    y_pred_1d = y_pred.ravel()\n",
    "    y_test_1d = y_test.ravel()\n",
    "\n",
    "    # Create a scatter plot of predicted values vs. actual values\n",
    "    X = np.linspace(1,len(y_pred_1d) + 1, len(y_pred_1d))\n",
    "    Y = y_test_1d - y_pred_1d\n",
    "    plt.bar(X, Y, color = 'red', label = 'Predicted Values')\n",
    "    plt.xlabel('Test set number')\n",
    "    plt.ylabel('Actual - Prediction')\n",
    "    plt.title('Performance')\n",
    "    plt.show()"
   ]
  },
  {
   "cell_type": "code",
   "execution_count": 48,
   "metadata": {},
   "outputs": [
    {
     "name": "stdout",
     "output_type": "stream",
     "text": [
      "[[ 40.21  20.  ]\n",
      " [ 30.16  25.  ]\n",
      " [ 32.45  43.  ]\n",
      " [ 33.55  12.  ]\n",
      " [ 38.65  58.  ]\n",
      " [  2.61  34.  ]\n",
      " [ 27.24  30.  ]\n",
      " [ 31.41  82.  ]\n",
      " [ 33.7    1.  ]\n",
      " [ 28.03   6.  ]\n",
      " [ 31.41   0.  ]\n",
      " [ 25.89  12.  ]\n",
      " [  6.    12.  ]\n",
      " [ 31.25   4.  ]\n",
      " [ 23.29   9.  ]\n",
      " [ 31.46  70.  ]\n",
      " [ 35.26  54.  ]\n",
      " [ 21.15  25.  ]\n",
      " [ 32.97  24.  ]\n",
      " [ 24.8   13.  ]\n",
      " [ 20.27  46.  ]\n",
      " [ 37.3    7.  ]\n",
      " [ 35.89  57.  ]\n",
      " [ 28.86  20.  ]\n",
      " [ 35.58  13.  ]\n",
      " [ 32.19  18.  ]\n",
      " [ 24.75   2.  ]\n",
      " [ 24.48  16.  ]\n",
      " [ 36.1   50.  ]\n",
      " [ 47.14  79.  ]\n",
      " [ 32.56  16.  ]\n",
      " [ 23.96  38.  ]\n",
      " [ 17.61  72.  ]\n",
      " [ 33.08  35.  ]\n",
      " [ 25.68  50.  ]\n",
      " [ 24.17  27.  ]\n",
      " [ 52.66  10.  ]\n",
      " [ 43.02  56.  ]\n",
      " [ 64.43 101.  ]\n",
      " [ 52.19  49.  ]\n",
      " [ 29.17  15.  ]\n",
      " [ 23.7  100.  ]\n",
      " [ 29.64  62.  ]\n",
      " [ 39.07   0.  ]\n",
      " [ 28.34   7.  ]\n",
      " [ 21.05   5.  ]\n",
      " [ 23.55   1.  ]]\n",
      "r2_score is 0.05498651183613179\n"
     ]
    },
    {
     "data": {
      "image/png": "[encoded data removed]",
      "text/plain": [
       "<Figure size 640x480 with 1 Axes>"
      ]
     },
     "metadata": {},
     "output_type": "display_data"
    }
   ],
   "source": [
    "MLR(X_train, y_train, X_test, y_test)"
   ]
  },
  {
   "cell_type": "code",
   "execution_count": 49,
   "metadata": {},
   "outputs": [
    {
     "name": "stdout",
     "output_type": "stream",
     "text": [
      "[[ 73.  20.]\n",
      " [ 61.  25.]\n",
      " [ 93.  43.]\n",
      " [ 75.  12.]\n",
      " [  8.  58.]\n",
      " [ 21.  34.]\n",
      " [ 38.  30.]\n",
      " [ 61.  82.]\n",
      " [ 92.   1.]\n",
      " [ 56.   6.]\n",
      " [ 17.   0.]\n",
      " [  4.  12.]\n",
      " [  9.  12.]\n",
      " [ 25.   4.]\n",
      " [ 23.   9.]\n",
      " [ 36.  70.]\n",
      " [ 61.  54.]\n",
      " [ 12.  25.]\n",
      " [ 16.  24.]\n",
      " [ 48.  13.]\n",
      " [ 33.  46.]\n",
      " [  9.   7.]\n",
      " [ 93.  57.]\n",
      " [ 92.  20.]\n",
      " [ 38.  13.]\n",
      " [ 51.  18.]\n",
      " [ 16.   2.]\n",
      " [ 24.  16.]\n",
      " [ 31.  50.]\n",
      " [ 75.  79.]\n",
      " [  4.  16.]\n",
      " [ 19.  38.]\n",
      " [  5.  72.]\n",
      " [ 35.  35.]\n",
      " [ 14.  50.]\n",
      " [ 56.  27.]\n",
      " [ 72.  10.]\n",
      " [ 99.  56.]\n",
      " [100. 101.]\n",
      " [ 14.  49.]\n",
      " [ 35.  15.]\n",
      " [ 31. 100.]\n",
      " [  7.  62.]\n",
      " [ 53.   0.]\n",
      " [ 32.   7.]\n",
      " [  0.   5.]\n",
      " [ 48.   1.]]\n",
      "r2_score is -0.8915821231398882\n"
     ]
    },
    {
     "data": {
      "image/png": "[encoded data removed]",
      "text/plain": [
       "<Figure size 640x480 with 1 Axes>"
      ]
     },
     "metadata": {},
     "output_type": "display_data"
    }
   ],
   "source": [
    "DT(X_train, y_train, X_test, y_test)"
   ]
  },
  {
   "cell_type": "code",
   "execution_count": 50,
   "metadata": {},
   "outputs": [
    {
     "name": "stdout",
     "output_type": "stream",
     "text": [
      "[[ 42.1  20. ]\n",
      " [ 45.6  25. ]\n",
      " [ 51.9  43. ]\n",
      " [ 38.2  12. ]\n",
      " [ 37.2  58. ]\n",
      " [ 18.8  34. ]\n",
      " [ 35.6  30. ]\n",
      " [ 48.7  82. ]\n",
      " [ 35.8   1. ]\n",
      " [ 21.5   6. ]\n",
      " [ 30.9   0. ]\n",
      " [ 36.4  12. ]\n",
      " [ 10.7  12. ]\n",
      " [ 34.8   4. ]\n",
      " [ 19.4   9. ]\n",
      " [ 25.7  70. ]\n",
      " [ 30.5  54. ]\n",
      " [ 23.   25. ]\n",
      " [ 24.8  24. ]\n",
      " [ 41.3  13. ]\n",
      " [ 30.8  46. ]\n",
      " [ 31.    7. ]\n",
      " [ 33.   57. ]\n",
      " [ 35.9  20. ]\n",
      " [ 34.4  13. ]\n",
      " [ 36.1  18. ]\n",
      " [ 12.2   2. ]\n",
      " [ 23.5  16. ]\n",
      " [ 37.7  50. ]\n",
      " [ 48.1  79. ]\n",
      " [ 25.6  16. ]\n",
      " [ 18.9  38. ]\n",
      " [ 19.4  72. ]\n",
      " [ 28.2  35. ]\n",
      " [ 15.2  50. ]\n",
      " [ 33.4  27. ]\n",
      " [ 51.6  10. ]\n",
      " [ 21.9  56. ]\n",
      " [ 63.  101. ]\n",
      " [ 37.4  49. ]\n",
      " [ 22.3  15. ]\n",
      " [ 39.  100. ]\n",
      " [ 29.6  62. ]\n",
      " [ 45.    0. ]\n",
      " [ 46.6   7. ]\n",
      " [ 33.9   5. ]\n",
      " [ 37.6   1. ]]\n",
      "r2_score is 0.008102441406853456\n"
     ]
    },
    {
     "data": {
      "image/png": "[encoded data removed]",
      "text/plain": [
       "<Figure size 640x480 with 1 Axes>"
      ]
     },
     "metadata": {},
     "output_type": "display_data"
    }
   ],
   "source": [
    "RF(X_train, y_train, X_test, y_test)"
   ]
  },
  {
   "cell_type": "code",
   "execution_count": 51,
   "metadata": {},
   "outputs": [
    {
     "name": "stdout",
     "output_type": "stream",
     "text": [
      "[[ 32.62  20.  ]\n",
      " [ 28.74  25.  ]\n",
      " [ 34.29  43.  ]\n",
      " [ 37.26  12.  ]\n",
      " [ 34.41  58.  ]\n",
      " [ 17.57  34.  ]\n",
      " [ 21.71  30.  ]\n",
      " [ 26.25  82.  ]\n",
      " [ 39.06   1.  ]\n",
      " [ 20.53   6.  ]\n",
      " [ 39.6    0.  ]\n",
      " [  3.96  12.  ]\n",
      " [  6.09  12.  ]\n",
      " [ 33.77   4.  ]\n",
      " [ 25.82   9.  ]\n",
      " [ 23.52  70.  ]\n",
      " [ 19.04  54.  ]\n",
      " [ 25.66  25.  ]\n",
      " [ 28.33  24.  ]\n",
      " [ 29.22  13.  ]\n",
      " [ 28.09  46.  ]\n",
      " [ 23.34   7.  ]\n",
      " [ 38.11  57.  ]\n",
      " [ 34.45  20.  ]\n",
      " [ 38.53  13.  ]\n",
      " [ 37.75  18.  ]\n",
      " [ 16.83   2.  ]\n",
      " [ 17.86  16.  ]\n",
      " [ 31.72  50.  ]\n",
      " [ 47.21  79.  ]\n",
      " [ 31.57  16.  ]\n",
      " [ 19.76  38.  ]\n",
      " [ 11.7   72.  ]\n",
      " [ 39.38  35.  ]\n",
      " [  9.78  50.  ]\n",
      " [ 30.32  27.  ]\n",
      " [ 44.07  10.  ]\n",
      " [ 31.55  56.  ]\n",
      " [ 27.62 101.  ]\n",
      " [ 40.01  49.  ]\n",
      " [ 31.95  15.  ]\n",
      " [ 28.61 100.  ]\n",
      " [ 21.63  62.  ]\n",
      " [ 24.22   0.  ]\n",
      " [ 19.76   7.  ]\n",
      " [ 22.61   5.  ]\n",
      " [  6.11   1.  ]]\n",
      "r2_score is -0.10408865422355396\n"
     ]
    },
    {
     "data": {
      "image/png": "[encoded data removed]",
      "text/plain": [
       "<Figure size 640x480 with 1 Axes>"
      ]
     },
     "metadata": {},
     "output_type": "display_data"
    }
   ],
   "source": [
    "SVR(X_train, y_train, X_test, y_test)"
   ]
  }
 ],
 "metadata": {
  "kernelspec": {
   "display_name": "Python 3",
   "language": "python",
   "name": "python3"
  },
  "language_info": {
   "codemirror_mode": {
    "name": "ipython",
    "version": 3
   },
   "file_extension": ".py",
   "mimetype": "text/x-python",
   "name": "python",
   "nbconvert_exporter": "python",
   "pygments_lexer": "ipython3",
   "version": "3.12.1"
  }
 },
 "nbformat": 4,
 "nbformat_minor": 2
}
