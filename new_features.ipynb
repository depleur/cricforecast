{
 "cells": [
  {
   "cell_type": "code",
   "execution_count": 1,
   "metadata": {},
   "outputs": [
    {
     "data": {
      "text/plain": [
       "Index(['match_id', 'inning', 'bowling_team', 'batter', 'batter_total_balls',\n",
       "       'batter_SR', 'batter_score', 'dismissal_kind', 'date', 'match_type',\n",
       "       'venue', 'no_of_right_arm_pacers_faced', 'no_of_left_arm_pacers_faced',\n",
       "       'no_of_right_arm_offspinners_faced',\n",
       "       'no_of_right_arm_legspinners_faced', 'no_of_left_arm_legspinners_faced',\n",
       "       'no_of_left_arm_offspinners_faced', 'score_last_5', 'balls_last_5',\n",
       "       'score_last_1', 'balls_last_1', 'score_last_2', 'balls_last_2',\n",
       "       'score_last_3', 'balls_last_3', 'score_last_4', 'balls_last_4'],\n",
       "      dtype='object')"
      ]
     },
     "execution_count": 1,
     "metadata": {},
     "output_type": "execute_result"
    }
   ],
   "source": [
    "import pandas as pd\n",
    "import numpy as np\n",
    "import matplotlib.pyplot as plt\n",
    "import seaborn as sns\n",
    "from sklearn.model_selection import train_test_split\n",
    "\n",
    "# Load the data\n",
    "df = pd.read_csv('data/aggregated_df.csv')\n",
    "df.columns"
   ]
  },
  {
   "cell_type": "markdown",
   "metadata": {},
   "source": [
    "## Add number of innings, avg and S/R up until that match, number of 30+ scores, number of 50+ scores, consistency, and form"
   ]
  },
  {
   "cell_type": "code",
   "execution_count": 2,
   "metadata": {},
   "outputs": [
    {
     "data": {
      "text/plain": [
       "Index(['match_id', 'inning', 'bowling_team', 'batter', 'batter_total_balls',\n",
       "       'batter_score', 'dismissal_kind', 'match_type', 'venue'],\n",
       "      dtype='object')"
      ]
     },
     "execution_count": 2,
     "metadata": {},
     "output_type": "execute_result"
    }
   ],
   "source": [
    "df.drop(columns = ['date', 'batter_SR', 'no_of_right_arm_pacers_faced', 'no_of_left_arm_pacers_faced', 'no_of_right_arm_offspinners_faced', \n",
    "                        'no_of_right_arm_legspinners_faced', 'no_of_left_arm_legspinners_faced', 'no_of_left_arm_offspinners_faced', \n",
    "                        'score_last_5', 'balls_last_5', 'score_last_1', 'balls_last_1', 'score_last_2', 'balls_last_2', 'score_last_3', \n",
    "                        'balls_last_3', 'score_last_4', 'balls_last_4'], inplace = True)\n",
    "df.columns"
   ]
  },
  {
   "cell_type": "code",
   "execution_count": 3,
   "metadata": {},
   "outputs": [],
   "source": [
    "# pd.isna(df['dismissal_kind'][len(df)-1])"
   ]
  },
  {
   "cell_type": "code",
   "execution_count": 4,
   "metadata": {},
   "outputs": [],
   "source": [
    "df['dismissed'] = df['dismissal_kind'].notna().astype(int)"
   ]
  },
  {
   "cell_type": "code",
   "execution_count": 5,
   "metadata": {},
   "outputs": [
    {
     "data": {
      "text/plain": [
       "0        0\n",
       "1        1\n",
       "2        0\n",
       "3        1\n",
       "4        1\n",
       "        ..\n",
       "15461    1\n",
       "15462    1\n",
       "15463    0\n",
       "15464    1\n",
       "15465    0\n",
       "Name: dismissed, Length: 15466, dtype: int64"
      ]
     },
     "execution_count": 5,
     "metadata": {},
     "output_type": "execute_result"
    }
   ],
   "source": [
    "df['dismissed']"
   ]
  },
  {
   "cell_type": "code",
   "execution_count": 6,
   "metadata": {},
   "outputs": [],
   "source": [
    "df.drop(columns = 'dismissal_kind', inplace = True)"
   ]
  },
  {
   "cell_type": "code",
   "execution_count": 7,
   "metadata": {},
   "outputs": [
    {
     "data": {
      "text/plain": [
       "Index(['match_id', 'inning', 'bowling_team', 'batter', 'batter_total_balls',\n",
       "       'batter_score', 'match_type', 'venue', 'dismissed'],\n",
       "      dtype='object')"
      ]
     },
     "execution_count": 7,
     "metadata": {},
     "output_type": "execute_result"
    }
   ],
   "source": [
    "df.columns"
   ]
  },
  {
   "cell_type": "code",
   "execution_count": 8,
   "metadata": {},
   "outputs": [],
   "source": [
    "# Number of innings\n",
    "df['no_of_matches'] = df.groupby('batter')['batter'].cumcount() + 1\n",
    "\n",
    "# Average\n",
    "df['average'] = df.groupby('batter')['batter_score'].cumsum() / df.groupby('batter')['dismissed'].cumsum()\n",
    "\n",
    "# Strike Rate (S/R)\n",
    "df['strike_rate'] = (df.groupby('batter')['batter_score'].cumsum() / df.groupby('batter')['batter_total_balls'].cumsum()) * 100\n",
    "\n",
    "# # Consistency\n",
    "# df['consistency'] = df.groupby('batter')['batter_score'].expanding().mean()\n",
    "\n",
    "# # Form\n",
    "# df['form'] = df.groupby('batter')['batter_score'].rolling(window=5, min_periods=1).mean().reset_index(level=0, drop=True)\n"
   ]
  },
  {
   "cell_type": "code",
   "execution_count": 9,
   "metadata": {},
   "outputs": [
    {
     "data": {
      "text/html": [
       "<div>\n",
       "<style scoped>\n",
       "    .dataframe tbody tr th:only-of-type {\n",
       "        vertical-align: middle;\n",
       "    }\n",
       "\n",
       "    .dataframe tbody tr th {\n",
       "        vertical-align: top;\n",
       "    }\n",
       "\n",
       "    .dataframe thead th {\n",
       "        text-align: right;\n",
       "    }\n",
       "</style>\n",
       "<table border=\"1\" class=\"dataframe\">\n",
       "  <thead>\n",
       "    <tr style=\"text-align: right;\">\n",
       "      <th></th>\n",
       "      <th>match_id</th>\n",
       "      <th>inning</th>\n",
       "      <th>bowling_team</th>\n",
       "      <th>batter</th>\n",
       "      <th>batter_total_balls</th>\n",
       "      <th>batter_score</th>\n",
       "      <th>match_type</th>\n",
       "      <th>venue</th>\n",
       "      <th>dismissed</th>\n",
       "      <th>no_of_matches</th>\n",
       "      <th>average</th>\n",
       "      <th>strike_rate</th>\n",
       "      <th>cumulative_30_plus</th>\n",
       "      <th>cumulative_50_plus</th>\n",
       "    </tr>\n",
       "  </thead>\n",
       "  <tbody>\n",
       "    <tr>\n",
       "      <th>15461</th>\n",
       "      <td>1370353</td>\n",
       "      <td>2</td>\n",
       "      <td>Gujarat Titans</td>\n",
       "      <td>DP Conway</td>\n",
       "      <td>25.0</td>\n",
       "      <td>47</td>\n",
       "      <td>Final</td>\n",
       "      <td>Narendra Modi Stadium, Ahmedabad</td>\n",
       "      <td>1</td>\n",
       "      <td>22</td>\n",
       "      <td>46.200000</td>\n",
       "      <td>141.284404</td>\n",
       "      <td>5</td>\n",
       "      <td>9</td>\n",
       "    </tr>\n",
       "    <tr>\n",
       "      <th>15462</th>\n",
       "      <td>1370353</td>\n",
       "      <td>2</td>\n",
       "      <td>Gujarat Titans</td>\n",
       "      <td>MS Dhoni</td>\n",
       "      <td>1.0</td>\n",
       "      <td>0</td>\n",
       "      <td>Final</td>\n",
       "      <td>Narendra Modi Stadium, Ahmedabad</td>\n",
       "      <td>1</td>\n",
       "      <td>217</td>\n",
       "      <td>36.826087</td>\n",
       "      <td>135.918695</td>\n",
       "      <td>41</td>\n",
       "      <td>24</td>\n",
       "    </tr>\n",
       "    <tr>\n",
       "      <th>15463</th>\n",
       "      <td>1370353</td>\n",
       "      <td>2</td>\n",
       "      <td>Gujarat Titans</td>\n",
       "      <td>RA Jadeja</td>\n",
       "      <td>6.0</td>\n",
       "      <td>15</td>\n",
       "      <td>Final</td>\n",
       "      <td>Narendra Modi Stadium, Ahmedabad</td>\n",
       "      <td>0</td>\n",
       "      <td>169</td>\n",
       "      <td>25.396226</td>\n",
       "      <td>128.619207</td>\n",
       "      <td>19</td>\n",
       "      <td>2</td>\n",
       "    </tr>\n",
       "    <tr>\n",
       "      <th>15464</th>\n",
       "      <td>1370353</td>\n",
       "      <td>2</td>\n",
       "      <td>Gujarat Titans</td>\n",
       "      <td>RD Gaikwad</td>\n",
       "      <td>16.0</td>\n",
       "      <td>26</td>\n",
       "      <td>Final</td>\n",
       "      <td>Narendra Modi Stadium, Ahmedabad</td>\n",
       "      <td>1</td>\n",
       "      <td>51</td>\n",
       "      <td>40.840909</td>\n",
       "      <td>135.520362</td>\n",
       "      <td>13</td>\n",
       "      <td>15</td>\n",
       "    </tr>\n",
       "    <tr>\n",
       "      <th>15465</th>\n",
       "      <td>1370353</td>\n",
       "      <td>2</td>\n",
       "      <td>Gujarat Titans</td>\n",
       "      <td>S Dube</td>\n",
       "      <td>21.0</td>\n",
       "      <td>32</td>\n",
       "      <td>Final</td>\n",
       "      <td>Narendra Modi Stadium, Ahmedabad</td>\n",
       "      <td>0</td>\n",
       "      <td>47</td>\n",
       "      <td>29.105263</td>\n",
       "      <td>141.794872</td>\n",
       "      <td>6</td>\n",
       "      <td>6</td>\n",
       "    </tr>\n",
       "  </tbody>\n",
       "</table>\n",
       "</div>"
      ],
      "text/plain": [
       "       match_id  inning    bowling_team      batter  batter_total_balls  \\\n",
       "15461   1370353       2  Gujarat Titans   DP Conway                25.0   \n",
       "15462   1370353       2  Gujarat Titans    MS Dhoni                 1.0   \n",
       "15463   1370353       2  Gujarat Titans   RA Jadeja                 6.0   \n",
       "15464   1370353       2  Gujarat Titans  RD Gaikwad                16.0   \n",
       "15465   1370353       2  Gujarat Titans      S Dube                21.0   \n",
       "\n",
       "       batter_score match_type                             venue  dismissed  \\\n",
       "15461            47      Final  Narendra Modi Stadium, Ahmedabad          1   \n",
       "15462             0      Final  Narendra Modi Stadium, Ahmedabad          1   \n",
       "15463            15      Final  Narendra Modi Stadium, Ahmedabad          0   \n",
       "15464            26      Final  Narendra Modi Stadium, Ahmedabad          1   \n",
       "15465            32      Final  Narendra Modi Stadium, Ahmedabad          0   \n",
       "\n",
       "       no_of_matches    average  strike_rate  cumulative_30_plus  \\\n",
       "15461             22  46.200000   141.284404                   5   \n",
       "15462            217  36.826087   135.918695                  41   \n",
       "15463            169  25.396226   128.619207                  19   \n",
       "15464             51  40.840909   135.520362                  13   \n",
       "15465             47  29.105263   141.794872                   6   \n",
       "\n",
       "       cumulative_50_plus  \n",
       "15461                   9  \n",
       "15462                  24  \n",
       "15463                   2  \n",
       "15464                  15  \n",
       "15465                   6  "
      ]
     },
     "execution_count": 9,
     "metadata": {},
     "output_type": "execute_result"
    }
   ],
   "source": [
    "df['cumulative_30_plus'] = df.groupby(['batter'])['batter_score'].apply(lambda x: (x.apply(lambda score: 1 if 30 <= score < 50 else 0)).cumsum()).reset_index(level=0, drop=True)\n",
    "df['cumulative_50_plus'] = df.groupby(['batter'])['batter_score'].apply(lambda x: (x.apply(lambda score: 1 if score >= 50 else 0)).cumsum()).reset_index(level=0, drop=True)\n",
    "\n",
    "df.tail()"
   ]
  },
  {
   "cell_type": "markdown",
   "metadata": {},
   "source": [
    "- No. of matches\n",
    "- Avg\n",
    "- S/R\n",
    "- no of 30\n",
    "- no of 50\n",
    "######\n",
    "- 1 is equal importance\n",
    "- 3 is moderate of one over another\n",
    "- 5 is essential\n",
    "- 7 is very strong\n",
    "- 9 is extreme importance\n",
    "######\n",
    "0    1    2     3     4     5\n",
    "\n",
    "1    1    1/4   1/6   1/3   1/4\n",
    "\n",
    "2    4    1     1/3   3     2\n",
    "\n",
    "3    6    3     1     6     5\n",
    "\n",
    "4    3    1/3   1/6   1     1/2\n",
    "\n",
    "5    4    1/2   1/5   2     1\n",
    "\n"
   ]
  },
  {
   "cell_type": "code",
   "execution_count": 10,
   "metadata": {},
   "outputs": [],
   "source": [
    "# Main comparison matrix (transposed)\n",
    "matrix = np.array([\n",
    "    [1,    1/4,  1/6,  1/3,  1/4],\n",
    "    [4,    1,    1/3,  3,    2  ],\n",
    "    [6,    3,    1,    6,    5  ],\n",
    "    [3,    1/3,  1/6,  1,    1/2],\n",
    "    [4,    1/2,  1/5,  2,    1  ]\n",
    "])\n",
    "\n",
    "# Scale of relative importance\n",
    "# scale = {\n",
    "#     1: \"equal importance\",\n",
    "#     3: \"moderate of one over another\",\n",
    "#     5: \"essential\",\n",
    "#     7: \"very strong\",\n",
    "#     9: \"extreme importance\"\n",
    "# }\n",
    "\n",
    "# You can access the scale like this: scale[1], scale[3], etc."
   ]
  }
 ],
 "metadata": {
  "kernelspec": {
   "display_name": "Python 3",
   "language": "python",
   "name": "python3"
  },
  "language_info": {
   "codemirror_mode": {
    "name": "ipython",
    "version": 3
   },
   "file_extension": ".py",
   "mimetype": "text/x-python",
   "name": "python",
   "nbconvert_exporter": "python",
   "pygments_lexer": "ipython3",
   "version": "3.11.9"
  }
 },
 "nbformat": 4,
 "nbformat_minor": 2
}
